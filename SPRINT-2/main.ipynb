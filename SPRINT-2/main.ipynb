{
 "cells": [
  {
   "cell_type": "markdown",
   "metadata": {},
   "source": [
    "### IMPORTAR BIBLIOTECAS"
   ]
  },
  {
   "cell_type": "code",
   "execution_count": 48,
   "metadata": {},
   "outputs": [],
   "source": [
    "from database_manager import DatabaseManager\n",
    "from generate_data import gen\n",
    "from collections import Counter, OrderedDict\n",
    "import matplotlib.pyplot as plt\n",
    "import numpy as np"
   ]
  },
  {
   "cell_type": "markdown",
   "metadata": {},
   "source": [
    "### GERAR DADOS"
   ]
  },
  {
   "cell_type": "code",
   "execution_count": null,
   "metadata": {},
   "outputs": [],
   "source": [
    "quantidade_dados = 100\n",
    "dados = gen(quantidade_dados)"
   ]
  },
  {
   "cell_type": "markdown",
   "metadata": {},
   "source": [
    "### INICIAR CONEXÃO COM BANCO DE DADOS (MySQL)"
   ]
  },
  {
   "cell_type": "code",
   "execution_count": null,
   "metadata": {},
   "outputs": [],
   "source": [
    "# CRIAR DATABASE \"grupodois\" ANTES DE INICIAR CONEXÃO\n",
    "db = DatabaseManager(\"localhost\", \"\", \"\", \"grupodois\")"
   ]
  },
  {
   "cell_type": "markdown",
   "metadata": {},
   "source": [
    "### OBTER DADOS (SELECT) DO BANCO"
   ]
  },
  {
   "cell_type": "code",
   "execution_count": null,
   "metadata": {},
   "outputs": [],
   "source": [
    "dados_select = db.select()\n",
    "print(len(dados_select))"
   ]
  },
  {
   "cell_type": "markdown",
   "metadata": {},
   "source": [
    "### INSERIR DADOS GERADOS NO BANCO"
   ]
  },
  {
   "cell_type": "code",
   "execution_count": null,
   "metadata": {},
   "outputs": [],
   "source": [
    "db.insert(dados)"
   ]
  },
  {
   "cell_type": "markdown",
   "metadata": {},
   "source": [
    "### DELETAR TODOS OS DADOS DO BANCO"
   ]
  },
  {
   "cell_type": "code",
   "execution_count": null,
   "metadata": {},
   "outputs": [],
   "source": [
    "db.delete()"
   ]
  },
  {
   "cell_type": "markdown",
   "metadata": {},
   "source": [
    "### ANALYTICS"
   ]
  },
  {
   "cell_type": "code",
   "execution_count": null,
   "metadata": {},
   "outputs": [],
   "source": [
    "# TODO: Nota das bolsas por estado/municipio (paulistas tem maiores notas?)\n",
    "# TODO: Nota das bolsas por sexo (mulheres tem maiores notas?)\n",
    "# TODO: Nota das bolsas por raça (brancos tem maiores notas?)\n",
    "# TODO: acesso a internet por raça (brancos estudam mais em escolas com acesso a internet?)\n",
    "# TODO: Nota das bolsas por acesso a internet (alunos em escolas com acesso a internet tem maiores notas?)\n",
    "# TODO: Curso por quantidade de bolsas (Medicina tem mais bolsas?)\n",
    "# TODO: Exame de seleção por nota das bolsas (Escolas com exame de seleção obtém alunos com melhores notas?)\n",
    "# TODO: Deficientes e escolas especizaliadas para deficientes por nota das bolsas (acesso de deficientes a escolas especiais proporcionam melhores notas?)\n",
    "# TODO: Falta de esgoto ou energia ou agua por nota das bolsas (escolas sem o básico possuem notas inferiores a escolas com o básico?)\n",
    "# TODO: idade por estado (os alunos mais persistentes (maior faixa etária) estão em SP?)\n",
    "# TODO: mensalidade por estado (alunos em universidades mais caras estão em SP?)\n",
    "# TODO: tempo de execução por memória usada (maior uso de memória implica em maior tempo de execução?)\n",
    "# TODO: ensino técnico porcentagem (é comum alunos com ensino técnico na escola passarem com mais frequencia com quem não tem?)"
   ]
  },
  {
   "cell_type": "code",
   "execution_count": 74,
   "metadata": {},
   "outputs": [
    {
     "data": {
      "image/png": "[encoded data removed]",
      "text/plain": [
       "<Figure size 432x288 with 1 Axes>"
      ]
     },
     "metadata": {
      "needs_background": "light"
     },
     "output_type": "display_data"
    }
   ],
   "source": [
    "fig, ax = plt.subplots()\n",
    "sexos = Counter(list(map(lambda x: x['sexo'], dados_select)))\n",
    "sexos_val = OrderedDict(sorted(sexos.items()))\n",
    "sexos = list(sexos_val.values())\n",
    "sexos_keys = list(sexos_val.keys())\n",
    "ax.bar(sexos_keys, sexos)\n",
    "ax.set_title(\"Distribuição dos Sexos\")\n",
    "ax.set_xticks(sexos_keys, labels=[\"Masculino\", \"Feminino\"])\n",
    "plt.show()"
   ]
  },
  {
   "cell_type": "code",
   "execution_count": 72,
   "metadata": {},
   "outputs": [
    {
     "data": {
      "image/png": "[encoded data removed]",
      "text/plain": [
       "<Figure size 432x288 with 1 Axes>"
      ]
     },
     "metadata": {
      "needs_background": "light"
     },
     "output_type": "display_data"
    }
   ],
   "source": [
    "fig, ax = plt.subplots()\n",
    "ax.hist(list(map(lambda x: x['idade'], dados_select)))\n",
    "ax.set_title(\"Distribuição das Idades\")\n",
    "ax.set_xlabel(\"Idade\")\n",
    "ax.set_ylabel(\"Quantidade\")\n",
    "plt.show()"
   ]
  },
  {
   "cell_type": "code",
   "execution_count": 67,
   "metadata": {},
   "outputs": [
    {
     "data": {
      "image/png": "[encoded data removed]",
      "text/plain": [
       "<Figure size 432x288 with 1 Axes>"
      ]
     },
     "metadata": {
      "needs_background": "light"
     },
     "output_type": "display_data"
    }
   ],
   "source": [
    "fig, ax = plt.subplots()\n",
    "racas = Counter(list(map(lambda x: x['raca'], dados_select)))\n",
    "racas_val = OrderedDict(sorted(racas.items()))\n",
    "racas = list(racas_val.values())\n",
    "racas_keys = list(racas_val.keys())\n",
    "ax.bar(racas_keys, racas)\n",
    "ax.set_title(\"Distribuição das Etnias\")\n",
    "ax.set_xticks(racas_keys, labels=[\"Branca\", \"Parda\", \"Preta\", \"Outros\"])\n",
    "plt.show()"
   ]
  }
 ],
 "metadata": {
  "interpreter": {
   "hash": "58be49b767b094dee4313909ba18efe56e3db0c7c599108d42442817f059333c"
  },
  "kernelspec": {
   "display_name": "Python 3.7.3 ('env': venv)",
   "language": "python",
   "name": "python3"
  },
  "language_info": {
   "codemirror_mode": {
    "name": "ipython",
    "version": 3
   },
   "file_extension": ".py",
   "mimetype": "text/x-python",
   "name": "python",
   "nbconvert_exporter": "python",
   "pygments_lexer": "ipython3",
   "version": "3.7.3"
  },
  "orig_nbformat": 4
 },
 "nbformat": 4,
 "nbformat_minor": 2
}
