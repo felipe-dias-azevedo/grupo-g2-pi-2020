{
 "cells": [
  {
   "cell_type": "code",
   "execution_count": 1,
   "metadata": {
    "collapsed": true,
    "pycharm": {
     "name": "#%%\n"
    }
   },
   "outputs": [],
   "source": [
    "from pyspark import SparkConf\n",
    "from pyspark.sql import SparkSession\n",
    "import pandas as pd\n",
    "import processing as procdata\n",
    "from tweets.fileutils import read as read_json_tweets\n",
    "\n",
    "#conf = SparkConf()\n",
    "# conf.set('spark.jars.packages', 'org.apache.hadoop:hadoop-aws:3.2.0')\n",
    "# conf.set('spark.hadoop.fs.s3a.aws.credentials.provider', 'com.amazonaws.auth.InstanceProfileCredentialsProvider')\n",
    "#spark = SparkSession.builder.config(conf=conf).getOrCreate()"
   ]
  },
  {
   "cell_type": "code",
   "execution_count": 6,
   "outputs": [
    {
     "name": "stderr",
     "output_type": "stream",
     "text": [
      "/var/folders/90/4r9_jk_s59n2616g7y9snmn00000gn/T/ipykernel_2320/3792589478.py:7: DtypeWarning: Columns (27) have mixed types. Specify dtype option on import or set low_memory=False.\n",
      "  file_edbasica = pd.read_csv(\"pure_data/microdados_ed_basica_2021.csv\", sep=\";\", encoding=\"latin-1\")\n"
     ]
    }
   ],
   "source": [
    "# SPARK\n",
    "\n",
    "\n",
    "# PANDAS\n",
    "file_geral_prouni = pd.DataFrame(pd.read_xml(\"pure_data/geralprouni.xml\"))\n",
    "file_addprouni = pd.read_json(\"pure_data/prouni.json\")\n",
    "file_edbasica = pd.read_csv(\"pure_data/microdados_ed_basica_2021.csv\", sep=\";\", encoding=\"latin-1\")\n",
    "raw_tweets = read_json_tweets(\"pure_data/tweets.json\")\n",
    "file_tweets = pd.DataFrame(raw_tweets['data'])"
   ],
   "metadata": {
    "collapsed": false,
    "pycharm": {
     "name": "#%%\n"
    }
   }
  },
  {
   "cell_type": "code",
   "execution_count": 3,
   "outputs": [
    {
     "name": "stdout",
     "output_type": "stream",
     "text": [
      "41447 rows\n"
     ]
    },
    {
     "data": {
      "text/plain": "       mensalidade estado    municipio                       curso  \\\n21005       388.57     MG      uberaba  Gestão de Recursos Humanos   \n1500       1628.40     CE    fortaleza                Fisioterapia   \n19395       431.88     AM       manaus         Gestão da Qualidade   \n3570       1283.00     RJ   petropolis                    Nutrição   \n30460       279.00     PR  campo largo              Gestão Pública   \n\n       quantidade_bolsas  nota_bolsa  \n21005                1.0  495.900000  \n1500                11.0  622.790000  \n19395                6.0  577.290000  \n3570                10.0  607.613333  \n30460                2.0  537.810000  ",
      "text/html": "<div>\n<style scoped>\n    .dataframe tbody tr th:only-of-type {\n        vertical-align: middle;\n    }\n\n    .dataframe tbody tr th {\n        vertical-align: top;\n    }\n\n    .dataframe thead th {\n        text-align: right;\n    }\n</style>\n<table border=\"1\" class=\"dataframe\">\n  <thead>\n    <tr style=\"text-align: right;\">\n      <th></th>\n      <th>mensalidade</th>\n      <th>estado</th>\n      <th>municipio</th>\n      <th>curso</th>\n      <th>quantidade_bolsas</th>\n      <th>nota_bolsa</th>\n    </tr>\n  </thead>\n  <tbody>\n    <tr>\n      <th>21005</th>\n      <td>388.57</td>\n      <td>MG</td>\n      <td>uberaba</td>\n      <td>Gestão de Recursos Humanos</td>\n      <td>1.0</td>\n      <td>495.900000</td>\n    </tr>\n    <tr>\n      <th>1500</th>\n      <td>1628.40</td>\n      <td>CE</td>\n      <td>fortaleza</td>\n      <td>Fisioterapia</td>\n      <td>11.0</td>\n      <td>622.790000</td>\n    </tr>\n    <tr>\n      <th>19395</th>\n      <td>431.88</td>\n      <td>AM</td>\n      <td>manaus</td>\n      <td>Gestão da Qualidade</td>\n      <td>6.0</td>\n      <td>577.290000</td>\n    </tr>\n    <tr>\n      <th>3570</th>\n      <td>1283.00</td>\n      <td>RJ</td>\n      <td>petropolis</td>\n      <td>Nutrição</td>\n      <td>10.0</td>\n      <td>607.613333</td>\n    </tr>\n    <tr>\n      <th>30460</th>\n      <td>279.00</td>\n      <td>PR</td>\n      <td>campo largo</td>\n      <td>Gestão Pública</td>\n      <td>2.0</td>\n      <td>537.810000</td>\n    </tr>\n  </tbody>\n</table>\n</div>"
     },
     "execution_count": 3,
     "metadata": {},
     "output_type": "execute_result"
    }
   ],
   "source": [
    "quantidade_bolsas = file_geral_prouni[['bolsa_integral_cotas', 'bolsa_integral_ampla', 'bolsa_parcial_cotas', 'bolsa_parcial_ampla']].sum(axis=1)\n",
    "nota_bolsa = file_geral_prouni[['nota_integral_ampla', 'nota_integral_cotas', 'nota_parcial_ampla', 'nota_parcial_cotas']].mean(axis=1)\n",
    "\n",
    "df_prouni = pd.DataFrame({\n",
    "    'mensalidade': file_geral_prouni['mensalidade'],\n",
    "    'estado': file_geral_prouni['uf_busca'],\n",
    "    'municipio': file_geral_prouni['cidade_busca'].map(procdata.no_accents_lower),\n",
    "    'curso': file_geral_prouni['nome'],\n",
    "    'quantidade_bolsas': quantidade_bolsas,\n",
    "    'nota_bolsa': nota_bolsa\n",
    "})\n",
    "df_prouni = df_prouni.dropna()\n",
    "print(df_prouni.__len__(), \"rows\")\n",
    "df_prouni.sample(n=5)"
   ],
   "metadata": {
    "collapsed": false,
    "pycharm": {
     "name": "#%%\n"
    }
   }
  },
  {
   "cell_type": "code",
   "execution_count": 4,
   "outputs": [
    {
     "name": "stdout",
     "output_type": "stream",
     "text": [
      "236636 rows\n"
     ]
    },
    {
     "data": {
      "text/plain": "                                     curso estado     municipio sexo   raca  \\\n144476                             Direito     PB     itabaiana    M  Parda   \n130201                          Psicologia     MG  juiz de fora    F  Parda   \n93486   Gestão Da Tecnologia Da Informação     DF      brasilia    M  Parda   \n173297                           Logística     GO    cristalina    F  Preta   \n138441                Processos Gerenciais     CE       caucaia    F  Parda   \n\n       deficiente       idade  \n144476          N  24/03/1997  \n130201          N  22/12/1998  \n93486           N  10/10/1987  \n173297          N  04/12/1995  \n138441          N  29/01/1979  ",
      "text/html": "<div>\n<style scoped>\n    .dataframe tbody tr th:only-of-type {\n        vertical-align: middle;\n    }\n\n    .dataframe tbody tr th {\n        vertical-align: top;\n    }\n\n    .dataframe thead th {\n        text-align: right;\n    }\n</style>\n<table border=\"1\" class=\"dataframe\">\n  <thead>\n    <tr style=\"text-align: right;\">\n      <th></th>\n      <th>curso</th>\n      <th>estado</th>\n      <th>municipio</th>\n      <th>sexo</th>\n      <th>raca</th>\n      <th>deficiente</th>\n      <th>idade</th>\n    </tr>\n  </thead>\n  <tbody>\n    <tr>\n      <th>144476</th>\n      <td>Direito</td>\n      <td>PB</td>\n      <td>itabaiana</td>\n      <td>M</td>\n      <td>Parda</td>\n      <td>N</td>\n      <td>24/03/1997</td>\n    </tr>\n    <tr>\n      <th>130201</th>\n      <td>Psicologia</td>\n      <td>MG</td>\n      <td>juiz de fora</td>\n      <td>F</td>\n      <td>Parda</td>\n      <td>N</td>\n      <td>22/12/1998</td>\n    </tr>\n    <tr>\n      <th>93486</th>\n      <td>Gestão Da Tecnologia Da Informação</td>\n      <td>DF</td>\n      <td>brasilia</td>\n      <td>M</td>\n      <td>Parda</td>\n      <td>N</td>\n      <td>10/10/1987</td>\n    </tr>\n    <tr>\n      <th>173297</th>\n      <td>Logística</td>\n      <td>GO</td>\n      <td>cristalina</td>\n      <td>F</td>\n      <td>Preta</td>\n      <td>N</td>\n      <td>04/12/1995</td>\n    </tr>\n    <tr>\n      <th>138441</th>\n      <td>Processos Gerenciais</td>\n      <td>CE</td>\n      <td>caucaia</td>\n      <td>F</td>\n      <td>Parda</td>\n      <td>N</td>\n      <td>29/01/1979</td>\n    </tr>\n  </tbody>\n</table>\n</div>"
     },
     "execution_count": 4,
     "metadata": {},
     "output_type": "execute_result"
    }
   ],
   "source": [
    "df_addprouni = pd.DataFrame({\n",
    "    'curso': file_addprouni['NOME_CURSO_BOLSA'],\n",
    "    'estado': file_addprouni['SIGLA_UF_BENEFICIARIO_BOLSA'],\n",
    "    'municipio': file_addprouni['MUNICIPIO_BENEFICIARIO_BOLSA'].map(procdata.no_accents_lower),\n",
    "    'sexo': file_addprouni['SEXO_BENEFICIARIO_BOLSA'],\n",
    "    'raca': file_addprouni['RACA_BENEFICIARIO_BOLSA'],\n",
    "    'deficiente': file_addprouni['BENEFICIARIO_DEFICIENTE_FISICO'],\n",
    "    'idade': file_addprouni['DT_NASCIMENTO_BENEFICIARIO']\n",
    "})\n",
    "df_addprouni = df_addprouni.dropna()\n",
    "print(df_addprouni.__len__(), \"rows\")\n",
    "df_addprouni.sample(n=5)"
   ],
   "metadata": {
    "collapsed": false,
    "pycharm": {
     "name": "#%%\n"
    }
   }
  },
  {
   "cell_type": "code",
   "execution_count": 5,
   "outputs": [
    {
     "name": "stdout",
     "output_type": "stream",
     "text": [
      "178370 rows\n"
     ]
    },
    {
     "data": {
      "text/plain": "       estado       municipio  esgoto_inexistente  energia_inexistente  \\\n130107     ES       cariacica                 0.0                  0.0   \n86366      BA  barra do choca                 0.0                  0.0   \n11599      PA      ananindeua                 0.0                  0.0   \n179092     SP    taquaritinga                 0.0                  0.0   \n16911      PA          maraba                 1.0                  0.0   \n\n        agua_inexistente  acesso_internet  faz_exame_selecao  \\\n130107               0.0              1.0                1.0   \n86366                0.0              1.0                0.0   \n11599                0.0              1.0                0.0   \n179092               0.0              1.0                0.0   \n16911                0.0              1.0                0.0   \n\n        especializada_deficientes  ensino_tecnico  \n130107                        1.0             1.0  \n86366                         1.0             0.0  \n11599                         1.0             0.0  \n179092                        0.0             0.0  \n16911                         1.0             0.0  ",
      "text/html": "<div>\n<style scoped>\n    .dataframe tbody tr th:only-of-type {\n        vertical-align: middle;\n    }\n\n    .dataframe tbody tr th {\n        vertical-align: top;\n    }\n\n    .dataframe thead th {\n        text-align: right;\n    }\n</style>\n<table border=\"1\" class=\"dataframe\">\n  <thead>\n    <tr style=\"text-align: right;\">\n      <th></th>\n      <th>estado</th>\n      <th>municipio</th>\n      <th>esgoto_inexistente</th>\n      <th>energia_inexistente</th>\n      <th>agua_inexistente</th>\n      <th>acesso_internet</th>\n      <th>faz_exame_selecao</th>\n      <th>especializada_deficientes</th>\n      <th>ensino_tecnico</th>\n    </tr>\n  </thead>\n  <tbody>\n    <tr>\n      <th>130107</th>\n      <td>ES</td>\n      <td>cariacica</td>\n      <td>0.0</td>\n      <td>0.0</td>\n      <td>0.0</td>\n      <td>1.0</td>\n      <td>1.0</td>\n      <td>1.0</td>\n      <td>1.0</td>\n    </tr>\n    <tr>\n      <th>86366</th>\n      <td>BA</td>\n      <td>barra do choca</td>\n      <td>0.0</td>\n      <td>0.0</td>\n      <td>0.0</td>\n      <td>1.0</td>\n      <td>0.0</td>\n      <td>1.0</td>\n      <td>0.0</td>\n    </tr>\n    <tr>\n      <th>11599</th>\n      <td>PA</td>\n      <td>ananindeua</td>\n      <td>0.0</td>\n      <td>0.0</td>\n      <td>0.0</td>\n      <td>1.0</td>\n      <td>0.0</td>\n      <td>1.0</td>\n      <td>0.0</td>\n    </tr>\n    <tr>\n      <th>179092</th>\n      <td>SP</td>\n      <td>taquaritinga</td>\n      <td>0.0</td>\n      <td>0.0</td>\n      <td>0.0</td>\n      <td>1.0</td>\n      <td>0.0</td>\n      <td>0.0</td>\n      <td>0.0</td>\n    </tr>\n    <tr>\n      <th>16911</th>\n      <td>PA</td>\n      <td>maraba</td>\n      <td>1.0</td>\n      <td>0.0</td>\n      <td>0.0</td>\n      <td>1.0</td>\n      <td>0.0</td>\n      <td>1.0</td>\n      <td>0.0</td>\n    </tr>\n  </tbody>\n</table>\n</div>"
     },
     "execution_count": 5,
     "metadata": {},
     "output_type": "execute_result"
    }
   ],
   "source": [
    "df_edbasica = pd.DataFrame({\n",
    "    'estado': file_edbasica['SG_UF'],\n",
    "    'municipio': file_edbasica['NO_MUNICIPIO'].map(procdata.no_accents_lower),\n",
    "    'esgoto_inexistente': file_edbasica['IN_ESGOTO_INEXISTENTE'],\n",
    "    'energia_inexistente': file_edbasica['IN_ENERGIA_INEXISTENTE'],\n",
    "    'agua_inexistente': file_edbasica['IN_AGUA_INEXISTENTE'],\n",
    "    'acesso_internet': file_edbasica['IN_INTERNET'],\n",
    "    'faz_exame_selecao': file_edbasica['IN_EXAME_SELECAO'],\n",
    "    'especializada_deficientes': file_edbasica['IN_ESP'],\n",
    "    'ensino_tecnico': file_edbasica['IN_PROF_TEC']\n",
    "})\n",
    "df_edbasica = df_edbasica.dropna()\n",
    "print(df_edbasica.__len__(), \"rows\")\n",
    "df_edbasica.sample(n=5)"
   ],
   "metadata": {
    "collapsed": false,
    "pycharm": {
     "name": "#%%\n"
    }
   }
  },
  {
   "cell_type": "code",
   "execution_count": 3,
   "outputs": [
    {
     "name": "stdout",
     "output_type": "stream",
     "text": [
      "207 rows\n"
     ]
    },
    {
     "data": {
      "text/plain": "     sentiment  positive                                           frequent  \\\n47     -0.5993     False  [(paguei, 1), (85, 1), (enem, 1), (p, 1), (con...   \n48     -0.4404     False  [(pessoas, 1), (sabiam, 1), (fiquei, 1), (quar...   \n27     -0.2960     False  [(sétimo, 1), (dia, 1), (faltando, 1), (faculd...   \n204    -0.1531     False  [(enem, 2), (olho, 1), (prazo, 1), (inscrições...   \n82      0.0000     False  [(comemorei, 1), (pq, 1), (consegui, 1), (bols...   \n\n     verified                      date  \n47      False  2022-05-22T13:47:32.000Z  \n48      False  2022-05-22T14:06:14.000Z  \n27      False  2022-05-23T12:31:37.000Z  \n204     False  2022-05-17T15:00:23.000Z  \n82      False  2022-05-21T00:04:16.000Z  ",
      "text/html": "<div>\n<style scoped>\n    .dataframe tbody tr th:only-of-type {\n        vertical-align: middle;\n    }\n\n    .dataframe tbody tr th {\n        vertical-align: top;\n    }\n\n    .dataframe thead th {\n        text-align: right;\n    }\n</style>\n<table border=\"1\" class=\"dataframe\">\n  <thead>\n    <tr style=\"text-align: right;\">\n      <th></th>\n      <th>sentiment</th>\n      <th>positive</th>\n      <th>frequent</th>\n      <th>verified</th>\n      <th>date</th>\n    </tr>\n  </thead>\n  <tbody>\n    <tr>\n      <th>47</th>\n      <td>-0.5993</td>\n      <td>False</td>\n      <td>[(paguei, 1), (85, 1), (enem, 1), (p, 1), (con...</td>\n      <td>False</td>\n      <td>2022-05-22T13:47:32.000Z</td>\n    </tr>\n    <tr>\n      <th>48</th>\n      <td>-0.4404</td>\n      <td>False</td>\n      <td>[(pessoas, 1), (sabiam, 1), (fiquei, 1), (quar...</td>\n      <td>False</td>\n      <td>2022-05-22T14:06:14.000Z</td>\n    </tr>\n    <tr>\n      <th>27</th>\n      <td>-0.2960</td>\n      <td>False</td>\n      <td>[(sétimo, 1), (dia, 1), (faltando, 1), (faculd...</td>\n      <td>False</td>\n      <td>2022-05-23T12:31:37.000Z</td>\n    </tr>\n    <tr>\n      <th>204</th>\n      <td>-0.1531</td>\n      <td>False</td>\n      <td>[(enem, 2), (olho, 1), (prazo, 1), (inscrições...</td>\n      <td>False</td>\n      <td>2022-05-17T15:00:23.000Z</td>\n    </tr>\n    <tr>\n      <th>82</th>\n      <td>0.0000</td>\n      <td>False</td>\n      <td>[(comemorei, 1), (pq, 1), (consegui, 1), (bols...</td>\n      <td>False</td>\n      <td>2022-05-21T00:04:16.000Z</td>\n    </tr>\n  </tbody>\n</table>\n</div>"
     },
     "execution_count": 3,
     "metadata": {},
     "output_type": "execute_result"
    }
   ],
   "source": [
    "tweetsdf = pd.DataFrame({\n",
    "    \"sentiment\": file_tweets[\"text\"].map(procdata.analyze_tweet_sentiment),\n",
    "    \"positive\": file_tweets[\"text\"].map(lambda text: procdata.analyze_tweet_sentiment(text) > 0),\n",
    "    \"frequent\": file_tweets[\"text\"].map(procdata.analyze_tweet_frequency),\n",
    "    \"verified\": file_tweets[\"author_id\"].map(lambda u: procdata.analyze_tweet_verified(u, raw_tweets[\"users\"])),\n",
    "    \"date\": file_tweets[\"created_at\"],\n",
    "})\n",
    "\n",
    "print(tweetsdf.__len__(), \"rows\")\n",
    "tweetsdf.sample(n=5)"
   ],
   "metadata": {
    "collapsed": false,
    "pycharm": {
     "name": "#%%\n"
    }
   }
  },
  {
   "cell_type": "code",
   "execution_count": 7,
   "outputs": [
    {
     "name": "stdout",
     "output_type": "stream",
     "text": [
      "25856 rows\n"
     ]
    },
    {
     "data": {
      "text/plain": "       mensalidade estado  municipio             curso  quantidade_bolsas  \\\n9294        884.29     RR  boa vista          Nutrição                3.0   \n4619       1191.00     SP   campinas        Psicologia                5.0   \n41339       149.00     SP      bauru  Gestão Comercial                1.0   \n41016       177.23     RN      natal         Pedagogia               11.0   \n38151       237.00     MA     balsas         Geografia                1.0   \n\n       nota_bolsa sexo    raca deficiente       idade  esgoto_inexistente  \\\n9294       602.04    F   Parda          N  13/09/1973                 0.0   \n4619       637.19    F   Parda          N  09/04/1999                 0.0   \n41339      450.00    F  Branca          N  03/05/1999                 0.0   \n41016      573.14    M   Parda          N  30/01/1974                 0.0   \n38151      559.84    F   Preta          N  08/05/1997                 0.0   \n\n       energia_inexistente  agua_inexistente  acesso_internet  \\\n9294                   0.0               0.0              1.0   \n4619                   0.0               0.0              1.0   \n41339                  0.0               0.0              1.0   \n41016                  0.0               0.0              1.0   \n38151                  0.0               0.0              1.0   \n\n       faz_exame_selecao  especializada_deficientes  ensino_tecnico  \n9294                 1.0                        1.0             1.0  \n4619                 0.0                        1.0             0.0  \n41339                0.0                        1.0             0.0  \n41016                0.0                        1.0             0.0  \n38151                0.0                        1.0             0.0  ",
      "text/html": "<div>\n<style scoped>\n    .dataframe tbody tr th:only-of-type {\n        vertical-align: middle;\n    }\n\n    .dataframe tbody tr th {\n        vertical-align: top;\n    }\n\n    .dataframe thead th {\n        text-align: right;\n    }\n</style>\n<table border=\"1\" class=\"dataframe\">\n  <thead>\n    <tr style=\"text-align: right;\">\n      <th></th>\n      <th>mensalidade</th>\n      <th>estado</th>\n      <th>municipio</th>\n      <th>curso</th>\n      <th>quantidade_bolsas</th>\n      <th>nota_bolsa</th>\n      <th>sexo</th>\n      <th>raca</th>\n      <th>deficiente</th>\n      <th>idade</th>\n      <th>esgoto_inexistente</th>\n      <th>energia_inexistente</th>\n      <th>agua_inexistente</th>\n      <th>acesso_internet</th>\n      <th>faz_exame_selecao</th>\n      <th>especializada_deficientes</th>\n      <th>ensino_tecnico</th>\n    </tr>\n  </thead>\n  <tbody>\n    <tr>\n      <th>9294</th>\n      <td>884.29</td>\n      <td>RR</td>\n      <td>boa vista</td>\n      <td>Nutrição</td>\n      <td>3.0</td>\n      <td>602.04</td>\n      <td>F</td>\n      <td>Parda</td>\n      <td>N</td>\n      <td>13/09/1973</td>\n      <td>0.0</td>\n      <td>0.0</td>\n      <td>0.0</td>\n      <td>1.0</td>\n      <td>1.0</td>\n      <td>1.0</td>\n      <td>1.0</td>\n    </tr>\n    <tr>\n      <th>4619</th>\n      <td>1191.00</td>\n      <td>SP</td>\n      <td>campinas</td>\n      <td>Psicologia</td>\n      <td>5.0</td>\n      <td>637.19</td>\n      <td>F</td>\n      <td>Parda</td>\n      <td>N</td>\n      <td>09/04/1999</td>\n      <td>0.0</td>\n      <td>0.0</td>\n      <td>0.0</td>\n      <td>1.0</td>\n      <td>0.0</td>\n      <td>1.0</td>\n      <td>0.0</td>\n    </tr>\n    <tr>\n      <th>41339</th>\n      <td>149.00</td>\n      <td>SP</td>\n      <td>bauru</td>\n      <td>Gestão Comercial</td>\n      <td>1.0</td>\n      <td>450.00</td>\n      <td>F</td>\n      <td>Branca</td>\n      <td>N</td>\n      <td>03/05/1999</td>\n      <td>0.0</td>\n      <td>0.0</td>\n      <td>0.0</td>\n      <td>1.0</td>\n      <td>0.0</td>\n      <td>1.0</td>\n      <td>0.0</td>\n    </tr>\n    <tr>\n      <th>41016</th>\n      <td>177.23</td>\n      <td>RN</td>\n      <td>natal</td>\n      <td>Pedagogia</td>\n      <td>11.0</td>\n      <td>573.14</td>\n      <td>M</td>\n      <td>Parda</td>\n      <td>N</td>\n      <td>30/01/1974</td>\n      <td>0.0</td>\n      <td>0.0</td>\n      <td>0.0</td>\n      <td>1.0</td>\n      <td>0.0</td>\n      <td>1.0</td>\n      <td>0.0</td>\n    </tr>\n    <tr>\n      <th>38151</th>\n      <td>237.00</td>\n      <td>MA</td>\n      <td>balsas</td>\n      <td>Geografia</td>\n      <td>1.0</td>\n      <td>559.84</td>\n      <td>F</td>\n      <td>Preta</td>\n      <td>N</td>\n      <td>08/05/1997</td>\n      <td>0.0</td>\n      <td>0.0</td>\n      <td>0.0</td>\n      <td>1.0</td>\n      <td>0.0</td>\n      <td>1.0</td>\n      <td>0.0</td>\n    </tr>\n  </tbody>\n</table>\n</div>"
     },
     "execution_count": 7,
     "metadata": {},
     "output_type": "execute_result"
    }
   ],
   "source": [
    "df_addprouni = df_addprouni.drop_duplicates(subset=['estado', 'curso', 'municipio'])\n",
    "df_edbasica = df_edbasica.drop_duplicates(subset=['estado', 'municipio'])\n",
    "df = df_prouni.merge(df_addprouni, on=['estado', 'curso', 'municipio'], how='left')\n",
    "df = df.merge(df_edbasica, on=['estado', 'municipio'], how='left')\n",
    "df = df.dropna()\n",
    "\n",
    "print(df.__len__(), \"rows\")\n",
    "df.sample(n=5)"
   ],
   "metadata": {
    "collapsed": false,
    "pycharm": {
     "name": "#%%\n"
    }
   }
  },
  {
   "cell_type": "code",
   "execution_count": 4,
   "outputs": [],
   "source": [
    "# SPARK\n",
    "# df.write.csv('processed_data/prouni.csv')\n",
    "\n",
    "# PANDAS\n",
    "df.to_csv('processed_data/g2-prouni-preprocessado.csv')\n",
    "tweetsdf.to_csv('processed_data/g2-tweets-preprocessado.csv')"
   ],
   "metadata": {
    "collapsed": false,
    "pycharm": {
     "name": "#%%\n"
    }
   }
  }
 ],
 "metadata": {
  "kernelspec": {
   "display_name": "Python 3",
   "language": "python",
   "name": "python3"
  },
  "language_info": {
   "codemirror_mode": {
    "name": "ipython",
    "version": 2
   },
   "file_extension": ".py",
   "mimetype": "text/x-python",
   "name": "python",
   "nbconvert_exporter": "python",
   "pygments_lexer": "ipython2",
   "version": "2.7.6"
  }
 },
 "nbformat": 4,
 "nbformat_minor": 0
}