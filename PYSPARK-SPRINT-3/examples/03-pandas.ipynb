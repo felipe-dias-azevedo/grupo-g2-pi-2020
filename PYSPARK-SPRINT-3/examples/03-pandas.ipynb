{
 "cells": [
  {
   "cell_type": "markdown",
   "id": "ec702a47",
   "metadata": {
    "pycharm": {
     "name": "#%% md\n"
    }
   },
   "source": [
    "## API do Pandas no Spark\n",
    "\n",
    "Importamos a API do pandas no Spark da seguinte forma:"
   ]
  },
  {
   "cell_type": "code",
   "execution_count": 1,
   "id": "19e261bf",
   "metadata": {
    "pycharm": {
     "name": "#%%\n"
    }
   },
   "outputs": [
    {
     "name": "stderr",
     "output_type": "stream",
     "text": [
      "WARNING: An illegal reflective access operation has occurred\n",
      "WARNING: Illegal reflective access by org.apache.spark.unsafe.Platform (file:/Users/felipeazevedo/GITHUB/grupo-g2-pi-2022/PYSPARK-SPRINT-3/env/lib/python3.10/site-packages/pyspark/jars/spark-unsafe_2.12-3.2.1.jar) to constructor java.nio.DirectByteBuffer(long,int)\n",
      "WARNING: Please consider reporting this to the maintainers of org.apache.spark.unsafe.Platform\n",
      "WARNING: Use --illegal-access=warn to enable warnings of further illegal reflective access operations\n",
      "WARNING: All illegal access operations will be denied in a future release\n"
     ]
    },
    {
     "name": "stdout",
     "output_type": "stream",
     "text": [
      ":: loading settings :: url = jar:file:/Users/felipeazevedo/GITHUB/grupo-g2-pi-2022/PYSPARK-SPRINT-3/env/lib/python3.10/site-packages/pyspark/jars/ivy-2.5.0.jar!/org/apache/ivy/core/settings/ivysettings.xml\n"
     ]
    },
    {
     "name": "stderr",
     "output_type": "stream",
     "text": [
      "Ivy Default Cache set to: /Users/felipeazevedo/.ivy2/cache\n",
      "The jars for the packages stored in: /Users/felipeazevedo/.ivy2/jars\n",
      "org.apache.hadoop#hadoop-aws added as a dependency\n",
      ":: resolving dependencies :: org.apache.spark#spark-submit-parent-ef033eac-af18-4513-ad99-f84482261ca9;1.0\n",
      "\tconfs: [default]\n",
      "\tfound org.apache.hadoop#hadoop-aws;3.2.0 in central\n",
      "\tfound com.amazonaws#aws-java-sdk-bundle;1.11.375 in central\n",
      "downloading https://repo1.maven.org/maven2/org/apache/hadoop/hadoop-aws/3.2.0/hadoop-aws-3.2.0.jar ...\n",
      "\t[SUCCESSFUL ] org.apache.hadoop#hadoop-aws;3.2.0!hadoop-aws.jar (1554ms)\n",
      "downloading https://repo1.maven.org/maven2/com/amazonaws/aws-java-sdk-bundle/1.11.375/aws-java-sdk-bundle-1.11.375.jar ...\n",
      "\t[SUCCESSFUL ] com.amazonaws#aws-java-sdk-bundle;1.11.375!aws-java-sdk-bundle.jar (31360ms)\n",
      ":: resolution report :: resolve 23444ms :: artifacts dl 32923ms\n",
      "\t:: modules in use:\n",
      "\tcom.amazonaws#aws-java-sdk-bundle;1.11.375 from central in [default]\n",
      "\torg.apache.hadoop#hadoop-aws;3.2.0 from central in [default]\n",
      "\t---------------------------------------------------------------------\n",
      "\t|                  |            modules            ||   artifacts   |\n",
      "\t|       conf       | number| search|dwnlded|evicted|| number|dwnlded|\n",
      "\t---------------------------------------------------------------------\n",
      "\t|      default     |   2   |   2   |   2   |   0   ||   2   |   2   |\n",
      "\t---------------------------------------------------------------------\n",
      ":: retrieving :: org.apache.spark#spark-submit-parent-ef033eac-af18-4513-ad99-f84482261ca9\n",
      "\tconfs: [default]\n",
      "\t2 artifacts copied, 0 already retrieved (96887kB/529ms)\n",
      "22/05/27 21:06:53 WARN NativeCodeLoader: Unable to load native-hadoop library for your platform... using builtin-java classes where applicable\n",
      "Using Spark's default log4j profile: org/apache/spark/log4j-defaults.properties\n",
      "Setting default log level to \"WARN\".\n",
      "To adjust logging level use sc.setLogLevel(newLevel). For SparkR, use setLogLevel(newLevel).\n",
      "22/05/27 21:06:55 WARN Utils: Service 'SparkUI' could not bind on port 4040. Attempting port 4041.\n",
      "22/05/27 21:06:55 WARN Utils: Service 'SparkUI' could not bind on port 4041. Attempting port 4042.\n"
     ]
    }
   ],
   "source": [
    "from pyspark import SparkConf\n",
    "from pyspark.sql import SparkSession\n",
    "\n",
    "conf = SparkConf()\n",
    "conf.set('spark.jars.packages', 'org.apache.hadoop:hadoop-aws:3.2.0')\n",
    "conf.set('spark.hadoop.fs.s3a.aws.credentials.provider', 'com.amazonaws.auth.InstanceProfileCredentialsProvider')\n",
    "spark = SparkSession.builder.config(conf=conf).getOrCreate()\n",
    "\n",
    "\n",
    "\n",
    "\n"
   ]
  },
  {
   "cell_type": "code",
   "execution_count": 29,
   "id": "871bc177",
   "metadata": {
    "pycharm": {
     "name": "#%%\n"
    }
   },
   "outputs": [
    {
     "name": "stderr",
     "output_type": "stream",
     "text": [
      "WARNING:root:'PYARROW_IGNORE_TIMEZONE' environment variable was not set. It is required to set this environment variable to '1' in both driver and executor sides if you use pyarrow>=2.0.0. pandas-on-Spark will set it for you but it does not work if there is a Spark context already launched.\n"
     ]
    }
   ],
   "source": [
    "import pandas as pd\n",
    "import numpy as np\n",
    "import pyspark.pandas as ps"
   ]
  },
  {
   "cell_type": "code",
   "execution_count": null,
   "id": "e22aede1",
   "metadata": {
    "pycharm": {
     "name": "#%%\n"
    }
   },
   "outputs": [],
   "source": [
    "#pip install matplotlib"
   ]
  },
  {
   "cell_type": "code",
   "execution_count": null,
   "id": "8a9efee7",
   "metadata": {
    "pycharm": {
     "name": "#%%\n"
    }
   },
   "outputs": [],
   "source": [
    "#pip install pandas\n"
   ]
  },
  {
   "cell_type": "markdown",
   "source": [
    "## Criação de Objetos\n",
    "\n",
    "### Criando uma série pandas-on-Spark passando uma lista de valores, permitindo que a API pandas no Spark crie um índice inteiro padrão:"
   ],
   "metadata": {
    "collapsed": false,
    "pycharm": {
     "name": "#%% md\n"
    }
   }
  },
  {
   "cell_type": "code",
   "execution_count": 3,
   "id": "4c10aee9",
   "metadata": {
    "pycharm": {
     "name": "#%%\n"
    }
   },
   "outputs": [],
   "source": [
    "s = pd.Series([1, 3, 5, np.nan, 6, 8])"
   ]
  },
  {
   "cell_type": "code",
   "execution_count": 4,
   "id": "eb338d0e",
   "metadata": {
    "pycharm": {
     "name": "#%%\n"
    }
   },
   "outputs": [
    {
     "data": {
      "text/plain": "0    1.0\n1    3.0\n2    5.0\n3    NaN\n4    6.0\n5    8.0\ndtype: float64"
     },
     "execution_count": 4,
     "metadata": {},
     "output_type": "execute_result"
    }
   ],
   "source": [
    "s"
   ]
  },
  {
   "cell_type": "code",
   "execution_count": 5,
   "id": "7cb6cd0d",
   "metadata": {
    "pycharm": {
     "name": "#%%\n"
    }
   },
   "outputs": [],
   "source": [
    "psdf = pd.DataFrame(\n",
    "    {'a': [1, 2, 3, 4, 5, 6],\n",
    "     'b': [100, 200, 300, 400, 500, 600],\n",
    "     'c': [\"one\", \"two\", \"three\", \"four\", \"five\", \"six\"]},\n",
    "    index=[10, 20, 30, 40, 50, 60])"
   ]
  },
  {
   "cell_type": "code",
   "execution_count": 6,
   "id": "099db6fc",
   "metadata": {
    "pycharm": {
     "name": "#%%\n"
    }
   },
   "outputs": [
    {
     "data": {
      "text/plain": "    a    b      c\n10  1  100    one\n20  2  200    two\n30  3  300  three\n40  4  400   four\n50  5  500   five\n60  6  600    six",
      "text/html": "<div>\n<style scoped>\n    .dataframe tbody tr th:only-of-type {\n        vertical-align: middle;\n    }\n\n    .dataframe tbody tr th {\n        vertical-align: top;\n    }\n\n    .dataframe thead th {\n        text-align: right;\n    }\n</style>\n<table border=\"1\" class=\"dataframe\">\n  <thead>\n    <tr style=\"text-align: right;\">\n      <th></th>\n      <th>a</th>\n      <th>b</th>\n      <th>c</th>\n    </tr>\n  </thead>\n  <tbody>\n    <tr>\n      <th>10</th>\n      <td>1</td>\n      <td>100</td>\n      <td>one</td>\n    </tr>\n    <tr>\n      <th>20</th>\n      <td>2</td>\n      <td>200</td>\n      <td>two</td>\n    </tr>\n    <tr>\n      <th>30</th>\n      <td>3</td>\n      <td>300</td>\n      <td>three</td>\n    </tr>\n    <tr>\n      <th>40</th>\n      <td>4</td>\n      <td>400</td>\n      <td>four</td>\n    </tr>\n    <tr>\n      <th>50</th>\n      <td>5</td>\n      <td>500</td>\n      <td>five</td>\n    </tr>\n    <tr>\n      <th>60</th>\n      <td>6</td>\n      <td>600</td>\n      <td>six</td>\n    </tr>\n  </tbody>\n</table>\n</div>"
     },
     "execution_count": 6,
     "metadata": {},
     "output_type": "execute_result"
    }
   ],
   "source": [
    "psdf"
   ]
  },
  {
   "cell_type": "markdown",
   "id": "4a4388e1",
   "metadata": {
    "pycharm": {
     "name": "#%% md\n"
    }
   },
   "source": [
    "## Criando um DataFrame pandas passando uma matriz numpy, com um índice de data e hora e colunas rotuladas:"
   ]
  },
  {
   "cell_type": "code",
   "execution_count": 7,
   "id": "0eb6279f",
   "metadata": {
    "pycharm": {
     "name": "#%%\n"
    }
   },
   "outputs": [],
   "source": [
    "dates = pd.date_range('20130101', periods=6)"
   ]
  },
  {
   "cell_type": "code",
   "execution_count": 8,
   "id": "3234ac31",
   "metadata": {
    "pycharm": {
     "name": "#%%\n"
    }
   },
   "outputs": [
    {
     "data": {
      "text/plain": "DatetimeIndex(['2013-01-01', '2013-01-02', '2013-01-03', '2013-01-04',\n               '2013-01-05', '2013-01-06'],\n              dtype='datetime64[ns]', freq='D')"
     },
     "execution_count": 8,
     "metadata": {},
     "output_type": "execute_result"
    }
   ],
   "source": [
    "dates"
   ]
  },
  {
   "cell_type": "code",
   "execution_count": 9,
   "id": "e60e9c3e",
   "metadata": {
    "pycharm": {
     "name": "#%%\n"
    }
   },
   "outputs": [],
   "source": [
    "pdf = pd.DataFrame(np.random.randn(6, 4), index=dates, columns=list('ABCD'))"
   ]
  },
  {
   "cell_type": "code",
   "execution_count": 10,
   "id": "55225ff7",
   "metadata": {
    "pycharm": {
     "name": "#%%\n"
    }
   },
   "outputs": [
    {
     "data": {
      "text/plain": "                   A         B         C         D\n2013-01-01 -0.546688  1.390297  0.779862 -0.511817\n2013-01-02 -0.334873 -1.068641 -0.007298 -0.644298\n2013-01-03  0.854681  0.473475 -0.900421  0.590255\n2013-01-04 -1.020505 -1.777306  0.375333  0.352811\n2013-01-05 -0.078520  0.736426  2.313910  1.959046\n2013-01-06 -0.385759 -0.950487 -0.445351 -0.530973",
      "text/html": "<div>\n<style scoped>\n    .dataframe tbody tr th:only-of-type {\n        vertical-align: middle;\n    }\n\n    .dataframe tbody tr th {\n        vertical-align: top;\n    }\n\n    .dataframe thead th {\n        text-align: right;\n    }\n</style>\n<table border=\"1\" class=\"dataframe\">\n  <thead>\n    <tr style=\"text-align: right;\">\n      <th></th>\n      <th>A</th>\n      <th>B</th>\n      <th>C</th>\n      <th>D</th>\n    </tr>\n  </thead>\n  <tbody>\n    <tr>\n      <th>2013-01-01</th>\n      <td>-0.546688</td>\n      <td>1.390297</td>\n      <td>0.779862</td>\n      <td>-0.511817</td>\n    </tr>\n    <tr>\n      <th>2013-01-02</th>\n      <td>-0.334873</td>\n      <td>-1.068641</td>\n      <td>-0.007298</td>\n      <td>-0.644298</td>\n    </tr>\n    <tr>\n      <th>2013-01-03</th>\n      <td>0.854681</td>\n      <td>0.473475</td>\n      <td>-0.900421</td>\n      <td>0.590255</td>\n    </tr>\n    <tr>\n      <th>2013-01-04</th>\n      <td>-1.020505</td>\n      <td>-1.777306</td>\n      <td>0.375333</td>\n      <td>0.352811</td>\n    </tr>\n    <tr>\n      <th>2013-01-05</th>\n      <td>-0.078520</td>\n      <td>0.736426</td>\n      <td>2.313910</td>\n      <td>1.959046</td>\n    </tr>\n    <tr>\n      <th>2013-01-06</th>\n      <td>-0.385759</td>\n      <td>-0.950487</td>\n      <td>-0.445351</td>\n      <td>-0.530973</td>\n    </tr>\n  </tbody>\n</table>\n</div>"
     },
     "execution_count": 10,
     "metadata": {},
     "output_type": "execute_result"
    }
   ],
   "source": [
    "pdf"
   ]
  },
  {
   "cell_type": "markdown",
   "id": "3657b2cb",
   "metadata": {
    "pycharm": {
     "name": "#%% md\n"
    }
   },
   "source": [
    "### Agora, é possível criar um DataFrame pandas-on-Spark a partir do Spark DataFrame facilmente. "
   ]
  },
  {
   "cell_type": "code",
   "execution_count": 11,
   "id": "8dc30f4a",
   "metadata": {
    "pycharm": {
     "name": "#%%\n"
    }
   },
   "outputs": [],
   "source": [
    "spark = SparkSession.builder.getOrCreate()"
   ]
  },
  {
   "cell_type": "code",
   "execution_count": 12,
   "id": "5f7bd10c",
   "metadata": {
    "pycharm": {
     "name": "#%%\n"
    }
   },
   "outputs": [],
   "source": [
    "sdf = spark.createDataFrame(pdf)"
   ]
  },
  {
   "cell_type": "code",
   "execution_count": 13,
   "id": "5544190f",
   "metadata": {
    "pycharm": {
     "name": "#%%\n"
    }
   },
   "outputs": [
    {
     "name": "stderr",
     "output_type": "stream",
     "text": [
      "                                                                                \r"
     ]
    },
    {
     "name": "stdout",
     "output_type": "stream",
     "text": [
      "+--------------------+-------------------+--------------------+-------------------+\n",
      "|                   A|                  B|                   C|                  D|\n",
      "+--------------------+-------------------+--------------------+-------------------+\n",
      "| -0.5466883976882615| 1.3902972004522829|  0.7798624686558643| -0.511816585452175|\n",
      "| -0.3348725247548573| -1.068641472629192|-0.00729807798735...|-0.6442983956623511|\n",
      "|  0.8546806073827313| 0.4734754893111552| -0.9004210189600513| 0.5902546022249997|\n",
      "| -1.0205053373724646|-1.7773062466596297|  0.3753330118692941| 0.3528111841541079|\n",
      "|-0.07852038262903008| 0.7364263133932722|  2.3139103462469173| 1.9590459898760755|\n",
      "|-0.38575936767401653|-0.9504865635314748|-0.44535097197378654|-0.5309730462978761|\n",
      "+--------------------+-------------------+--------------------+-------------------+\n",
      "\n"
     ]
    }
   ],
   "source": [
    "sdf.show()"
   ]
  },
  {
   "cell_type": "markdown",
   "id": "2599d37f",
   "metadata": {
    "pycharm": {
     "name": "#%% md\n"
    }
   },
   "source": [
    "## Criando pandas-on-Spark DataFrame do Spark DataFrame."
   ]
  },
  {
   "cell_type": "code",
   "execution_count": 14,
   "id": "f55c93a0",
   "metadata": {
    "pycharm": {
     "name": "#%%\n"
    }
   },
   "outputs": [
    {
     "data": {
      "text/plain": "[('A', 'double'), ('B', 'double'), ('C', 'double'), ('D', 'double')]"
     },
     "execution_count": 14,
     "metadata": {},
     "output_type": "execute_result"
    }
   ],
   "source": [
    "sdf.dtypes"
   ]
  },
  {
   "cell_type": "code",
   "execution_count": 15,
   "id": "db18337f",
   "metadata": {
    "pycharm": {
     "name": "#%%\n"
    }
   },
   "outputs": [
    {
     "data": {
      "text/plain": "Row(A=-0.5466883976882615, B=1.3902972004522829, C=0.7798624686558643, D=-0.511816585452175)"
     },
     "execution_count": 15,
     "metadata": {},
     "output_type": "execute_result"
    }
   ],
   "source": [
    "sdf.head()"
   ]
  },
  {
   "cell_type": "code",
   "execution_count": 16,
   "id": "8f7c1952",
   "metadata": {
    "pycharm": {
     "name": "#%%\n"
    }
   },
   "outputs": [
    {
     "data": {
      "text/plain": "['A', 'B', 'C', 'D']"
     },
     "execution_count": 16,
     "metadata": {},
     "output_type": "execute_result"
    }
   ],
   "source": [
    "sdf.columns"
   ]
  },
  {
   "cell_type": "markdown",
   "id": "afe6e904",
   "metadata": {
    "pycharm": {
     "name": "#%% md\n"
    }
   },
   "source": [
    "# Representação Gráfica"
   ]
  },
  {
   "cell_type": "code",
   "execution_count": 17,
   "id": "7636fdc2",
   "metadata": {
    "pycharm": {
     "name": "#%%\n"
    }
   },
   "outputs": [],
   "source": [
    "pser = pd.Series(np.random.randn(1000),\n",
    "                 index=pd.date_range('1/1/2000', periods=1000))"
   ]
  },
  {
   "cell_type": "code",
   "execution_count": 34,
   "id": "ea84645c",
   "metadata": {
    "pycharm": {
     "name": "#%%\n"
    }
   },
   "outputs": [
    {
     "ename": "NonExistentTimeError",
     "evalue": "2000-10-08 00:00:00",
     "output_type": "error",
     "traceback": [
      "\u001B[0;31m---------------------------------------------------------------------------\u001B[0m",
      "\u001B[0;31mNonExistentTimeError\u001B[0m                      Traceback (most recent call last)",
      "Input \u001B[0;32mIn [34]\u001B[0m, in \u001B[0;36m<cell line: 1>\u001B[0;34m()\u001B[0m\n\u001B[0;32m----> 1\u001B[0m psser \u001B[38;5;241m=\u001B[39m \u001B[43mps\u001B[49m\u001B[38;5;241;43m.\u001B[39;49m\u001B[43mSeries\u001B[49m\u001B[43m(\u001B[49m\u001B[43mpser\u001B[49m\u001B[43m)\u001B[49m\n",
      "File \u001B[0;32m~/GITHUB/grupo-g2-pi-2022/PYSPARK-SPRINT-3/env/lib/python3.10/site-packages/pyspark/pandas/series.py:426\u001B[0m, in \u001B[0;36mSeries.__init__\u001B[0;34m(self, data, index, dtype, name, copy, fastpath)\u001B[0m\n\u001B[1;32m    422\u001B[0m \u001B[38;5;28;01melse\u001B[39;00m:\n\u001B[1;32m    423\u001B[0m     s \u001B[38;5;241m=\u001B[39m pd\u001B[38;5;241m.\u001B[39mSeries(\n\u001B[1;32m    424\u001B[0m         data\u001B[38;5;241m=\u001B[39mdata, index\u001B[38;5;241m=\u001B[39mindex, dtype\u001B[38;5;241m=\u001B[39mdtype, name\u001B[38;5;241m=\u001B[39mname, copy\u001B[38;5;241m=\u001B[39mcopy, fastpath\u001B[38;5;241m=\u001B[39mfastpath\n\u001B[1;32m    425\u001B[0m     )\n\u001B[0;32m--> 426\u001B[0m internal \u001B[38;5;241m=\u001B[39m \u001B[43mInternalFrame\u001B[49m\u001B[38;5;241;43m.\u001B[39;49m\u001B[43mfrom_pandas\u001B[49m\u001B[43m(\u001B[49m\u001B[43mpd\u001B[49m\u001B[38;5;241;43m.\u001B[39;49m\u001B[43mDataFrame\u001B[49m\u001B[43m(\u001B[49m\u001B[43ms\u001B[49m\u001B[43m)\u001B[49m\u001B[43m)\u001B[49m\n\u001B[1;32m    427\u001B[0m \u001B[38;5;28;01mif\u001B[39;00m s\u001B[38;5;241m.\u001B[39mname \u001B[38;5;129;01mis\u001B[39;00m \u001B[38;5;28;01mNone\u001B[39;00m:\n\u001B[1;32m    428\u001B[0m     internal \u001B[38;5;241m=\u001B[39m internal\u001B[38;5;241m.\u001B[39mcopy(column_labels\u001B[38;5;241m=\u001B[39m[\u001B[38;5;28;01mNone\u001B[39;00m])\n",
      "File \u001B[0;32m~/GITHUB/grupo-g2-pi-2022/PYSPARK-SPRINT-3/env/lib/python3.10/site-packages/pyspark/pandas/internal.py:1464\u001B[0m, in \u001B[0;36mInternalFrame.from_pandas\u001B[0;34m(pdf)\u001B[0m\n\u001B[1;32m   1454\u001B[0m (\n\u001B[1;32m   1455\u001B[0m     pdf,\n\u001B[1;32m   1456\u001B[0m     index_columns,\n\u001B[0;32m   (...)\u001B[0m\n\u001B[1;32m   1459\u001B[0m     data_fields,\n\u001B[1;32m   1460\u001B[0m ) \u001B[38;5;241m=\u001B[39m InternalFrame\u001B[38;5;241m.\u001B[39mprepare_pandas_frame(pdf)\n\u001B[1;32m   1462\u001B[0m schema \u001B[38;5;241m=\u001B[39m StructType([field\u001B[38;5;241m.\u001B[39mstruct_field \u001B[38;5;28;01mfor\u001B[39;00m field \u001B[38;5;129;01min\u001B[39;00m index_fields \u001B[38;5;241m+\u001B[39m data_fields])\n\u001B[0;32m-> 1464\u001B[0m sdf \u001B[38;5;241m=\u001B[39m \u001B[43mdefault_session\u001B[49m\u001B[43m(\u001B[49m\u001B[43m)\u001B[49m\u001B[38;5;241;43m.\u001B[39;49m\u001B[43mcreateDataFrame\u001B[49m\u001B[43m(\u001B[49m\u001B[43mpdf\u001B[49m\u001B[43m,\u001B[49m\u001B[43m \u001B[49m\u001B[43mschema\u001B[49m\u001B[38;5;241;43m=\u001B[39;49m\u001B[43mschema\u001B[49m\u001B[43m)\u001B[49m\n\u001B[1;32m   1465\u001B[0m \u001B[38;5;28;01mreturn\u001B[39;00m InternalFrame(\n\u001B[1;32m   1466\u001B[0m     spark_frame\u001B[38;5;241m=\u001B[39msdf,\n\u001B[1;32m   1467\u001B[0m     index_spark_columns\u001B[38;5;241m=\u001B[39m[scol_for(sdf, col) \u001B[38;5;28;01mfor\u001B[39;00m col \u001B[38;5;129;01min\u001B[39;00m index_columns],\n\u001B[0;32m   (...)\u001B[0m\n\u001B[1;32m   1473\u001B[0m     column_label_names\u001B[38;5;241m=\u001B[39mcolumn_label_names,\n\u001B[1;32m   1474\u001B[0m )\n",
      "File \u001B[0;32m~/GITHUB/grupo-g2-pi-2022/PYSPARK-SPRINT-3/env/lib/python3.10/site-packages/pyspark/sql/session.py:673\u001B[0m, in \u001B[0;36mSparkSession.createDataFrame\u001B[0;34m(self, data, schema, samplingRatio, verifySchema)\u001B[0m\n\u001B[1;32m    670\u001B[0m     has_pandas \u001B[38;5;241m=\u001B[39m \u001B[38;5;28;01mFalse\u001B[39;00m\n\u001B[1;32m    671\u001B[0m \u001B[38;5;28;01mif\u001B[39;00m has_pandas \u001B[38;5;129;01mand\u001B[39;00m \u001B[38;5;28misinstance\u001B[39m(data, pandas\u001B[38;5;241m.\u001B[39mDataFrame):\n\u001B[1;32m    672\u001B[0m     \u001B[38;5;66;03m# Create a DataFrame from pandas DataFrame.\u001B[39;00m\n\u001B[0;32m--> 673\u001B[0m     \u001B[38;5;28;01mreturn\u001B[39;00m \u001B[38;5;28;43msuper\u001B[39;49m\u001B[43m(\u001B[49m\u001B[43mSparkSession\u001B[49m\u001B[43m,\u001B[49m\u001B[43m \u001B[49m\u001B[38;5;28;43mself\u001B[39;49m\u001B[43m)\u001B[49m\u001B[38;5;241;43m.\u001B[39;49m\u001B[43mcreateDataFrame\u001B[49m\u001B[43m(\u001B[49m\n\u001B[1;32m    674\u001B[0m \u001B[43m        \u001B[49m\u001B[43mdata\u001B[49m\u001B[43m,\u001B[49m\u001B[43m \u001B[49m\u001B[43mschema\u001B[49m\u001B[43m,\u001B[49m\u001B[43m \u001B[49m\u001B[43msamplingRatio\u001B[49m\u001B[43m,\u001B[49m\u001B[43m \u001B[49m\u001B[43mverifySchema\u001B[49m\u001B[43m)\u001B[49m\n\u001B[1;32m    675\u001B[0m \u001B[38;5;28;01mreturn\u001B[39;00m \u001B[38;5;28mself\u001B[39m\u001B[38;5;241m.\u001B[39m_create_dataframe(data, schema, samplingRatio, verifySchema)\n",
      "File \u001B[0;32m~/GITHUB/grupo-g2-pi-2022/PYSPARK-SPRINT-3/env/lib/python3.10/site-packages/pyspark/sql/pandas/conversion.py:339\u001B[0m, in \u001B[0;36mSparkConversionMixin.createDataFrame\u001B[0;34m(self, data, schema, samplingRatio, verifySchema)\u001B[0m\n\u001B[1;32m    337\u001B[0m             warnings\u001B[38;5;241m.\u001B[39mwarn(msg)\n\u001B[1;32m    338\u001B[0m             \u001B[38;5;28;01mraise\u001B[39;00m\n\u001B[0;32m--> 339\u001B[0m data \u001B[38;5;241m=\u001B[39m \u001B[38;5;28;43mself\u001B[39;49m\u001B[38;5;241;43m.\u001B[39;49m\u001B[43m_convert_from_pandas\u001B[49m\u001B[43m(\u001B[49m\u001B[43mdata\u001B[49m\u001B[43m,\u001B[49m\u001B[43m \u001B[49m\u001B[43mschema\u001B[49m\u001B[43m,\u001B[49m\u001B[43m \u001B[49m\u001B[43mtimezone\u001B[49m\u001B[43m)\u001B[49m\n\u001B[1;32m    340\u001B[0m \u001B[38;5;28;01mreturn\u001B[39;00m \u001B[38;5;28mself\u001B[39m\u001B[38;5;241m.\u001B[39m_create_dataframe(data, schema, samplingRatio, verifySchema)\n",
      "File \u001B[0;32m~/GITHUB/grupo-g2-pi-2022/PYSPARK-SPRINT-3/env/lib/python3.10/site-packages/pyspark/sql/pandas/conversion.py:362\u001B[0m, in \u001B[0;36mSparkConversionMixin._convert_from_pandas\u001B[0;34m(self, pdf, schema, timezone)\u001B[0m\n\u001B[1;32m    359\u001B[0m \u001B[38;5;28;01mfor\u001B[39;00m field \u001B[38;5;129;01min\u001B[39;00m schema:\n\u001B[1;32m    360\u001B[0m     \u001B[38;5;66;03m# TODO: handle nested timestamps, such as ArrayType(TimestampType())?\u001B[39;00m\n\u001B[1;32m    361\u001B[0m     \u001B[38;5;28;01mif\u001B[39;00m \u001B[38;5;28misinstance\u001B[39m(field\u001B[38;5;241m.\u001B[39mdataType, TimestampType):\n\u001B[0;32m--> 362\u001B[0m         s \u001B[38;5;241m=\u001B[39m \u001B[43m_check_series_convert_timestamps_tz_local\u001B[49m\u001B[43m(\u001B[49m\u001B[43mpdf\u001B[49m\u001B[43m[\u001B[49m\u001B[43mfield\u001B[49m\u001B[38;5;241;43m.\u001B[39;49m\u001B[43mname\u001B[49m\u001B[43m]\u001B[49m\u001B[43m,\u001B[49m\u001B[43m \u001B[49m\u001B[43mtimezone\u001B[49m\u001B[43m)\u001B[49m\n\u001B[1;32m    363\u001B[0m         \u001B[38;5;28;01mif\u001B[39;00m s \u001B[38;5;129;01mis\u001B[39;00m \u001B[38;5;129;01mnot\u001B[39;00m pdf[field\u001B[38;5;241m.\u001B[39mname]:\n\u001B[1;32m    364\u001B[0m             \u001B[38;5;28;01mif\u001B[39;00m \u001B[38;5;129;01mnot\u001B[39;00m copied:\n\u001B[1;32m    365\u001B[0m                 \u001B[38;5;66;03m# Copy once if the series is modified to prevent the original\u001B[39;00m\n\u001B[1;32m    366\u001B[0m                 \u001B[38;5;66;03m# Pandas DataFrame from being updated\u001B[39;00m\n",
      "File \u001B[0;32m~/GITHUB/grupo-g2-pi-2022/PYSPARK-SPRINT-3/env/lib/python3.10/site-packages/pyspark/sql/pandas/types.py:328\u001B[0m, in \u001B[0;36m_check_series_convert_timestamps_tz_local\u001B[0;34m(s, timezone)\u001B[0m\n\u001B[1;32m    313\u001B[0m \u001B[38;5;28;01mdef\u001B[39;00m \u001B[38;5;21m_check_series_convert_timestamps_tz_local\u001B[39m(s, timezone):\n\u001B[1;32m    314\u001B[0m     \u001B[38;5;124;03m\"\"\"\u001B[39;00m\n\u001B[1;32m    315\u001B[0m \u001B[38;5;124;03m    Convert timestamp to timezone-naive in the specified timezone or local timezone\u001B[39;00m\n\u001B[1;32m    316\u001B[0m \n\u001B[0;32m   (...)\u001B[0m\n\u001B[1;32m    326\u001B[0m \u001B[38;5;124;03m        `pandas.Series` where if it is a timestamp, has been converted to tz-naive\u001B[39;00m\n\u001B[1;32m    327\u001B[0m \u001B[38;5;124;03m    \"\"\"\u001B[39;00m\n\u001B[0;32m--> 328\u001B[0m     \u001B[38;5;28;01mreturn\u001B[39;00m \u001B[43m_check_series_convert_timestamps_localize\u001B[49m\u001B[43m(\u001B[49m\u001B[43ms\u001B[49m\u001B[43m,\u001B[49m\u001B[43m \u001B[49m\u001B[43mtimezone\u001B[49m\u001B[43m,\u001B[49m\u001B[43m \u001B[49m\u001B[38;5;28;43;01mNone\u001B[39;49;00m\u001B[43m)\u001B[49m\n",
      "File \u001B[0;32m~/GITHUB/grupo-g2-pi-2022/PYSPARK-SPRINT-3/env/lib/python3.10/site-packages/pyspark/sql/pandas/types.py:288\u001B[0m, in \u001B[0;36m_check_series_convert_timestamps_localize\u001B[0;34m(s, from_timezone, to_timezone)\u001B[0m\n\u001B[1;32m    285\u001B[0m     \u001B[38;5;28;01mreturn\u001B[39;00m s\u001B[38;5;241m.\u001B[39mdt\u001B[38;5;241m.\u001B[39mtz_convert(to_tz)\u001B[38;5;241m.\u001B[39mdt\u001B[38;5;241m.\u001B[39mtz_localize(\u001B[38;5;28;01mNone\u001B[39;00m)\n\u001B[1;32m    286\u001B[0m \u001B[38;5;28;01melif\u001B[39;00m is_datetime64_dtype(s\u001B[38;5;241m.\u001B[39mdtype) \u001B[38;5;129;01mand\u001B[39;00m from_tz \u001B[38;5;241m!=\u001B[39m to_tz:\n\u001B[1;32m    287\u001B[0m     \u001B[38;5;66;03m# `s.dt.tz_localize('tzlocal()')` doesn't work properly when including NaT.\u001B[39;00m\n\u001B[0;32m--> 288\u001B[0m     \u001B[38;5;28;01mreturn\u001B[39;00m \u001B[43ms\u001B[49m\u001B[38;5;241;43m.\u001B[39;49m\u001B[43mapply\u001B[49m\u001B[43m(\u001B[49m\n\u001B[1;32m    289\u001B[0m \u001B[43m        \u001B[49m\u001B[38;5;28;43;01mlambda\u001B[39;49;00m\u001B[43m \u001B[49m\u001B[43mts\u001B[49m\u001B[43m:\u001B[49m\u001B[43m \u001B[49m\u001B[43mts\u001B[49m\u001B[38;5;241;43m.\u001B[39;49m\u001B[43mtz_localize\u001B[49m\u001B[43m(\u001B[49m\u001B[43mfrom_tz\u001B[49m\u001B[43m,\u001B[49m\u001B[43m \u001B[49m\u001B[43mambiguous\u001B[49m\u001B[38;5;241;43m=\u001B[39;49m\u001B[38;5;28;43;01mFalse\u001B[39;49;00m\u001B[43m)\u001B[49m\u001B[38;5;241;43m.\u001B[39;49m\u001B[43mtz_convert\u001B[49m\u001B[43m(\u001B[49m\u001B[43mto_tz\u001B[49m\u001B[43m)\u001B[49m\u001B[38;5;241;43m.\u001B[39;49m\u001B[43mtz_localize\u001B[49m\u001B[43m(\u001B[49m\u001B[38;5;28;43;01mNone\u001B[39;49;00m\u001B[43m)\u001B[49m\n\u001B[1;32m    290\u001B[0m \u001B[43m        \u001B[49m\u001B[38;5;28;43;01mif\u001B[39;49;00m\u001B[43m \u001B[49m\u001B[43mts\u001B[49m\u001B[43m \u001B[49m\u001B[38;5;129;43;01mis\u001B[39;49;00m\u001B[43m \u001B[49m\u001B[38;5;129;43;01mnot\u001B[39;49;00m\u001B[43m \u001B[49m\u001B[43mpd\u001B[49m\u001B[38;5;241;43m.\u001B[39;49m\u001B[43mNaT\u001B[49m\u001B[43m \u001B[49m\u001B[38;5;28;43;01melse\u001B[39;49;00m\u001B[43m \u001B[49m\u001B[43mpd\u001B[49m\u001B[38;5;241;43m.\u001B[39;49m\u001B[43mNaT\u001B[49m\u001B[43m)\u001B[49m\n\u001B[1;32m    291\u001B[0m \u001B[38;5;28;01melse\u001B[39;00m:\n\u001B[1;32m    292\u001B[0m     \u001B[38;5;28;01mreturn\u001B[39;00m s\n",
      "File \u001B[0;32m~/GITHUB/grupo-g2-pi-2022/PYSPARK-SPRINT-3/env/lib/python3.10/site-packages/pandas/core/series.py:4433\u001B[0m, in \u001B[0;36mSeries.apply\u001B[0;34m(self, func, convert_dtype, args, **kwargs)\u001B[0m\n\u001B[1;32m   4323\u001B[0m \u001B[38;5;28;01mdef\u001B[39;00m \u001B[38;5;21mapply\u001B[39m(\n\u001B[1;32m   4324\u001B[0m     \u001B[38;5;28mself\u001B[39m,\n\u001B[1;32m   4325\u001B[0m     func: AggFuncType,\n\u001B[0;32m   (...)\u001B[0m\n\u001B[1;32m   4328\u001B[0m     \u001B[38;5;241m*\u001B[39m\u001B[38;5;241m*\u001B[39mkwargs,\n\u001B[1;32m   4329\u001B[0m ) \u001B[38;5;241m-\u001B[39m\u001B[38;5;241m>\u001B[39m DataFrame \u001B[38;5;241m|\u001B[39m Series:\n\u001B[1;32m   4330\u001B[0m     \u001B[38;5;124;03m\"\"\"\u001B[39;00m\n\u001B[1;32m   4331\u001B[0m \u001B[38;5;124;03m    Invoke function on values of Series.\u001B[39;00m\n\u001B[1;32m   4332\u001B[0m \n\u001B[0;32m   (...)\u001B[0m\n\u001B[1;32m   4431\u001B[0m \u001B[38;5;124;03m    dtype: float64\u001B[39;00m\n\u001B[1;32m   4432\u001B[0m \u001B[38;5;124;03m    \"\"\"\u001B[39;00m\n\u001B[0;32m-> 4433\u001B[0m     \u001B[38;5;28;01mreturn\u001B[39;00m \u001B[43mSeriesApply\u001B[49m\u001B[43m(\u001B[49m\u001B[38;5;28;43mself\u001B[39;49m\u001B[43m,\u001B[49m\u001B[43m \u001B[49m\u001B[43mfunc\u001B[49m\u001B[43m,\u001B[49m\u001B[43m \u001B[49m\u001B[43mconvert_dtype\u001B[49m\u001B[43m,\u001B[49m\u001B[43m \u001B[49m\u001B[43margs\u001B[49m\u001B[43m,\u001B[49m\u001B[43m \u001B[49m\u001B[43mkwargs\u001B[49m\u001B[43m)\u001B[49m\u001B[38;5;241;43m.\u001B[39;49m\u001B[43mapply\u001B[49m\u001B[43m(\u001B[49m\u001B[43m)\u001B[49m\n",
      "File \u001B[0;32m~/GITHUB/grupo-g2-pi-2022/PYSPARK-SPRINT-3/env/lib/python3.10/site-packages/pandas/core/apply.py:1082\u001B[0m, in \u001B[0;36mSeriesApply.apply\u001B[0;34m(self)\u001B[0m\n\u001B[1;32m   1078\u001B[0m \u001B[38;5;28;01mif\u001B[39;00m \u001B[38;5;28misinstance\u001B[39m(\u001B[38;5;28mself\u001B[39m\u001B[38;5;241m.\u001B[39mf, \u001B[38;5;28mstr\u001B[39m):\n\u001B[1;32m   1079\u001B[0m     \u001B[38;5;66;03m# if we are a string, try to dispatch\u001B[39;00m\n\u001B[1;32m   1080\u001B[0m     \u001B[38;5;28;01mreturn\u001B[39;00m \u001B[38;5;28mself\u001B[39m\u001B[38;5;241m.\u001B[39mapply_str()\n\u001B[0;32m-> 1082\u001B[0m \u001B[38;5;28;01mreturn\u001B[39;00m \u001B[38;5;28;43mself\u001B[39;49m\u001B[38;5;241;43m.\u001B[39;49m\u001B[43mapply_standard\u001B[49m\u001B[43m(\u001B[49m\u001B[43m)\u001B[49m\n",
      "File \u001B[0;32m~/GITHUB/grupo-g2-pi-2022/PYSPARK-SPRINT-3/env/lib/python3.10/site-packages/pandas/core/apply.py:1137\u001B[0m, in \u001B[0;36mSeriesApply.apply_standard\u001B[0;34m(self)\u001B[0m\n\u001B[1;32m   1131\u001B[0m         values \u001B[38;5;241m=\u001B[39m obj\u001B[38;5;241m.\u001B[39mastype(\u001B[38;5;28mobject\u001B[39m)\u001B[38;5;241m.\u001B[39m_values\n\u001B[1;32m   1132\u001B[0m         \u001B[38;5;66;03m# error: Argument 2 to \"map_infer\" has incompatible type\u001B[39;00m\n\u001B[1;32m   1133\u001B[0m         \u001B[38;5;66;03m# \"Union[Callable[..., Any], str, List[Union[Callable[..., Any], str]],\u001B[39;00m\n\u001B[1;32m   1134\u001B[0m         \u001B[38;5;66;03m# Dict[Hashable, Union[Union[Callable[..., Any], str],\u001B[39;00m\n\u001B[1;32m   1135\u001B[0m         \u001B[38;5;66;03m# List[Union[Callable[..., Any], str]]]]]\"; expected\u001B[39;00m\n\u001B[1;32m   1136\u001B[0m         \u001B[38;5;66;03m# \"Callable[[Any], Any]\"\u001B[39;00m\n\u001B[0;32m-> 1137\u001B[0m         mapped \u001B[38;5;241m=\u001B[39m \u001B[43mlib\u001B[49m\u001B[38;5;241;43m.\u001B[39;49m\u001B[43mmap_infer\u001B[49m\u001B[43m(\u001B[49m\n\u001B[1;32m   1138\u001B[0m \u001B[43m            \u001B[49m\u001B[43mvalues\u001B[49m\u001B[43m,\u001B[49m\n\u001B[1;32m   1139\u001B[0m \u001B[43m            \u001B[49m\u001B[43mf\u001B[49m\u001B[43m,\u001B[49m\u001B[43m  \u001B[49m\u001B[38;5;66;43;03m# type: ignore[arg-type]\u001B[39;49;00m\n\u001B[1;32m   1140\u001B[0m \u001B[43m            \u001B[49m\u001B[43mconvert\u001B[49m\u001B[38;5;241;43m=\u001B[39;49m\u001B[38;5;28;43mself\u001B[39;49m\u001B[38;5;241;43m.\u001B[39;49m\u001B[43mconvert_dtype\u001B[49m\u001B[43m,\u001B[49m\n\u001B[1;32m   1141\u001B[0m \u001B[43m        \u001B[49m\u001B[43m)\u001B[49m\n\u001B[1;32m   1143\u001B[0m \u001B[38;5;28;01mif\u001B[39;00m \u001B[38;5;28mlen\u001B[39m(mapped) \u001B[38;5;129;01mand\u001B[39;00m \u001B[38;5;28misinstance\u001B[39m(mapped[\u001B[38;5;241m0\u001B[39m], ABCSeries):\n\u001B[1;32m   1144\u001B[0m     \u001B[38;5;66;03m# GH#43986 Need to do list(mapped) in order to get treated as nested\u001B[39;00m\n\u001B[1;32m   1145\u001B[0m     \u001B[38;5;66;03m#  See also GH#25959 regarding EA support\u001B[39;00m\n\u001B[1;32m   1146\u001B[0m     \u001B[38;5;28;01mreturn\u001B[39;00m obj\u001B[38;5;241m.\u001B[39m_constructor_expanddim(\u001B[38;5;28mlist\u001B[39m(mapped), index\u001B[38;5;241m=\u001B[39mobj\u001B[38;5;241m.\u001B[39mindex)\n",
      "File \u001B[0;32mpandas/_libs/lib.pyx:2870\u001B[0m, in \u001B[0;36mpandas._libs.lib.map_infer\u001B[0;34m()\u001B[0m\n",
      "File \u001B[0;32m~/GITHUB/grupo-g2-pi-2022/PYSPARK-SPRINT-3/env/lib/python3.10/site-packages/pyspark/sql/pandas/types.py:289\u001B[0m, in \u001B[0;36m_check_series_convert_timestamps_localize.<locals>.<lambda>\u001B[0;34m(ts)\u001B[0m\n\u001B[1;32m    285\u001B[0m     \u001B[38;5;28;01mreturn\u001B[39;00m s\u001B[38;5;241m.\u001B[39mdt\u001B[38;5;241m.\u001B[39mtz_convert(to_tz)\u001B[38;5;241m.\u001B[39mdt\u001B[38;5;241m.\u001B[39mtz_localize(\u001B[38;5;28;01mNone\u001B[39;00m)\n\u001B[1;32m    286\u001B[0m \u001B[38;5;28;01melif\u001B[39;00m is_datetime64_dtype(s\u001B[38;5;241m.\u001B[39mdtype) \u001B[38;5;129;01mand\u001B[39;00m from_tz \u001B[38;5;241m!=\u001B[39m to_tz:\n\u001B[1;32m    287\u001B[0m     \u001B[38;5;66;03m# `s.dt.tz_localize('tzlocal()')` doesn't work properly when including NaT.\u001B[39;00m\n\u001B[1;32m    288\u001B[0m     \u001B[38;5;28;01mreturn\u001B[39;00m s\u001B[38;5;241m.\u001B[39mapply(\n\u001B[0;32m--> 289\u001B[0m         \u001B[38;5;28;01mlambda\u001B[39;00m ts: \u001B[43mts\u001B[49m\u001B[38;5;241;43m.\u001B[39;49m\u001B[43mtz_localize\u001B[49m\u001B[43m(\u001B[49m\u001B[43mfrom_tz\u001B[49m\u001B[43m,\u001B[49m\u001B[43m \u001B[49m\u001B[43mambiguous\u001B[49m\u001B[38;5;241;43m=\u001B[39;49m\u001B[38;5;28;43;01mFalse\u001B[39;49;00m\u001B[43m)\u001B[49m\u001B[38;5;241m.\u001B[39mtz_convert(to_tz)\u001B[38;5;241m.\u001B[39mtz_localize(\u001B[38;5;28;01mNone\u001B[39;00m)\n\u001B[1;32m    290\u001B[0m         \u001B[38;5;28;01mif\u001B[39;00m ts \u001B[38;5;129;01mis\u001B[39;00m \u001B[38;5;129;01mnot\u001B[39;00m pd\u001B[38;5;241m.\u001B[39mNaT \u001B[38;5;28;01melse\u001B[39;00m pd\u001B[38;5;241m.\u001B[39mNaT)\n\u001B[1;32m    291\u001B[0m \u001B[38;5;28;01melse\u001B[39;00m:\n\u001B[1;32m    292\u001B[0m     \u001B[38;5;28;01mreturn\u001B[39;00m s\n",
      "File \u001B[0;32mpandas/_libs/tslibs/timestamps.pyx:1833\u001B[0m, in \u001B[0;36mpandas._libs.tslibs.timestamps.Timestamp.tz_localize\u001B[0;34m()\u001B[0m\n",
      "File \u001B[0;32mpandas/_libs/tslibs/tzconversion.pyx:74\u001B[0m, in \u001B[0;36mpandas._libs.tslibs.tzconversion.tz_localize_to_utc_single\u001B[0;34m()\u001B[0m\n",
      "File \u001B[0;32mpandas/_libs/tslibs/tzconversion.pyx:328\u001B[0m, in \u001B[0;36mpandas._libs.tslibs.tzconversion.tz_localize_to_utc\u001B[0;34m()\u001B[0m\n",
      "\u001B[0;31mNonExistentTimeError\u001B[0m: 2000-10-08 00:00:00"
     ]
    }
   ],
   "source": [
    "psser = ps.Series(pser)"
   ]
  },
  {
   "cell_type": "code",
   "execution_count": 35,
   "id": "9326b000",
   "metadata": {
    "pycharm": {
     "name": "#%%\n"
    }
   },
   "outputs": [],
   "source": [
    "psser = psser.cummax()"
   ]
  },
  {
   "cell_type": "code",
   "execution_count": 36,
   "id": "2b6f4fb6",
   "metadata": {
    "pycharm": {
     "name": "#%%\n"
    }
   },
   "outputs": [
    {
     "data": {
      "text/plain": "<AxesSubplot:>"
     },
     "execution_count": 36,
     "metadata": {},
     "output_type": "execute_result"
    },
    {
     "data": {
      "text/plain": "<Figure size 432x288 with 1 Axes>",
      "image/png": "[encoded data removed]"
     },
     "metadata": {
      "needs_background": "light"
     },
     "output_type": "display_data"
    }
   ],
   "source": [
    "psser.plot()"
   ]
  },
  {
   "cell_type": "markdown",
   "id": "4e31b52e",
   "metadata": {
    "pycharm": {
     "name": "#%% md\n"
    }
   },
   "source": [
    "## Plotando de outra forma"
   ]
  },
  {
   "cell_type": "code",
   "execution_count": 23,
   "id": "396d6efe",
   "metadata": {
    "pycharm": {
     "name": "#%%\n"
    }
   },
   "outputs": [],
   "source": [
    "pdf = pd.DataFrame(np.random.randn(1000, 4), index=pser.index,\n",
    "                   columns=['A', 'B', 'C', 'D'])"
   ]
  },
  {
   "cell_type": "code",
   "execution_count": 31,
   "id": "85f8bf27",
   "metadata": {
    "pycharm": {
     "name": "#%%\n"
    }
   },
   "outputs": [
    {
     "ename": "NonExistentTimeError",
     "evalue": "2000-10-08 00:00:00",
     "output_type": "error",
     "traceback": [
      "\u001B[0;31m---------------------------------------------------------------------------\u001B[0m",
      "\u001B[0;31mNonExistentTimeError\u001B[0m                      Traceback (most recent call last)",
      "Input \u001B[0;32mIn [31]\u001B[0m, in \u001B[0;36m<cell line: 1>\u001B[0;34m()\u001B[0m\n\u001B[0;32m----> 1\u001B[0m psdf \u001B[38;5;241m=\u001B[39m \u001B[43mps\u001B[49m\u001B[38;5;241;43m.\u001B[39;49m\u001B[43mfrom_pandas\u001B[49m\u001B[43m(\u001B[49m\u001B[43mpdf\u001B[49m\u001B[43m)\u001B[49m\n",
      "File \u001B[0;32m~/GITHUB/grupo-g2-pi-2022/PYSPARK-SPRINT-3/env/lib/python3.10/site-packages/pyspark/pandas/namespace.py:143\u001B[0m, in \u001B[0;36mfrom_pandas\u001B[0;34m(pobj)\u001B[0m\n\u001B[1;32m    141\u001B[0m     \u001B[38;5;28;01mreturn\u001B[39;00m Series(pobj)\n\u001B[1;32m    142\u001B[0m \u001B[38;5;28;01melif\u001B[39;00m \u001B[38;5;28misinstance\u001B[39m(pobj, pd\u001B[38;5;241m.\u001B[39mDataFrame):\n\u001B[0;32m--> 143\u001B[0m     \u001B[38;5;28;01mreturn\u001B[39;00m \u001B[43mDataFrame\u001B[49m\u001B[43m(\u001B[49m\u001B[43mpobj\u001B[49m\u001B[43m)\u001B[49m\n\u001B[1;32m    144\u001B[0m \u001B[38;5;28;01melif\u001B[39;00m \u001B[38;5;28misinstance\u001B[39m(pobj, pd\u001B[38;5;241m.\u001B[39mIndex):\n\u001B[1;32m    145\u001B[0m     \u001B[38;5;28;01mreturn\u001B[39;00m DataFrame(pd\u001B[38;5;241m.\u001B[39mDataFrame(index\u001B[38;5;241m=\u001B[39mpobj))\u001B[38;5;241m.\u001B[39mindex\n",
      "File \u001B[0;32m~/GITHUB/grupo-g2-pi-2022/PYSPARK-SPRINT-3/env/lib/python3.10/site-packages/pyspark/pandas/frame.py:520\u001B[0m, in \u001B[0;36mDataFrame.__init__\u001B[0;34m(self, data, index, columns, dtype, copy)\u001B[0m\n\u001B[1;32m    518\u001B[0m     \u001B[38;5;28;01melse\u001B[39;00m:\n\u001B[1;32m    519\u001B[0m         pdf \u001B[38;5;241m=\u001B[39m pd\u001B[38;5;241m.\u001B[39mDataFrame(data\u001B[38;5;241m=\u001B[39mdata, index\u001B[38;5;241m=\u001B[39mindex, columns\u001B[38;5;241m=\u001B[39mcolumns, dtype\u001B[38;5;241m=\u001B[39mdtype, copy\u001B[38;5;241m=\u001B[39mcopy)\n\u001B[0;32m--> 520\u001B[0m     internal \u001B[38;5;241m=\u001B[39m \u001B[43mInternalFrame\u001B[49m\u001B[38;5;241;43m.\u001B[39;49m\u001B[43mfrom_pandas\u001B[49m\u001B[43m(\u001B[49m\u001B[43mpdf\u001B[49m\u001B[43m)\u001B[49m\n\u001B[1;32m    522\u001B[0m \u001B[38;5;28mobject\u001B[39m\u001B[38;5;241m.\u001B[39m\u001B[38;5;21m__setattr__\u001B[39m(\u001B[38;5;28mself\u001B[39m, \u001B[38;5;124m\"\u001B[39m\u001B[38;5;124m_internal_frame\u001B[39m\u001B[38;5;124m\"\u001B[39m, internal)\n",
      "File \u001B[0;32m~/GITHUB/grupo-g2-pi-2022/PYSPARK-SPRINT-3/env/lib/python3.10/site-packages/pyspark/pandas/internal.py:1464\u001B[0m, in \u001B[0;36mInternalFrame.from_pandas\u001B[0;34m(pdf)\u001B[0m\n\u001B[1;32m   1454\u001B[0m (\n\u001B[1;32m   1455\u001B[0m     pdf,\n\u001B[1;32m   1456\u001B[0m     index_columns,\n\u001B[0;32m   (...)\u001B[0m\n\u001B[1;32m   1459\u001B[0m     data_fields,\n\u001B[1;32m   1460\u001B[0m ) \u001B[38;5;241m=\u001B[39m InternalFrame\u001B[38;5;241m.\u001B[39mprepare_pandas_frame(pdf)\n\u001B[1;32m   1462\u001B[0m schema \u001B[38;5;241m=\u001B[39m StructType([field\u001B[38;5;241m.\u001B[39mstruct_field \u001B[38;5;28;01mfor\u001B[39;00m field \u001B[38;5;129;01min\u001B[39;00m index_fields \u001B[38;5;241m+\u001B[39m data_fields])\n\u001B[0;32m-> 1464\u001B[0m sdf \u001B[38;5;241m=\u001B[39m \u001B[43mdefault_session\u001B[49m\u001B[43m(\u001B[49m\u001B[43m)\u001B[49m\u001B[38;5;241;43m.\u001B[39;49m\u001B[43mcreateDataFrame\u001B[49m\u001B[43m(\u001B[49m\u001B[43mpdf\u001B[49m\u001B[43m,\u001B[49m\u001B[43m \u001B[49m\u001B[43mschema\u001B[49m\u001B[38;5;241;43m=\u001B[39;49m\u001B[43mschema\u001B[49m\u001B[43m)\u001B[49m\n\u001B[1;32m   1465\u001B[0m \u001B[38;5;28;01mreturn\u001B[39;00m InternalFrame(\n\u001B[1;32m   1466\u001B[0m     spark_frame\u001B[38;5;241m=\u001B[39msdf,\n\u001B[1;32m   1467\u001B[0m     index_spark_columns\u001B[38;5;241m=\u001B[39m[scol_for(sdf, col) \u001B[38;5;28;01mfor\u001B[39;00m col \u001B[38;5;129;01min\u001B[39;00m index_columns],\n\u001B[0;32m   (...)\u001B[0m\n\u001B[1;32m   1473\u001B[0m     column_label_names\u001B[38;5;241m=\u001B[39mcolumn_label_names,\n\u001B[1;32m   1474\u001B[0m )\n",
      "File \u001B[0;32m~/GITHUB/grupo-g2-pi-2022/PYSPARK-SPRINT-3/env/lib/python3.10/site-packages/pyspark/sql/session.py:673\u001B[0m, in \u001B[0;36mSparkSession.createDataFrame\u001B[0;34m(self, data, schema, samplingRatio, verifySchema)\u001B[0m\n\u001B[1;32m    670\u001B[0m     has_pandas \u001B[38;5;241m=\u001B[39m \u001B[38;5;28;01mFalse\u001B[39;00m\n\u001B[1;32m    671\u001B[0m \u001B[38;5;28;01mif\u001B[39;00m has_pandas \u001B[38;5;129;01mand\u001B[39;00m \u001B[38;5;28misinstance\u001B[39m(data, pandas\u001B[38;5;241m.\u001B[39mDataFrame):\n\u001B[1;32m    672\u001B[0m     \u001B[38;5;66;03m# Create a DataFrame from pandas DataFrame.\u001B[39;00m\n\u001B[0;32m--> 673\u001B[0m     \u001B[38;5;28;01mreturn\u001B[39;00m \u001B[38;5;28;43msuper\u001B[39;49m\u001B[43m(\u001B[49m\u001B[43mSparkSession\u001B[49m\u001B[43m,\u001B[49m\u001B[43m \u001B[49m\u001B[38;5;28;43mself\u001B[39;49m\u001B[43m)\u001B[49m\u001B[38;5;241;43m.\u001B[39;49m\u001B[43mcreateDataFrame\u001B[49m\u001B[43m(\u001B[49m\n\u001B[1;32m    674\u001B[0m \u001B[43m        \u001B[49m\u001B[43mdata\u001B[49m\u001B[43m,\u001B[49m\u001B[43m \u001B[49m\u001B[43mschema\u001B[49m\u001B[43m,\u001B[49m\u001B[43m \u001B[49m\u001B[43msamplingRatio\u001B[49m\u001B[43m,\u001B[49m\u001B[43m \u001B[49m\u001B[43mverifySchema\u001B[49m\u001B[43m)\u001B[49m\n\u001B[1;32m    675\u001B[0m \u001B[38;5;28;01mreturn\u001B[39;00m \u001B[38;5;28mself\u001B[39m\u001B[38;5;241m.\u001B[39m_create_dataframe(data, schema, samplingRatio, verifySchema)\n",
      "File \u001B[0;32m~/GITHUB/grupo-g2-pi-2022/PYSPARK-SPRINT-3/env/lib/python3.10/site-packages/pyspark/sql/pandas/conversion.py:339\u001B[0m, in \u001B[0;36mSparkConversionMixin.createDataFrame\u001B[0;34m(self, data, schema, samplingRatio, verifySchema)\u001B[0m\n\u001B[1;32m    337\u001B[0m             warnings\u001B[38;5;241m.\u001B[39mwarn(msg)\n\u001B[1;32m    338\u001B[0m             \u001B[38;5;28;01mraise\u001B[39;00m\n\u001B[0;32m--> 339\u001B[0m data \u001B[38;5;241m=\u001B[39m \u001B[38;5;28;43mself\u001B[39;49m\u001B[38;5;241;43m.\u001B[39;49m\u001B[43m_convert_from_pandas\u001B[49m\u001B[43m(\u001B[49m\u001B[43mdata\u001B[49m\u001B[43m,\u001B[49m\u001B[43m \u001B[49m\u001B[43mschema\u001B[49m\u001B[43m,\u001B[49m\u001B[43m \u001B[49m\u001B[43mtimezone\u001B[49m\u001B[43m)\u001B[49m\n\u001B[1;32m    340\u001B[0m \u001B[38;5;28;01mreturn\u001B[39;00m \u001B[38;5;28mself\u001B[39m\u001B[38;5;241m.\u001B[39m_create_dataframe(data, schema, samplingRatio, verifySchema)\n",
      "File \u001B[0;32m~/GITHUB/grupo-g2-pi-2022/PYSPARK-SPRINT-3/env/lib/python3.10/site-packages/pyspark/sql/pandas/conversion.py:362\u001B[0m, in \u001B[0;36mSparkConversionMixin._convert_from_pandas\u001B[0;34m(self, pdf, schema, timezone)\u001B[0m\n\u001B[1;32m    359\u001B[0m \u001B[38;5;28;01mfor\u001B[39;00m field \u001B[38;5;129;01min\u001B[39;00m schema:\n\u001B[1;32m    360\u001B[0m     \u001B[38;5;66;03m# TODO: handle nested timestamps, such as ArrayType(TimestampType())?\u001B[39;00m\n\u001B[1;32m    361\u001B[0m     \u001B[38;5;28;01mif\u001B[39;00m \u001B[38;5;28misinstance\u001B[39m(field\u001B[38;5;241m.\u001B[39mdataType, TimestampType):\n\u001B[0;32m--> 362\u001B[0m         s \u001B[38;5;241m=\u001B[39m \u001B[43m_check_series_convert_timestamps_tz_local\u001B[49m\u001B[43m(\u001B[49m\u001B[43mpdf\u001B[49m\u001B[43m[\u001B[49m\u001B[43mfield\u001B[49m\u001B[38;5;241;43m.\u001B[39;49m\u001B[43mname\u001B[49m\u001B[43m]\u001B[49m\u001B[43m,\u001B[49m\u001B[43m \u001B[49m\u001B[43mtimezone\u001B[49m\u001B[43m)\u001B[49m\n\u001B[1;32m    363\u001B[0m         \u001B[38;5;28;01mif\u001B[39;00m s \u001B[38;5;129;01mis\u001B[39;00m \u001B[38;5;129;01mnot\u001B[39;00m pdf[field\u001B[38;5;241m.\u001B[39mname]:\n\u001B[1;32m    364\u001B[0m             \u001B[38;5;28;01mif\u001B[39;00m \u001B[38;5;129;01mnot\u001B[39;00m copied:\n\u001B[1;32m    365\u001B[0m                 \u001B[38;5;66;03m# Copy once if the series is modified to prevent the original\u001B[39;00m\n\u001B[1;32m    366\u001B[0m                 \u001B[38;5;66;03m# Pandas DataFrame from being updated\u001B[39;00m\n",
      "File \u001B[0;32m~/GITHUB/grupo-g2-pi-2022/PYSPARK-SPRINT-3/env/lib/python3.10/site-packages/pyspark/sql/pandas/types.py:328\u001B[0m, in \u001B[0;36m_check_series_convert_timestamps_tz_local\u001B[0;34m(s, timezone)\u001B[0m\n\u001B[1;32m    313\u001B[0m \u001B[38;5;28;01mdef\u001B[39;00m \u001B[38;5;21m_check_series_convert_timestamps_tz_local\u001B[39m(s, timezone):\n\u001B[1;32m    314\u001B[0m     \u001B[38;5;124;03m\"\"\"\u001B[39;00m\n\u001B[1;32m    315\u001B[0m \u001B[38;5;124;03m    Convert timestamp to timezone-naive in the specified timezone or local timezone\u001B[39;00m\n\u001B[1;32m    316\u001B[0m \n\u001B[0;32m   (...)\u001B[0m\n\u001B[1;32m    326\u001B[0m \u001B[38;5;124;03m        `pandas.Series` where if it is a timestamp, has been converted to tz-naive\u001B[39;00m\n\u001B[1;32m    327\u001B[0m \u001B[38;5;124;03m    \"\"\"\u001B[39;00m\n\u001B[0;32m--> 328\u001B[0m     \u001B[38;5;28;01mreturn\u001B[39;00m \u001B[43m_check_series_convert_timestamps_localize\u001B[49m\u001B[43m(\u001B[49m\u001B[43ms\u001B[49m\u001B[43m,\u001B[49m\u001B[43m \u001B[49m\u001B[43mtimezone\u001B[49m\u001B[43m,\u001B[49m\u001B[43m \u001B[49m\u001B[38;5;28;43;01mNone\u001B[39;49;00m\u001B[43m)\u001B[49m\n",
      "File \u001B[0;32m~/GITHUB/grupo-g2-pi-2022/PYSPARK-SPRINT-3/env/lib/python3.10/site-packages/pyspark/sql/pandas/types.py:288\u001B[0m, in \u001B[0;36m_check_series_convert_timestamps_localize\u001B[0;34m(s, from_timezone, to_timezone)\u001B[0m\n\u001B[1;32m    285\u001B[0m     \u001B[38;5;28;01mreturn\u001B[39;00m s\u001B[38;5;241m.\u001B[39mdt\u001B[38;5;241m.\u001B[39mtz_convert(to_tz)\u001B[38;5;241m.\u001B[39mdt\u001B[38;5;241m.\u001B[39mtz_localize(\u001B[38;5;28;01mNone\u001B[39;00m)\n\u001B[1;32m    286\u001B[0m \u001B[38;5;28;01melif\u001B[39;00m is_datetime64_dtype(s\u001B[38;5;241m.\u001B[39mdtype) \u001B[38;5;129;01mand\u001B[39;00m from_tz \u001B[38;5;241m!=\u001B[39m to_tz:\n\u001B[1;32m    287\u001B[0m     \u001B[38;5;66;03m# `s.dt.tz_localize('tzlocal()')` doesn't work properly when including NaT.\u001B[39;00m\n\u001B[0;32m--> 288\u001B[0m     \u001B[38;5;28;01mreturn\u001B[39;00m \u001B[43ms\u001B[49m\u001B[38;5;241;43m.\u001B[39;49m\u001B[43mapply\u001B[49m\u001B[43m(\u001B[49m\n\u001B[1;32m    289\u001B[0m \u001B[43m        \u001B[49m\u001B[38;5;28;43;01mlambda\u001B[39;49;00m\u001B[43m \u001B[49m\u001B[43mts\u001B[49m\u001B[43m:\u001B[49m\u001B[43m \u001B[49m\u001B[43mts\u001B[49m\u001B[38;5;241;43m.\u001B[39;49m\u001B[43mtz_localize\u001B[49m\u001B[43m(\u001B[49m\u001B[43mfrom_tz\u001B[49m\u001B[43m,\u001B[49m\u001B[43m \u001B[49m\u001B[43mambiguous\u001B[49m\u001B[38;5;241;43m=\u001B[39;49m\u001B[38;5;28;43;01mFalse\u001B[39;49;00m\u001B[43m)\u001B[49m\u001B[38;5;241;43m.\u001B[39;49m\u001B[43mtz_convert\u001B[49m\u001B[43m(\u001B[49m\u001B[43mto_tz\u001B[49m\u001B[43m)\u001B[49m\u001B[38;5;241;43m.\u001B[39;49m\u001B[43mtz_localize\u001B[49m\u001B[43m(\u001B[49m\u001B[38;5;28;43;01mNone\u001B[39;49;00m\u001B[43m)\u001B[49m\n\u001B[1;32m    290\u001B[0m \u001B[43m        \u001B[49m\u001B[38;5;28;43;01mif\u001B[39;49;00m\u001B[43m \u001B[49m\u001B[43mts\u001B[49m\u001B[43m \u001B[49m\u001B[38;5;129;43;01mis\u001B[39;49;00m\u001B[43m \u001B[49m\u001B[38;5;129;43;01mnot\u001B[39;49;00m\u001B[43m \u001B[49m\u001B[43mpd\u001B[49m\u001B[38;5;241;43m.\u001B[39;49m\u001B[43mNaT\u001B[49m\u001B[43m \u001B[49m\u001B[38;5;28;43;01melse\u001B[39;49;00m\u001B[43m \u001B[49m\u001B[43mpd\u001B[49m\u001B[38;5;241;43m.\u001B[39;49m\u001B[43mNaT\u001B[49m\u001B[43m)\u001B[49m\n\u001B[1;32m    291\u001B[0m \u001B[38;5;28;01melse\u001B[39;00m:\n\u001B[1;32m    292\u001B[0m     \u001B[38;5;28;01mreturn\u001B[39;00m s\n",
      "File \u001B[0;32m~/GITHUB/grupo-g2-pi-2022/PYSPARK-SPRINT-3/env/lib/python3.10/site-packages/pandas/core/series.py:4433\u001B[0m, in \u001B[0;36mSeries.apply\u001B[0;34m(self, func, convert_dtype, args, **kwargs)\u001B[0m\n\u001B[1;32m   4323\u001B[0m \u001B[38;5;28;01mdef\u001B[39;00m \u001B[38;5;21mapply\u001B[39m(\n\u001B[1;32m   4324\u001B[0m     \u001B[38;5;28mself\u001B[39m,\n\u001B[1;32m   4325\u001B[0m     func: AggFuncType,\n\u001B[0;32m   (...)\u001B[0m\n\u001B[1;32m   4328\u001B[0m     \u001B[38;5;241m*\u001B[39m\u001B[38;5;241m*\u001B[39mkwargs,\n\u001B[1;32m   4329\u001B[0m ) \u001B[38;5;241m-\u001B[39m\u001B[38;5;241m>\u001B[39m DataFrame \u001B[38;5;241m|\u001B[39m Series:\n\u001B[1;32m   4330\u001B[0m     \u001B[38;5;124;03m\"\"\"\u001B[39;00m\n\u001B[1;32m   4331\u001B[0m \u001B[38;5;124;03m    Invoke function on values of Series.\u001B[39;00m\n\u001B[1;32m   4332\u001B[0m \n\u001B[0;32m   (...)\u001B[0m\n\u001B[1;32m   4431\u001B[0m \u001B[38;5;124;03m    dtype: float64\u001B[39;00m\n\u001B[1;32m   4432\u001B[0m \u001B[38;5;124;03m    \"\"\"\u001B[39;00m\n\u001B[0;32m-> 4433\u001B[0m     \u001B[38;5;28;01mreturn\u001B[39;00m \u001B[43mSeriesApply\u001B[49m\u001B[43m(\u001B[49m\u001B[38;5;28;43mself\u001B[39;49m\u001B[43m,\u001B[49m\u001B[43m \u001B[49m\u001B[43mfunc\u001B[49m\u001B[43m,\u001B[49m\u001B[43m \u001B[49m\u001B[43mconvert_dtype\u001B[49m\u001B[43m,\u001B[49m\u001B[43m \u001B[49m\u001B[43margs\u001B[49m\u001B[43m,\u001B[49m\u001B[43m \u001B[49m\u001B[43mkwargs\u001B[49m\u001B[43m)\u001B[49m\u001B[38;5;241;43m.\u001B[39;49m\u001B[43mapply\u001B[49m\u001B[43m(\u001B[49m\u001B[43m)\u001B[49m\n",
      "File \u001B[0;32m~/GITHUB/grupo-g2-pi-2022/PYSPARK-SPRINT-3/env/lib/python3.10/site-packages/pandas/core/apply.py:1082\u001B[0m, in \u001B[0;36mSeriesApply.apply\u001B[0;34m(self)\u001B[0m\n\u001B[1;32m   1078\u001B[0m \u001B[38;5;28;01mif\u001B[39;00m \u001B[38;5;28misinstance\u001B[39m(\u001B[38;5;28mself\u001B[39m\u001B[38;5;241m.\u001B[39mf, \u001B[38;5;28mstr\u001B[39m):\n\u001B[1;32m   1079\u001B[0m     \u001B[38;5;66;03m# if we are a string, try to dispatch\u001B[39;00m\n\u001B[1;32m   1080\u001B[0m     \u001B[38;5;28;01mreturn\u001B[39;00m \u001B[38;5;28mself\u001B[39m\u001B[38;5;241m.\u001B[39mapply_str()\n\u001B[0;32m-> 1082\u001B[0m \u001B[38;5;28;01mreturn\u001B[39;00m \u001B[38;5;28;43mself\u001B[39;49m\u001B[38;5;241;43m.\u001B[39;49m\u001B[43mapply_standard\u001B[49m\u001B[43m(\u001B[49m\u001B[43m)\u001B[49m\n",
      "File \u001B[0;32m~/GITHUB/grupo-g2-pi-2022/PYSPARK-SPRINT-3/env/lib/python3.10/site-packages/pandas/core/apply.py:1137\u001B[0m, in \u001B[0;36mSeriesApply.apply_standard\u001B[0;34m(self)\u001B[0m\n\u001B[1;32m   1131\u001B[0m         values \u001B[38;5;241m=\u001B[39m obj\u001B[38;5;241m.\u001B[39mastype(\u001B[38;5;28mobject\u001B[39m)\u001B[38;5;241m.\u001B[39m_values\n\u001B[1;32m   1132\u001B[0m         \u001B[38;5;66;03m# error: Argument 2 to \"map_infer\" has incompatible type\u001B[39;00m\n\u001B[1;32m   1133\u001B[0m         \u001B[38;5;66;03m# \"Union[Callable[..., Any], str, List[Union[Callable[..., Any], str]],\u001B[39;00m\n\u001B[1;32m   1134\u001B[0m         \u001B[38;5;66;03m# Dict[Hashable, Union[Union[Callable[..., Any], str],\u001B[39;00m\n\u001B[1;32m   1135\u001B[0m         \u001B[38;5;66;03m# List[Union[Callable[..., Any], str]]]]]\"; expected\u001B[39;00m\n\u001B[1;32m   1136\u001B[0m         \u001B[38;5;66;03m# \"Callable[[Any], Any]\"\u001B[39;00m\n\u001B[0;32m-> 1137\u001B[0m         mapped \u001B[38;5;241m=\u001B[39m \u001B[43mlib\u001B[49m\u001B[38;5;241;43m.\u001B[39;49m\u001B[43mmap_infer\u001B[49m\u001B[43m(\u001B[49m\n\u001B[1;32m   1138\u001B[0m \u001B[43m            \u001B[49m\u001B[43mvalues\u001B[49m\u001B[43m,\u001B[49m\n\u001B[1;32m   1139\u001B[0m \u001B[43m            \u001B[49m\u001B[43mf\u001B[49m\u001B[43m,\u001B[49m\u001B[43m  \u001B[49m\u001B[38;5;66;43;03m# type: ignore[arg-type]\u001B[39;49;00m\n\u001B[1;32m   1140\u001B[0m \u001B[43m            \u001B[49m\u001B[43mconvert\u001B[49m\u001B[38;5;241;43m=\u001B[39;49m\u001B[38;5;28;43mself\u001B[39;49m\u001B[38;5;241;43m.\u001B[39;49m\u001B[43mconvert_dtype\u001B[49m\u001B[43m,\u001B[49m\n\u001B[1;32m   1141\u001B[0m \u001B[43m        \u001B[49m\u001B[43m)\u001B[49m\n\u001B[1;32m   1143\u001B[0m \u001B[38;5;28;01mif\u001B[39;00m \u001B[38;5;28mlen\u001B[39m(mapped) \u001B[38;5;129;01mand\u001B[39;00m \u001B[38;5;28misinstance\u001B[39m(mapped[\u001B[38;5;241m0\u001B[39m], ABCSeries):\n\u001B[1;32m   1144\u001B[0m     \u001B[38;5;66;03m# GH#43986 Need to do list(mapped) in order to get treated as nested\u001B[39;00m\n\u001B[1;32m   1145\u001B[0m     \u001B[38;5;66;03m#  See also GH#25959 regarding EA support\u001B[39;00m\n\u001B[1;32m   1146\u001B[0m     \u001B[38;5;28;01mreturn\u001B[39;00m obj\u001B[38;5;241m.\u001B[39m_constructor_expanddim(\u001B[38;5;28mlist\u001B[39m(mapped), index\u001B[38;5;241m=\u001B[39mobj\u001B[38;5;241m.\u001B[39mindex)\n",
      "File \u001B[0;32mpandas/_libs/lib.pyx:2870\u001B[0m, in \u001B[0;36mpandas._libs.lib.map_infer\u001B[0;34m()\u001B[0m\n",
      "File \u001B[0;32m~/GITHUB/grupo-g2-pi-2022/PYSPARK-SPRINT-3/env/lib/python3.10/site-packages/pyspark/sql/pandas/types.py:289\u001B[0m, in \u001B[0;36m_check_series_convert_timestamps_localize.<locals>.<lambda>\u001B[0;34m(ts)\u001B[0m\n\u001B[1;32m    285\u001B[0m     \u001B[38;5;28;01mreturn\u001B[39;00m s\u001B[38;5;241m.\u001B[39mdt\u001B[38;5;241m.\u001B[39mtz_convert(to_tz)\u001B[38;5;241m.\u001B[39mdt\u001B[38;5;241m.\u001B[39mtz_localize(\u001B[38;5;28;01mNone\u001B[39;00m)\n\u001B[1;32m    286\u001B[0m \u001B[38;5;28;01melif\u001B[39;00m is_datetime64_dtype(s\u001B[38;5;241m.\u001B[39mdtype) \u001B[38;5;129;01mand\u001B[39;00m from_tz \u001B[38;5;241m!=\u001B[39m to_tz:\n\u001B[1;32m    287\u001B[0m     \u001B[38;5;66;03m# `s.dt.tz_localize('tzlocal()')` doesn't work properly when including NaT.\u001B[39;00m\n\u001B[1;32m    288\u001B[0m     \u001B[38;5;28;01mreturn\u001B[39;00m s\u001B[38;5;241m.\u001B[39mapply(\n\u001B[0;32m--> 289\u001B[0m         \u001B[38;5;28;01mlambda\u001B[39;00m ts: \u001B[43mts\u001B[49m\u001B[38;5;241;43m.\u001B[39;49m\u001B[43mtz_localize\u001B[49m\u001B[43m(\u001B[49m\u001B[43mfrom_tz\u001B[49m\u001B[43m,\u001B[49m\u001B[43m \u001B[49m\u001B[43mambiguous\u001B[49m\u001B[38;5;241;43m=\u001B[39;49m\u001B[38;5;28;43;01mFalse\u001B[39;49;00m\u001B[43m)\u001B[49m\u001B[38;5;241m.\u001B[39mtz_convert(to_tz)\u001B[38;5;241m.\u001B[39mtz_localize(\u001B[38;5;28;01mNone\u001B[39;00m)\n\u001B[1;32m    290\u001B[0m         \u001B[38;5;28;01mif\u001B[39;00m ts \u001B[38;5;129;01mis\u001B[39;00m \u001B[38;5;129;01mnot\u001B[39;00m pd\u001B[38;5;241m.\u001B[39mNaT \u001B[38;5;28;01melse\u001B[39;00m pd\u001B[38;5;241m.\u001B[39mNaT)\n\u001B[1;32m    291\u001B[0m \u001B[38;5;28;01melse\u001B[39;00m:\n\u001B[1;32m    292\u001B[0m     \u001B[38;5;28;01mreturn\u001B[39;00m s\n",
      "File \u001B[0;32mpandas/_libs/tslibs/timestamps.pyx:1833\u001B[0m, in \u001B[0;36mpandas._libs.tslibs.timestamps.Timestamp.tz_localize\u001B[0;34m()\u001B[0m\n",
      "File \u001B[0;32mpandas/_libs/tslibs/tzconversion.pyx:74\u001B[0m, in \u001B[0;36mpandas._libs.tslibs.tzconversion.tz_localize_to_utc_single\u001B[0;34m()\u001B[0m\n",
      "File \u001B[0;32mpandas/_libs/tslibs/tzconversion.pyx:328\u001B[0m, in \u001B[0;36mpandas._libs.tslibs.tzconversion.tz_localize_to_utc\u001B[0;34m()\u001B[0m\n",
      "\u001B[0;31mNonExistentTimeError\u001B[0m: 2000-10-08 00:00:00"
     ]
    }
   ],
   "source": [
    "psdf = ps.from_pandas(pdf)"
   ]
  },
  {
   "cell_type": "code",
   "execution_count": 32,
   "id": "bc115c3a",
   "metadata": {
    "pycharm": {
     "name": "#%%\n"
    }
   },
   "outputs": [],
   "source": [
    "psdf = psdf.cummax()"
   ]
  },
  {
   "cell_type": "code",
   "execution_count": 33,
   "id": "600b95bd",
   "metadata": {
    "pycharm": {
     "name": "#%%\n"
    }
   },
   "outputs": [
    {
     "data": {
      "text/plain": "<AxesSubplot:>"
     },
     "execution_count": 33,
     "metadata": {},
     "output_type": "execute_result"
    },
    {
     "data": {
      "text/plain": "<Figure size 432x288 with 1 Axes>",
      "image/png": "[encoded data removed]"
     },
     "metadata": {
      "needs_background": "light"
     },
     "output_type": "display_data"
    }
   ],
   "source": [
    "psdf.plot()"
   ]
  },
  {
   "cell_type": "code",
   "execution_count": null,
   "id": "00bc2c9a",
   "metadata": {
    "pycharm": {
     "name": "#%%\n"
    }
   },
   "outputs": [],
   "source": []
  }
 ],
 "metadata": {
  "kernelspec": {
   "display_name": "Python 3 (ipykernel)",
   "language": "python",
   "name": "python3"
  },
  "language_info": {
   "codemirror_mode": {
    "name": "ipython",
    "version": 3
   },
   "file_extension": ".py",
   "mimetype": "text/x-python",
   "name": "python",
   "nbconvert_exporter": "python",
   "pygments_lexer": "ipython3",
   "version": "3.7.10"
  }
 },
 "nbformat": 4,
 "nbformat_minor": 5
}