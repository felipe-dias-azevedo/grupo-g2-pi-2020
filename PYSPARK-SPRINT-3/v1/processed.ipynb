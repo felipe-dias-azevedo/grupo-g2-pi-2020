{
 "cells": [
  {
   "cell_type": "code",
   "execution_count": null,
   "outputs": [],
   "source": [
    "import pandas as pd\n",
    "from datetime import datetime, date\n",
    "from processing import Process\n",
    "\n",
    "procdata = Process()"
   ],
   "metadata": {
    "collapsed": false,
    "pycharm": {
     "name": "#%%\n"
    }
   }
  },
  {
   "cell_type": "code",
   "execution_count": null,
   "outputs": [],
   "source": [
    "dftweet = pd.read_json('processed_data/twitter-results-2022-05-28_04-30-46.json')\n",
    "\n",
    "dfmaster = pd.read_csv('processed_data/prouni-processado.csv')"
   ],
   "metadata": {
    "collapsed": false,
    "pycharm": {
     "name": "#%%\n"
    }
   }
  },
  {
   "cell_type": "code",
   "execution_count": null,
   "outputs": [],
   "source": [
    "dftweet.head(10)"
   ],
   "metadata": {
    "collapsed": false,
    "pycharm": {
     "name": "#%%\n"
    }
   }
  },
  {
   "cell_type": "code",
   "execution_count": null,
   "outputs": [],
   "source": [
    "print(dftweet.columns)\n",
    "dftweet.count()\n",
    "dftweet[dftweet['positive']==True]\n",
    "dftweet[dftweet['verified']==True]\n",
    "dftweet[dftweet['sentiment']!=0.0].count()\n"
   ],
   "metadata": {
    "collapsed": false,
    "pycharm": {
     "name": "#%%\n"
    }
   }
  },
  {
   "cell_type": "code",
   "execution_count": null,
   "outputs": [],
   "source": [
    "tweets = dftweet['frequent'].agg('sum')\n",
    "twtts = procdata.freq_tweet(tweets)\n",
    "\n",
    "print(\"Sem tratamento\", len(twtts))\n",
    "\n",
    "tweetsfreq = pd.DataFrame(twtts, columns=['palavra', 'frequencia'])\\\n",
    "    .drop_duplicates(subset=['palavra'])\\\n",
    "    .sort_values(by=['frequencia'], ascending=False)\n",
    "\n",
    "print(\"Com tratamento\", tweetsfreq.__len__())\n",
    "tweetsfreq.head(10)"
   ],
   "metadata": {
    "collapsed": false,
    "pycharm": {
     "name": "#%%\n"
    }
   }
  },
  {
   "cell_type": "code",
   "execution_count": null,
   "outputs": [],
   "source": [
    "tempdftweets = dftweet.copy()\n",
    "tempdftweets['frequent'] = procdata.words_in_tweet(tempdftweets['frequent'])\n",
    "\n",
    "tweetsfreq['sentimento'] = tweetsfreq['palavra'].apply(lambda w: procdata.get_sentiment_of_value(tempdftweets, w))\n",
    "tweetsfreq = tweetsfreq.reset_index(drop=True)\n",
    "tweetsfreq.head(10)"
   ],
   "metadata": {
    "collapsed": false,
    "pycharm": {
     "name": "#%%\n"
    }
   }
  },
  {
   "cell_type": "code",
   "execution_count": null,
   "outputs": [],
   "source": [
    "sdates = dftweet['date'].map(lambda x: x.date()).drop_duplicates().reset_index(drop=True)\n",
    "ssentdate = sdates.apply(lambda sd: dftweet.loc[dftweet['date'].apply(lambda d: d.date() == sd)]['sentiment'].mean())\n",
    "temptweets = pd.DataFrame({\n",
    "    'data': sdates,\n",
    "    'sentimento': ssentdate\n",
    "})\n",
    "temptweets"
   ],
   "metadata": {
    "collapsed": false,
    "pycharm": {
     "name": "#%%\n"
    }
   }
  },
  {
   "cell_type": "code",
   "execution_count": null,
   "outputs": [],
   "source": [
    "stateslist = dfmaster.groupby(by='estado').size().sort_values(ascending=False).head(6).index\n",
    "sstates = pd.Series(stateslist).reset_index(drop=True)\n",
    "\n",
    "sstatesmensals = sstates.apply(lambda sd: dfmaster.loc[dfmaster['estado'].apply(lambda e: e == sd )]['mensalidade'].median())\n",
    "bestmensals = pd.DataFrame({\n",
    "    'estado': sstates,\n",
    "    'mensalidade': sstatesmensals\n",
    "})\n",
    "bestmensals.sort_values(by='mensalidade', ascending=False)"
   ],
   "metadata": {
    "collapsed": false,
    "pycharm": {
     "name": "#%%\n"
    }
   }
  },
  {
   "cell_type": "code",
   "execution_count": null,
   "outputs": [],
   "source": [
    "# TODO: Obter mensalidade de cada estado e se os estudantes terem tido acesso a internet durante a escola influencia"
   ],
   "metadata": {
    "collapsed": false,
    "pycharm": {
     "name": "#%%\n"
    }
   }
  },
  {
   "cell_type": "code",
   "execution_count": null,
   "outputs": [],
   "source": [
    "stateslist = dfmaster.groupby(by='estado').size().sort_values(ascending=False).head(6).index\n",
    "sstates = pd.Series(stateslist).reset_index(drop=True)\n",
    "sstatesmensals = sstates.apply(lambda state: dfmaster.loc[dfmaster['estado'].apply(lambda estado: estado == state)]['nota_bolsa'].median())\n",
    "bestgrades = pd.DataFrame({\n",
    "    'estado': sstates,\n",
    "    'notabolsa': sstatesmensals.map(lambda x: round(x))\n",
    "})\n",
    "bestgrades.sort_values(by='notabolsa', ascending=False)"
   ],
   "metadata": {
    "collapsed": false,
    "pycharm": {
     "name": "#%%\n"
    }
   }
  },
  {
   "cell_type": "code",
   "execution_count": null,
   "outputs": [],
   "source": [
    "# TODO: Obter nota das bolsas de cada estado e se a qualidade da escola influencia"
   ],
   "metadata": {
    "collapsed": false,
    "pycharm": {
     "name": "#%%\n"
    }
   }
  },
  {
   "cell_type": "code",
   "execution_count": null,
   "outputs": [],
   "source": [
    "dfmaster.groupby(by='estado').size().sort_values(ascending=False).head(6)"
   ],
   "metadata": {
    "collapsed": false,
    "pycharm": {
     "name": "#%%\n"
    }
   }
  },
  {
   "cell_type": "code",
   "execution_count": 49,
   "metadata": {},
   "outputs": [
    {
     "data": {
      "text/html": [
       "<div>\n",
       "<style scoped>\n",
       "    .dataframe tbody tr th:only-of-type {\n",
       "        vertical-align: middle;\n",
       "    }\n",
       "\n",
       "    .dataframe tbody tr th {\n",
       "        vertical-align: top;\n",
       "    }\n",
       "\n",
       "    .dataframe thead th {\n",
       "        text-align: right;\n",
       "    }\n",
       "</style>\n",
       "<table border=\"1\" class=\"dataframe\">\n",
       "  <thead>\n",
       "    <tr style=\"text-align: right;\">\n",
       "      <th></th>\n",
       "      <th>data</th>\n",
       "      <th>sentimento</th>\n",
       "    </tr>\n",
       "  </thead>\n",
       "  <tbody>\n",
       "    <tr>\n",
       "      <th>0</th>\n",
       "      <td>2022-05-24</td>\n",
       "      <td>0.018400</td>\n",
       "    </tr>\n",
       "    <tr>\n",
       "      <th>1</th>\n",
       "      <td>2022-05-23</td>\n",
       "      <td>-0.105695</td>\n",
       "    </tr>\n",
       "    <tr>\n",
       "      <th>2</th>\n",
       "      <td>2022-05-22</td>\n",
       "      <td>-0.194256</td>\n",
       "    </tr>\n",
       "    <tr>\n",
       "      <th>3</th>\n",
       "      <td>2022-05-21</td>\n",
       "      <td>0.110800</td>\n",
       "    </tr>\n",
       "    <tr>\n",
       "      <th>4</th>\n",
       "      <td>2022-05-20</td>\n",
       "      <td>-0.100331</td>\n",
       "    </tr>\n",
       "    <tr>\n",
       "      <th>5</th>\n",
       "      <td>2022-05-19</td>\n",
       "      <td>-0.158281</td>\n",
       "    </tr>\n",
       "    <tr>\n",
       "      <th>6</th>\n",
       "      <td>2022-05-18</td>\n",
       "      <td>-0.026539</td>\n",
       "    </tr>\n",
       "    <tr>\n",
       "      <th>7</th>\n",
       "      <td>2022-05-17</td>\n",
       "      <td>-0.066903</td>\n",
       "    </tr>\n",
       "  </tbody>\n",
       "</table>\n",
       "</div>"
      ],
      "text/plain": [
       "         data  sentimento\n",
       "0  2022-05-24    0.018400\n",
       "1  2022-05-23   -0.105695\n",
       "2  2022-05-22   -0.194256\n",
       "3  2022-05-21    0.110800\n",
       "4  2022-05-20   -0.100331\n",
       "5  2022-05-19   -0.158281\n",
       "6  2022-05-18   -0.026539\n",
       "7  2022-05-17   -0.066903"
      ]
     },
     "execution_count": 49,
     "metadata": {},
     "output_type": "execute_result"
    }
   ],
   "source": [
    "sdates = dftweet['date'].map(lambda x: x.date()).drop_duplicates().reset_index(drop=True)\n",
    "ssentdate = sdates.apply(lambda sd: dftweet.loc[dftweet['date'].apply(lambda d: d.date() == sd)]['sentiment'].mean())\n",
    "temptweets = pd.DataFrame({\n",
    "    'data': sdates,\n",
    "    'sentimento': ssentdate\n",
    "})\n",
    "temptweets"
   ]
  },
  {
   "cell_type": "code",
   "execution_count": 108,
   "metadata": {},
   "outputs": [
    {
     "data": {
      "text/html": [
       "<div>\n",
       "<style scoped>\n",
       "    .dataframe tbody tr th:only-of-type {\n",
       "        vertical-align: middle;\n",
       "    }\n",
       "\n",
       "    .dataframe tbody tr th {\n",
       "        vertical-align: top;\n",
       "    }\n",
       "\n",
       "    .dataframe thead th {\n",
       "        text-align: right;\n",
       "    }\n",
       "</style>\n",
       "<table border=\"1\" class=\"dataframe\">\n",
       "  <thead>\n",
       "    <tr style=\"text-align: right;\">\n",
       "      <th></th>\n",
       "      <th>estado</th>\n",
       "      <th>mensalidade</th>\n",
       "    </tr>\n",
       "  </thead>\n",
       "  <tbody>\n",
       "    <tr>\n",
       "      <th>4</th>\n",
       "      <td>BA</td>\n",
       "      <td>580.00</td>\n",
       "    </tr>\n",
       "    <tr>\n",
       "      <th>1</th>\n",
       "      <td>MG</td>\n",
       "      <td>536.04</td>\n",
       "    </tr>\n",
       "    <tr>\n",
       "      <th>0</th>\n",
       "      <td>SP</td>\n",
       "      <td>498.00</td>\n",
       "    </tr>\n",
       "    <tr>\n",
       "      <th>3</th>\n",
       "      <td>RS</td>\n",
       "      <td>443.00</td>\n",
       "    </tr>\n",
       "    <tr>\n",
       "      <th>2</th>\n",
       "      <td>PR</td>\n",
       "      <td>393.35</td>\n",
       "    </tr>\n",
       "    <tr>\n",
       "      <th>5</th>\n",
       "      <td>SC</td>\n",
       "      <td>393.35</td>\n",
       "    </tr>\n",
       "  </tbody>\n",
       "</table>\n",
       "</div>"
      ],
      "text/plain": [
       "  estado  mensalidade\n",
       "4     BA       580.00\n",
       "1     MG       536.04\n",
       "0     SP       498.00\n",
       "3     RS       443.00\n",
       "2     PR       393.35\n",
       "5     SC       393.35"
      ]
     },
     "execution_count": 108,
     "metadata": {},
     "output_type": "execute_result"
    }
   ],
   "source": [
    "stateslist = dfmaster.groupby(by='estado').size().sort_values(ascending=False).head(6).index\n",
    "sstates = pd.Series(stateslist).reset_index(drop=True)\n",
    "\n",
    "sstatesmensals = sstates.apply(lambda sd: dfmaster.loc[dfmaster['estado'].apply(lambda e: e == sd )]['mensalidade'].median())\n",
    "bestmensals = pd.DataFrame({\n",
    "    'estado': sstates,\n",
    "    'mensalidade': sstatesmensals\n",
    "})\n",
    "bestmensals.sort_values(by='mensalidade', ascending=False)"
   ]
  },
  {
   "cell_type": "code",
   "execution_count": null,
   "metadata": {},
   "outputs": [],
   "source": [
    "# TODO: Obter mensalidade de cada estado e se os estudantes terem tido acesso a internet durante a escola influencia"
   ]
  },
  {
   "cell_type": "code",
   "execution_count": 112,
   "metadata": {},
   "outputs": [
    {
     "data": {
      "text/html": [
       "<div>\n",
       "<style scoped>\n",
       "    .dataframe tbody tr th:only-of-type {\n",
       "        vertical-align: middle;\n",
       "    }\n",
       "\n",
       "    .dataframe tbody tr th {\n",
       "        vertical-align: top;\n",
       "    }\n",
       "\n",
       "    .dataframe thead th {\n",
       "        text-align: right;\n",
       "    }\n",
       "</style>\n",
       "<table border=\"1\" class=\"dataframe\">\n",
       "  <thead>\n",
       "    <tr style=\"text-align: right;\">\n",
       "      <th></th>\n",
       "      <th>estado</th>\n",
       "      <th>notabolsa</th>\n",
       "    </tr>\n",
       "  </thead>\n",
       "  <tbody>\n",
       "    <tr>\n",
       "      <th>1</th>\n",
       "      <td>MG</td>\n",
       "      <td>583</td>\n",
       "    </tr>\n",
       "    <tr>\n",
       "      <th>4</th>\n",
       "      <td>BA</td>\n",
       "      <td>571</td>\n",
       "    </tr>\n",
       "    <tr>\n",
       "      <th>3</th>\n",
       "      <td>RS</td>\n",
       "      <td>567</td>\n",
       "    </tr>\n",
       "    <tr>\n",
       "      <th>0</th>\n",
       "      <td>SP</td>\n",
       "      <td>551</td>\n",
       "    </tr>\n",
       "    <tr>\n",
       "      <th>5</th>\n",
       "      <td>SC</td>\n",
       "      <td>550</td>\n",
       "    </tr>\n",
       "    <tr>\n",
       "      <th>2</th>\n",
       "      <td>PR</td>\n",
       "      <td>545</td>\n",
       "    </tr>\n",
       "  </tbody>\n",
       "</table>\n",
       "</div>"
      ],
      "text/plain": [
       "  estado  notabolsa\n",
       "1     MG        583\n",
       "4     BA        571\n",
       "3     RS        567\n",
       "0     SP        551\n",
       "5     SC        550\n",
       "2     PR        545"
      ]
     },
     "execution_count": 112,
     "metadata": {},
     "output_type": "execute_result"
    }
   ],
   "source": [
    "stateslist = dfmaster.groupby(by='estado').size().sort_values(ascending=False).head(6).index\n",
    "sstates = pd.Series(stateslist).reset_index(drop=True)\n",
    "sstatesmensals = sstates.apply(lambda state: dfmaster.loc[dfmaster['estado'].apply(lambda estado: estado == state)]['nota_bolsa'].median())\n",
    "bestgrades = pd.DataFrame({\n",
    "    'estado': sstates,\n",
    "    'notabolsa': sstatesmensals.map(lambda x: round(x))\n",
    "})\n",
    "bestgrades.sort_values(by='notabolsa', ascending=False)"
   ]
  },
  {
   "cell_type": "code",
   "execution_count": null,
   "metadata": {},
   "outputs": [],
   "source": [
    "# TODO: Obter nota das bolsas de cada estado e se a qualidade da escola influencia"
   ]
  },
  {
   "cell_type": "code",
   "execution_count": 26,
   "metadata": {
    "pycharm": {
     "name": "#%%\n"
    }
   },
   "outputs": [
    {
     "data": {
      "text/plain": [
       "estado\n",
       "SP    7277\n",
       "MG    2586\n",
       "PR    2244\n",
       "RS    1891\n",
       "BA    1676\n",
       "SC    1139\n",
       "dtype: int64"
      ]
     },
     "execution_count": 26,
     "metadata": {},
     "output_type": "execute_result"
    }
   ],
   "source": [
    "dfmaster.groupby(by='estado').size().sort_values(ascending=False).head(6)"
   ]
  }
 ],
 "metadata": {
  "interpreter": {
   "hash": "737ded1b7130139c98941fe8735c597799a4df27f381bdac8d9bcef9ffcf7874"
  },
  "kernelspec": {
   "display_name": "Python 3.10.4 ('env': venv)",
   "language": "python",
   "name": "python3"
  },
  "language_info": {
   "codemirror_mode": {
    "name": "ipython",
    "version": 3
   },
   "file_extension": ".py",
   "mimetype": "text/x-python",
   "name": "python",
   "nbconvert_exporter": "python",
   "pygments_lexer": "ipython3",
   "version": "3.10.4"
  },
  "orig_nbformat": 4
 },
 "nbformat": 4,
 "nbformat_minor": 2
}