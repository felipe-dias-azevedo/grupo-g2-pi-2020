{
 "cells": [
  {
   "cell_type": "code",
   "execution_count": 1,
   "metadata": {
    "collapsed": false,
    "pycharm": {
     "name": "#%%\n"
    }
   },
   "outputs": [
    {
     "name": "stderr",
     "output_type": "stream",
     "text": [
      "WARNING: An illegal reflective access operation has occurred\n",
      "WARNING: Illegal reflective access by org.apache.spark.unsafe.Platform (file:/Users/felipeazevedo/GITHUB/grupo-g2-pi-2022/PYSPARK-SPRINT-3/env/lib/python3.10/site-packages/pyspark/jars/spark-unsafe_2.12-3.2.1.jar) to constructor java.nio.DirectByteBuffer(long,int)\n",
      "WARNING: Please consider reporting this to the maintainers of org.apache.spark.unsafe.Platform\n",
      "WARNING: Use --illegal-access=warn to enable warnings of further illegal reflective access operations\n",
      "WARNING: All illegal access operations will be denied in a future release\n",
      "Using Spark's default log4j profile: org/apache/spark/log4j-defaults.properties\n",
      "Setting default log level to \"WARN\".\n",
      "To adjust logging level use sc.setLogLevel(newLevel). For SparkR, use setLogLevel(newLevel).\n",
      "22/05/29 22:10:32 WARN NativeCodeLoader: Unable to load native-hadoop library for your platform... using builtin-java classes where applicable\n"
     ]
    }
   ],
   "source": [
    "from pyspark import SparkConf\n",
    "from pyspark.sql import SparkSession\n",
    "import pandas as pd\n",
    "from processing import Process\n",
    "\n",
    "conf = SparkConf()\n",
    "# conf.set('spark.jars.packages', 'org.apache.hadoop:hadoop-aws:3.2.0')\n",
    "# conf.set('spark.hadoop.fs.s3a.aws.credentials.provider', 'com.amazonaws.auth.InstanceProfileCredentialsProvider')\n",
    "spark = SparkSession.builder.config(conf=conf).getOrCreate()\n",
    "\n",
    "procdata = Process()"
   ]
  },
  {
   "cell_type": "code",
   "execution_count": 2,
   "metadata": {
    "collapsed": false,
    "pycharm": {
     "name": "#%%\n"
    }
   },
   "outputs": [
    {
     "name": "stdout",
     "output_type": "stream",
     "text": [
      "41447 rows\n"
     ]
    },
    {
     "data": {
      "text/plain": "       mensalidade estado              municipio  \\\n35291       257.19     MG        pocos de caldas   \n24967       319.00     BA               guanambi   \n13960       648.36     DF               brasilia   \n24349       325.00     PA               itaituba   \n24981       319.00     DF               brasilia   \n2472       1420.85     MA               sao luis   \n26568       299.00     AL  sao miguel dos campos   \n35219       259.00     TO                 palmas   \n26676       299.00     ES             vila velha   \n24569       325.00     RJ                  macae   \n\n                                curso  quantidade_bolsas  nota_bolsa  \n35291                Gestão Ambiental                2.0      450.00  \n24967                       Pedagogia                1.0      596.06  \n13960            Design de Interiores                2.0      608.70  \n24349                   Administração                1.0      529.58  \n24981           Redes de Computadores                1.0      538.94  \n2472              Engenharia Mecânica                4.0      577.11  \n26568                       Pedagogia                2.0      557.34  \n35219  Embelezamento e Imagem Pessoal                4.0      535.74  \n26676                       Pedagogia                1.0      691.80  \n24569   Letras - Português e Espanhol                1.0      506.34  ",
      "text/html": "<div>\n<style scoped>\n    .dataframe tbody tr th:only-of-type {\n        vertical-align: middle;\n    }\n\n    .dataframe tbody tr th {\n        vertical-align: top;\n    }\n\n    .dataframe thead th {\n        text-align: right;\n    }\n</style>\n<table border=\"1\" class=\"dataframe\">\n  <thead>\n    <tr style=\"text-align: right;\">\n      <th></th>\n      <th>mensalidade</th>\n      <th>estado</th>\n      <th>municipio</th>\n      <th>curso</th>\n      <th>quantidade_bolsas</th>\n      <th>nota_bolsa</th>\n    </tr>\n  </thead>\n  <tbody>\n    <tr>\n      <th>35291</th>\n      <td>257.19</td>\n      <td>MG</td>\n      <td>pocos de caldas</td>\n      <td>Gestão Ambiental</td>\n      <td>2.0</td>\n      <td>450.00</td>\n    </tr>\n    <tr>\n      <th>24967</th>\n      <td>319.00</td>\n      <td>BA</td>\n      <td>guanambi</td>\n      <td>Pedagogia</td>\n      <td>1.0</td>\n      <td>596.06</td>\n    </tr>\n    <tr>\n      <th>13960</th>\n      <td>648.36</td>\n      <td>DF</td>\n      <td>brasilia</td>\n      <td>Design de Interiores</td>\n      <td>2.0</td>\n      <td>608.70</td>\n    </tr>\n    <tr>\n      <th>24349</th>\n      <td>325.00</td>\n      <td>PA</td>\n      <td>itaituba</td>\n      <td>Administração</td>\n      <td>1.0</td>\n      <td>529.58</td>\n    </tr>\n    <tr>\n      <th>24981</th>\n      <td>319.00</td>\n      <td>DF</td>\n      <td>brasilia</td>\n      <td>Redes de Computadores</td>\n      <td>1.0</td>\n      <td>538.94</td>\n    </tr>\n    <tr>\n      <th>2472</th>\n      <td>1420.85</td>\n      <td>MA</td>\n      <td>sao luis</td>\n      <td>Engenharia Mecânica</td>\n      <td>4.0</td>\n      <td>577.11</td>\n    </tr>\n    <tr>\n      <th>26568</th>\n      <td>299.00</td>\n      <td>AL</td>\n      <td>sao miguel dos campos</td>\n      <td>Pedagogia</td>\n      <td>2.0</td>\n      <td>557.34</td>\n    </tr>\n    <tr>\n      <th>35219</th>\n      <td>259.00</td>\n      <td>TO</td>\n      <td>palmas</td>\n      <td>Embelezamento e Imagem Pessoal</td>\n      <td>4.0</td>\n      <td>535.74</td>\n    </tr>\n    <tr>\n      <th>26676</th>\n      <td>299.00</td>\n      <td>ES</td>\n      <td>vila velha</td>\n      <td>Pedagogia</td>\n      <td>1.0</td>\n      <td>691.80</td>\n    </tr>\n    <tr>\n      <th>24569</th>\n      <td>325.00</td>\n      <td>RJ</td>\n      <td>macae</td>\n      <td>Letras - Português e Espanhol</td>\n      <td>1.0</td>\n      <td>506.34</td>\n    </tr>\n  </tbody>\n</table>\n</div>"
     },
     "execution_count": 2,
     "metadata": {},
     "output_type": "execute_result"
    }
   ],
   "source": [
    "geralprouni = pd.DataFrame(pd.read_xml(\"pure_data/geralprouni.xml\"))\n",
    "\n",
    "quantidade_bolsas = geralprouni[['bolsa_integral_cotas', 'bolsa_integral_ampla', 'bolsa_parcial_cotas', 'bolsa_parcial_ampla']].sum(axis=1)\n",
    "nota_bolsa = geralprouni[['nota_integral_ampla', 'nota_integral_cotas', 'nota_parcial_ampla', 'nota_parcial_cotas']].mean(axis=1)\n",
    "\n",
    "prouni = pd.DataFrame({\n",
    "    'mensalidade': geralprouni['mensalidade'], \n",
    "    'estado': geralprouni['uf_busca'], \n",
    "    'municipio': geralprouni['cidade_busca'].map(procdata.no_accents_lower),\n",
    "    'curso': geralprouni['nome'], \n",
    "    'quantidade_bolsas': quantidade_bolsas,\n",
    "    'nota_bolsa': nota_bolsa\n",
    "})\n",
    "#geralprouni.head(5)\n",
    "#print(geralprouni['cidade_busca'].head())\n",
    "print(prouni.__len__(), \"rows\")\n",
    "prouni.sample(n=10)"
   ]
  },
  {
   "cell_type": "code",
   "execution_count": 3,
   "metadata": {
    "collapsed": false,
    "pycharm": {
     "name": "#%%\n"
    }
   },
   "outputs": [
    {
     "name": "stdout",
     "output_type": "stream",
     "text": [
      "Index(['ANO_CONCESSAO_BOLSA', 'CODIGO_EMEC_IES_BOLSA', 'NOME_IES_BOLSA',\n",
      "       'TIPO_BOLSA', 'MODALIDADE_ENSINO_BOLSA', 'NOME_CURSO_BOLSA',\n",
      "       'NOME_TURNO_CURSO_BOLSA', 'CPF_BENEFICIARIO_BOLSA',\n",
      "       'SEXO_BENEFICIARIO_BOLSA', 'RACA_BENEFICIARIO_BOLSA',\n",
      "       'DT_NASCIMENTO_BENEFICIARIO', 'BENEFICIARIO_DEFICIENTE_FISICO',\n",
      "       'REGIAO_BENEFICIARIO_BOLSA', 'SIGLA_UF_BENEFICIARIO_BOLSA',\n",
      "       'MUNICIPIO_BENEFICIARIO_BOLSA'],\n",
      "      dtype='object')\n",
      "236636 rows\n"
     ]
    },
    {
     "data": {
      "text/plain": "                     curso estado              municipio       sexo    raca  \\\n122494       Administração     MG         belo horizonte  Masculino   Preta   \n69117          Gastronomia     DF               brasilia   Feminino   Preta   \n177712    Engenharia Civil     DF               brasilia  Masculino   Parda   \n219193      Fonoaudiologia     AC             rio branco  Masculino   Preta   \n161255      Serviço Social     BA   formosa do rio preto  Masculino   Parda   \n27181            Geografia     RS  santana do livramento  Masculino  Branca   \n233860    Engenharia Civil     PB            joao pessoa  Masculino   Parda   \n106418           Geografia     PR               palmital  Masculino  Branca   \n170866             Direito     SP              sao paulo   Feminino  Branca   \n17766   Química Industrial     SP             piracicaba   Feminino  Branca   \n\n       deficiente  idade  \n122494        Não     39  \n69117         Não     29  \n177712        Não     22  \n219193        Não     24  \n161255        Não     32  \n27181         Não     32  \n233860        Não     33  \n106418        Não     22  \n170866        Não     23  \n17766         Não     23  ",
      "text/html": "<div>\n<style scoped>\n    .dataframe tbody tr th:only-of-type {\n        vertical-align: middle;\n    }\n\n    .dataframe tbody tr th {\n        vertical-align: top;\n    }\n\n    .dataframe thead th {\n        text-align: right;\n    }\n</style>\n<table border=\"1\" class=\"dataframe\">\n  <thead>\n    <tr style=\"text-align: right;\">\n      <th></th>\n      <th>curso</th>\n      <th>estado</th>\n      <th>municipio</th>\n      <th>sexo</th>\n      <th>raca</th>\n      <th>deficiente</th>\n      <th>idade</th>\n    </tr>\n  </thead>\n  <tbody>\n    <tr>\n      <th>122494</th>\n      <td>Administração</td>\n      <td>MG</td>\n      <td>belo horizonte</td>\n      <td>Masculino</td>\n      <td>Preta</td>\n      <td>Não</td>\n      <td>39</td>\n    </tr>\n    <tr>\n      <th>69117</th>\n      <td>Gastronomia</td>\n      <td>DF</td>\n      <td>brasilia</td>\n      <td>Feminino</td>\n      <td>Preta</td>\n      <td>Não</td>\n      <td>29</td>\n    </tr>\n    <tr>\n      <th>177712</th>\n      <td>Engenharia Civil</td>\n      <td>DF</td>\n      <td>brasilia</td>\n      <td>Masculino</td>\n      <td>Parda</td>\n      <td>Não</td>\n      <td>22</td>\n    </tr>\n    <tr>\n      <th>219193</th>\n      <td>Fonoaudiologia</td>\n      <td>AC</td>\n      <td>rio branco</td>\n      <td>Masculino</td>\n      <td>Preta</td>\n      <td>Não</td>\n      <td>24</td>\n    </tr>\n    <tr>\n      <th>161255</th>\n      <td>Serviço Social</td>\n      <td>BA</td>\n      <td>formosa do rio preto</td>\n      <td>Masculino</td>\n      <td>Parda</td>\n      <td>Não</td>\n      <td>32</td>\n    </tr>\n    <tr>\n      <th>27181</th>\n      <td>Geografia</td>\n      <td>RS</td>\n      <td>santana do livramento</td>\n      <td>Masculino</td>\n      <td>Branca</td>\n      <td>Não</td>\n      <td>32</td>\n    </tr>\n    <tr>\n      <th>233860</th>\n      <td>Engenharia Civil</td>\n      <td>PB</td>\n      <td>joao pessoa</td>\n      <td>Masculino</td>\n      <td>Parda</td>\n      <td>Não</td>\n      <td>33</td>\n    </tr>\n    <tr>\n      <th>106418</th>\n      <td>Geografia</td>\n      <td>PR</td>\n      <td>palmital</td>\n      <td>Masculino</td>\n      <td>Branca</td>\n      <td>Não</td>\n      <td>22</td>\n    </tr>\n    <tr>\n      <th>170866</th>\n      <td>Direito</td>\n      <td>SP</td>\n      <td>sao paulo</td>\n      <td>Feminino</td>\n      <td>Branca</td>\n      <td>Não</td>\n      <td>23</td>\n    </tr>\n    <tr>\n      <th>17766</th>\n      <td>Química Industrial</td>\n      <td>SP</td>\n      <td>piracicaba</td>\n      <td>Feminino</td>\n      <td>Branca</td>\n      <td>Não</td>\n      <td>23</td>\n    </tr>\n  </tbody>\n</table>\n</div>"
     },
     "execution_count": 3,
     "metadata": {},
     "output_type": "execute_result"
    }
   ],
   "source": [
    "addprouni = pd.read_json(\"pure_data/prouni.json\")\n",
    "\n",
    "adicionalprouni = pd.DataFrame({\n",
    "    'curso': addprouni['NOME_CURSO_BOLSA'],\n",
    "    'estado': addprouni['SIGLA_UF_BENEFICIARIO_BOLSA'],\n",
    "    'municipio': addprouni['MUNICIPIO_BENEFICIARIO_BOLSA'].map(procdata.no_accents_lower),\n",
    "    'sexo': addprouni['SEXO_BENEFICIARIO_BOLSA'].map(lambda sexo: 'Masculino' if sexo == 'M' else 'Feminino'),\n",
    "    'raca': addprouni['RACA_BENEFICIARIO_BOLSA'].map(lambda raca: 'Outro' if raca not in ['Parda', 'Branca', 'Preta'] else raca),\n",
    "    'deficiente': addprouni['BENEFICIARIO_DEFICIENTE_FISICO'].map(lambda deficiente: 'Sim' if deficiente == 'S' else 'Não'),\n",
    "    'idade': addprouni['DT_NASCIMENTO_BENEFICIARIO'].map(procdata.get_age_from_birthdate)\n",
    "})\n",
    "#addprouni.head(3)\n",
    "print(addprouni.columns)\n",
    "print(adicionalprouni.__len__(), \"rows\")\n",
    "adicionalprouni.sample(n=10)"
   ]
  },
  {
   "cell_type": "code",
   "execution_count": 4,
   "metadata": {
    "collapsed": false,
    "pycharm": {
     "name": "#%%\n"
    }
   },
   "outputs": [
    {
     "name": "stderr",
     "output_type": "stream",
     "text": [
      "/var/folders/90/4r9_jk_s59n2616g7y9snmn00000gn/T/ipykernel_29276/3938479507.py:1: DtypeWarning: Columns (27) have mixed types. Specify dtype option on import or set low_memory=False.\n",
      "  edbasica = pd.read_csv(\"pure_data/microdados_ed_basica_2021.csv\", sep=\";\", encoding=\"latin-1\")\n"
     ]
    },
    {
     "name": "stdout",
     "output_type": "stream",
     "text": [
      "        NU_ANO_CENSO NO_REGIAO  CO_REGIAO         NO_UF SG_UF  CO_UF  \\\n",
      "108895          2021   Sudeste          3  Minas Gerais    MG     31   \n",
      "123774          2021   Sudeste          3  Minas Gerais    MG     31   \n",
      "116973          2021   Sudeste          3  Minas Gerais    MG     31   \n",
      "127936          2021   Sudeste          3  Minas Gerais    MG     31   \n",
      "121935          2021   Sudeste          3  Minas Gerais    MG     31   \n",
      "119910          2021   Sudeste          3  Minas Gerais    MG     31   \n",
      "126806          2021   Sudeste          3  Minas Gerais    MG     31   \n",
      "118353          2021   Sudeste          3  Minas Gerais    MG     31   \n",
      "121292          2021   Sudeste          3  Minas Gerais    MG     31   \n",
      "109849          2021   Sudeste          3  Minas Gerais    MG     31   \n",
      "\n",
      "          NO_MUNICIPIO  CO_MUNICIPIO                    NO_MESORREGIAO  \\\n",
      "108895           Betim       3106705   Metropolitana de Belo Horizonte   \n",
      "123774        Rio Novo       3155405                      Zona da Mata   \n",
      "116973        Januária       3135209                    Norte de Minas   \n",
      "127936      Uberlândia       3170206  Triângulo Mineiro/Alto Paranaíba   \n",
      "121935  Patos de Minas       3148004  Triângulo Mineiro/Alto Paranaíba   \n",
      "119910      Monte Azul       3142908                    Norte de Minas   \n",
      "126806       Simonésia       3167608                      Zona da Mata   \n",
      "118353     Lagoa Santa       3137601   Metropolitana de Belo Horizonte   \n",
      "121292      Ouro Preto       3146107   Metropolitana de Belo Horizonte   \n",
      "109849           Caeté       3110004   Metropolitana de Belo Horizonte   \n",
      "\n",
      "        CO_MESORREGIAO  ... QT_TUR_FUND_AF  QT_TUR_MED  QT_TUR_PROF  \\\n",
      "108895            3107  ...            8.0         0.0          0.0   \n",
      "123774            3112  ...           15.0         0.0          0.0   \n",
      "116973            3102  ...            NaN         NaN          NaN   \n",
      "127936            3105  ...           20.0         0.0          0.0   \n",
      "121935            3105  ...            NaN         NaN          NaN   \n",
      "119910            3102  ...            0.0         0.0          0.0   \n",
      "126806            3112  ...            1.0         0.0          0.0   \n",
      "118353            3107  ...            3.0         0.0          0.0   \n",
      "121292            3107  ...            4.0         0.0          0.0   \n",
      "109849            3107  ...            NaN         NaN          NaN   \n",
      "\n",
      "        QT_TUR_PROF_TEC QT_TUR_EJA  QT_TUR_EJA_FUND  QT_TUR_EJA_MED  \\\n",
      "108895              0.0        0.0              0.0             0.0   \n",
      "123774              0.0        2.0              2.0             0.0   \n",
      "116973              NaN        NaN              NaN             NaN   \n",
      "127936              0.0        0.0              0.0             0.0   \n",
      "121935              NaN        NaN              NaN             NaN   \n",
      "119910              0.0        0.0              0.0             0.0   \n",
      "126806              0.0        0.0              0.0             0.0   \n",
      "118353              0.0        0.0              0.0             0.0   \n",
      "121292              0.0        0.0              0.0             0.0   \n",
      "109849              NaN        NaN              NaN             NaN   \n",
      "\n",
      "        QT_TUR_ESP  QT_TUR_ESP_CC QT_TUR_ESP_CE  \n",
      "108895         6.0            6.0           0.0  \n",
      "123774        14.0           14.0           0.0  \n",
      "116973         NaN            NaN           NaN  \n",
      "127936        18.0           18.0           0.0  \n",
      "121935         NaN            NaN           NaN  \n",
      "119910         0.0            0.0           0.0  \n",
      "126806         0.0            0.0           0.0  \n",
      "118353         3.0            3.0           0.0  \n",
      "121292         3.0            3.0           0.0  \n",
      "109849         NaN            NaN           NaN  \n",
      "\n",
      "[10 rows x 370 columns]\n",
      "221140 rows\n"
     ]
    },
    {
     "data": {
      "text/plain": "       estado       municipio esgoto_inexistente energia_inexistente  \\\n155242     SP     hortolandia                Não                 Não   \n109672     MG         buritis                Não                 Não   \n205709     RS          quarai                Não                 Não   \n101885     BA       sao felix                Não                 Não   \n69826      PE          buique                Não                 Não   \n143643     RJ  rio de janeiro                Não                 Não   \n137662     RJ       nilopolis                Não                 Não   \n39615      MA          tutoia                Não                 Não   \n97533      BA       paramirim                Não                 Não   \n76327      PE          recife                Não                 Não   \n\n       agua_inexistente acesso_internet faz_exame_selecao  \\\n155242              Não             Sim               Sim   \n109672              Não             Não               Não   \n205709              Não             Não               Não   \n101885              Não             Sim               Não   \n69826               Não             Sim               Não   \n143643              Não             Sim               Não   \n137662              Não             Não               Não   \n39615               Não             Não               Não   \n97533               Não             Sim               Não   \n76327               Não             Sim               Não   \n\n       especializada_deficientes ensino_tecnico  \n155242                       Não            Não  \n109672                       Não            Não  \n205709                       Sim            Não  \n101885                       Sim            Não  \n69826                        Sim            Não  \n143643                       Sim            Não  \n137662                       Não            Não  \n39615                        Sim            Não  \n97533                        Sim            Não  \n76327                        Sim            Não  ",
      "text/html": "<div>\n<style scoped>\n    .dataframe tbody tr th:only-of-type {\n        vertical-align: middle;\n    }\n\n    .dataframe tbody tr th {\n        vertical-align: top;\n    }\n\n    .dataframe thead th {\n        text-align: right;\n    }\n</style>\n<table border=\"1\" class=\"dataframe\">\n  <thead>\n    <tr style=\"text-align: right;\">\n      <th></th>\n      <th>estado</th>\n      <th>municipio</th>\n      <th>esgoto_inexistente</th>\n      <th>energia_inexistente</th>\n      <th>agua_inexistente</th>\n      <th>acesso_internet</th>\n      <th>faz_exame_selecao</th>\n      <th>especializada_deficientes</th>\n      <th>ensino_tecnico</th>\n    </tr>\n  </thead>\n  <tbody>\n    <tr>\n      <th>155242</th>\n      <td>SP</td>\n      <td>hortolandia</td>\n      <td>Não</td>\n      <td>Não</td>\n      <td>Não</td>\n      <td>Sim</td>\n      <td>Sim</td>\n      <td>Não</td>\n      <td>Não</td>\n    </tr>\n    <tr>\n      <th>109672</th>\n      <td>MG</td>\n      <td>buritis</td>\n      <td>Não</td>\n      <td>Não</td>\n      <td>Não</td>\n      <td>Não</td>\n      <td>Não</td>\n      <td>Não</td>\n      <td>Não</td>\n    </tr>\n    <tr>\n      <th>205709</th>\n      <td>RS</td>\n      <td>quarai</td>\n      <td>Não</td>\n      <td>Não</td>\n      <td>Não</td>\n      <td>Não</td>\n      <td>Não</td>\n      <td>Sim</td>\n      <td>Não</td>\n    </tr>\n    <tr>\n      <th>101885</th>\n      <td>BA</td>\n      <td>sao felix</td>\n      <td>Não</td>\n      <td>Não</td>\n      <td>Não</td>\n      <td>Sim</td>\n      <td>Não</td>\n      <td>Sim</td>\n      <td>Não</td>\n    </tr>\n    <tr>\n      <th>69826</th>\n      <td>PE</td>\n      <td>buique</td>\n      <td>Não</td>\n      <td>Não</td>\n      <td>Não</td>\n      <td>Sim</td>\n      <td>Não</td>\n      <td>Sim</td>\n      <td>Não</td>\n    </tr>\n    <tr>\n      <th>143643</th>\n      <td>RJ</td>\n      <td>rio de janeiro</td>\n      <td>Não</td>\n      <td>Não</td>\n      <td>Não</td>\n      <td>Sim</td>\n      <td>Não</td>\n      <td>Sim</td>\n      <td>Não</td>\n    </tr>\n    <tr>\n      <th>137662</th>\n      <td>RJ</td>\n      <td>nilopolis</td>\n      <td>Não</td>\n      <td>Não</td>\n      <td>Não</td>\n      <td>Não</td>\n      <td>Não</td>\n      <td>Não</td>\n      <td>Não</td>\n    </tr>\n    <tr>\n      <th>39615</th>\n      <td>MA</td>\n      <td>tutoia</td>\n      <td>Não</td>\n      <td>Não</td>\n      <td>Não</td>\n      <td>Não</td>\n      <td>Não</td>\n      <td>Sim</td>\n      <td>Não</td>\n    </tr>\n    <tr>\n      <th>97533</th>\n      <td>BA</td>\n      <td>paramirim</td>\n      <td>Não</td>\n      <td>Não</td>\n      <td>Não</td>\n      <td>Sim</td>\n      <td>Não</td>\n      <td>Sim</td>\n      <td>Não</td>\n    </tr>\n    <tr>\n      <th>76327</th>\n      <td>PE</td>\n      <td>recife</td>\n      <td>Não</td>\n      <td>Não</td>\n      <td>Não</td>\n      <td>Sim</td>\n      <td>Não</td>\n      <td>Sim</td>\n      <td>Não</td>\n    </tr>\n  </tbody>\n</table>\n</div>"
     },
     "execution_count": 4,
     "metadata": {},
     "output_type": "execute_result"
    }
   ],
   "source": [
    "edbasica = pd.read_csv(\"pure_data/microdados_ed_basica_2021.csv\", sep=\";\", encoding=\"latin-1\")\n",
    "\n",
    "educacaobasica = pd.DataFrame({\n",
    "    'estado': edbasica['SG_UF'],\n",
    "    'municipio': edbasica['NO_MUNICIPIO'].map(procdata.no_accents_lower),\n",
    "    'esgoto_inexistente': edbasica['IN_ESGOTO_INEXISTENTE'].map(procdata.get_label_from_floatbool),\n",
    "    'energia_inexistente': edbasica['IN_ENERGIA_INEXISTENTE'].map(procdata.get_label_from_floatbool),\n",
    "    'agua_inexistente': edbasica['IN_AGUA_INEXISTENTE'].map(procdata.get_label_from_floatbool),\n",
    "    'acesso_internet': edbasica['IN_INTERNET'].map(procdata.get_label_from_floatbool),\n",
    "    'faz_exame_selecao': edbasica['IN_EXAME_SELECAO'].map(procdata.get_label_from_floatbool),\n",
    "    'especializada_deficientes': edbasica['IN_ESP'].map(procdata.get_label_from_floatbool),\n",
    "    'ensino_tecnico': edbasica['IN_PROF_TEC'].map(procdata.get_label_from_floatbool)\n",
    "})\n",
    "#dfedbasica = spark.createDataFrame(geralprouni)\n",
    "#edbasica.head(10)\n",
    "print(edbasica[edbasica['SG_UF']=='MG'].sample(10))\n",
    "print(educacaobasica.__len__(), \"rows\")\n",
    "educacaobasica.sample(10)"
   ]
  },
  {
   "cell_type": "code",
   "execution_count": 5,
   "metadata": {
    "collapsed": false,
    "pycharm": {
     "name": "#%%\n"
    }
   },
   "outputs": [],
   "source": [
    "# SPARK\n",
    "\n",
    "# df = spark.createDataFrame(prouni)\n",
    "# dfadicionalprouni = spark.createDataFrame(adicionalprouni.drop_duplicates(subset=['estado', 'curso']))\n",
    "# dfeducacaobasica = spark.createDataFrame(educacaobasica.drop_duplicates(subset=['estado']))\n",
    "# df_joinadicional = df.join(dfadicionalprouni, on=['estado', 'curso'], how='left')\n",
    "# df_joinedbasica = df_joinadicional.join(dfeducacaobasica, on='estado', how='left')\n",
    "# dfmaster = df_joinedbasica.dropna()\n",
    "\n",
    "# PANDAS\n",
    "\n",
    "df = prouni.copy()\n",
    "dfadicionalprouni = adicionalprouni.drop_duplicates(subset=['estado', 'curso', 'municipio'])\n",
    "dfeducacaobasica = educacaobasica.drop_duplicates(subset=['estado', 'municipio'])\n",
    "df_joinadicional = df.merge(dfadicionalprouni, on=['estado', 'curso', 'municipio'], how='left')\n",
    "df_joinedbasica = df_joinadicional.merge(dfeducacaobasica, on=['estado', 'municipio'], how='left')\n",
    "dfmaster = df_joinedbasica.dropna()"
   ]
  },
  {
   "cell_type": "code",
   "execution_count": 6,
   "metadata": {
    "pycharm": {
     "name": "#%%\n"
    }
   },
   "outputs": [],
   "source": [
    "# SPARK\n",
    "# dfmaster.coalesce(1).write.csv('processed_data/prouni.csv')\n",
    "\n",
    "# PANDAS\n",
    "dfmaster.to_csv('processed_data/prouni-processado.csv')"
   ]
  }
 ],
 "metadata": {
  "interpreter": {
   "hash": "737ded1b7130139c98941fe8735c597799a4df27f381bdac8d9bcef9ffcf7874"
  },
  "kernelspec": {
   "display_name": "Python 3.10.4 ('env': venv)",
   "language": "python",
   "name": "python3"
  },
  "language_info": {
   "codemirror_mode": {
    "name": "ipython",
    "version": 3
   },
   "file_extension": ".py",
   "mimetype": "text/x-python",
   "name": "python",
   "nbconvert_exporter": "python",
   "pygments_lexer": "ipython3",
   "version": "3.10.4"
  }
 },
 "nbformat": 4,
 "nbformat_minor": 0
}