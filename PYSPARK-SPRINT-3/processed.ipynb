{
 "cells": [
  {
   "cell_type": "code",
   "execution_count": 1,
   "metadata": {},
   "outputs": [],
   "source": [
    "import pandas as pd"
   ]
  },
  {
   "cell_type": "code",
   "execution_count": 2,
   "metadata": {},
   "outputs": [],
   "source": [
    "dftweet = pd.read_json('processed_data/twitter-results-2022-05-28_04-30-46.json')\n",
    "\n",
    "dfmaster = pd.read_csv('processed_data/prouni-processado.csv')"
   ]
  },
  {
   "cell_type": "code",
   "execution_count": 12,
   "metadata": {},
   "outputs": [
    {
     "name": "stdout",
     "output_type": "stream",
     "text": [
      "Index(['sentiment', 'positive', 'frequent', 'verified', 'date'], dtype='object')\n"
     ]
    },
    {
     "data": {
      "text/plain": [
       "sentiment    157\n",
       "positive     157\n",
       "frequent     157\n",
       "verified     157\n",
       "date         157\n",
       "dtype: int64"
      ]
     },
     "execution_count": 12,
     "metadata": {},
     "output_type": "execute_result"
    }
   ],
   "source": [
    "print(dftweet.columns)\n",
    "dftweet.count()\n",
    "dftweet[dftweet['positive']==True]\n",
    "dftweet[dftweet['verified']==True]\n",
    "dftweet[dftweet['sentiment']!=0.0].count()\n"
   ]
  },
  {
   "cell_type": "code",
   "execution_count": 34,
   "metadata": {},
   "outputs": [
    {
     "name": "stdout",
     "output_type": "stream",
     "text": [
      "1835\n"
     ]
    },
    {
     "ename": "KeyError",
     "evalue": "Index(['palavra'], dtype='object')",
     "output_type": "error",
     "traceback": [
      "\u001b[0;31m---------------------------------------------------------------------------\u001b[0m",
      "\u001b[0;31mKeyError\u001b[0m                                  Traceback (most recent call last)",
      "\u001b[1;32m/home/felipe/github/grupo-g2-pi-2020/PYSPARK-SPRINT-3/processed.ipynb Cell 4'\u001b[0m in \u001b[0;36m<cell line: 10>\u001b[0;34m()\u001b[0m\n\u001b[1;32m      <a href='vscode-notebook-cell:/home/felipe/github/grupo-g2-pi-2020/PYSPARK-SPRINT-3/processed.ipynb#ch0000004?line=7'>8</a>\u001b[0m     s\u001b[39m.\u001b[39mappend([tweet[\u001b[39m0\u001b[39m], count])\n\u001b[1;32m      <a href='vscode-notebook-cell:/home/felipe/github/grupo-g2-pi-2020/PYSPARK-SPRINT-3/processed.ipynb#ch0000004?line=8'>9</a>\u001b[0m \u001b[39mprint\u001b[39m(\u001b[39mlen\u001b[39m(s))\n\u001b[0;32m---> <a href='vscode-notebook-cell:/home/felipe/github/grupo-g2-pi-2020/PYSPARK-SPRINT-3/processed.ipynb#ch0000004?line=9'>10</a>\u001b[0m pd\u001b[39m.\u001b[39;49mDataFrame(s, columns\u001b[39m=\u001b[39;49m[\u001b[39m'\u001b[39;49m\u001b[39mpalavras\u001b[39;49m\u001b[39m'\u001b[39;49m,\u001b[39m'\u001b[39;49m\u001b[39mfrequencia\u001b[39;49m\u001b[39m'\u001b[39;49m])\u001b[39m.\u001b[39;49mdrop_duplicates(subset\u001b[39m=\u001b[39;49m[\u001b[39m'\u001b[39;49m\u001b[39mpalavra\u001b[39;49m\u001b[39m'\u001b[39;49m])\u001b[39m.\u001b[39msort_values(by\u001b[39m=\u001b[39m\u001b[39m1\u001b[39m)\n",
      "File \u001b[0;32m~/github/grupo-g2-pi-2020/PYSPARK-SPRINT-3/env/lib/python3.10/site-packages/pandas/util/_decorators.py:311\u001b[0m, in \u001b[0;36mdeprecate_nonkeyword_arguments.<locals>.decorate.<locals>.wrapper\u001b[0;34m(*args, **kwargs)\u001b[0m\n\u001b[1;32m    <a href='file:///home/felipe/github/grupo-g2-pi-2020/PYSPARK-SPRINT-3/env/lib/python3.10/site-packages/pandas/util/_decorators.py?line=304'>305</a>\u001b[0m \u001b[39mif\u001b[39;00m \u001b[39mlen\u001b[39m(args) \u001b[39m>\u001b[39m num_allow_args:\n\u001b[1;32m    <a href='file:///home/felipe/github/grupo-g2-pi-2020/PYSPARK-SPRINT-3/env/lib/python3.10/site-packages/pandas/util/_decorators.py?line=305'>306</a>\u001b[0m     warnings\u001b[39m.\u001b[39mwarn(\n\u001b[1;32m    <a href='file:///home/felipe/github/grupo-g2-pi-2020/PYSPARK-SPRINT-3/env/lib/python3.10/site-packages/pandas/util/_decorators.py?line=306'>307</a>\u001b[0m         msg\u001b[39m.\u001b[39mformat(arguments\u001b[39m=\u001b[39marguments),\n\u001b[1;32m    <a href='file:///home/felipe/github/grupo-g2-pi-2020/PYSPARK-SPRINT-3/env/lib/python3.10/site-packages/pandas/util/_decorators.py?line=307'>308</a>\u001b[0m         \u001b[39mFutureWarning\u001b[39;00m,\n\u001b[1;32m    <a href='file:///home/felipe/github/grupo-g2-pi-2020/PYSPARK-SPRINT-3/env/lib/python3.10/site-packages/pandas/util/_decorators.py?line=308'>309</a>\u001b[0m         stacklevel\u001b[39m=\u001b[39mstacklevel,\n\u001b[1;32m    <a href='file:///home/felipe/github/grupo-g2-pi-2020/PYSPARK-SPRINT-3/env/lib/python3.10/site-packages/pandas/util/_decorators.py?line=309'>310</a>\u001b[0m     )\n\u001b[0;32m--> <a href='file:///home/felipe/github/grupo-g2-pi-2020/PYSPARK-SPRINT-3/env/lib/python3.10/site-packages/pandas/util/_decorators.py?line=310'>311</a>\u001b[0m \u001b[39mreturn\u001b[39;00m func(\u001b[39m*\u001b[39;49margs, \u001b[39m*\u001b[39;49m\u001b[39m*\u001b[39;49mkwargs)\n",
      "File \u001b[0;32m~/github/grupo-g2-pi-2020/PYSPARK-SPRINT-3/env/lib/python3.10/site-packages/pandas/core/frame.py:6116\u001b[0m, in \u001b[0;36mDataFrame.drop_duplicates\u001b[0;34m(self, subset, keep, inplace, ignore_index)\u001b[0m\n\u001b[1;32m   <a href='file:///home/felipe/github/grupo-g2-pi-2020/PYSPARK-SPRINT-3/env/lib/python3.10/site-packages/pandas/core/frame.py?line=6113'>6114</a>\u001b[0m inplace \u001b[39m=\u001b[39m validate_bool_kwarg(inplace, \u001b[39m\"\u001b[39m\u001b[39minplace\u001b[39m\u001b[39m\"\u001b[39m)\n\u001b[1;32m   <a href='file:///home/felipe/github/grupo-g2-pi-2020/PYSPARK-SPRINT-3/env/lib/python3.10/site-packages/pandas/core/frame.py?line=6114'>6115</a>\u001b[0m ignore_index \u001b[39m=\u001b[39m validate_bool_kwarg(ignore_index, \u001b[39m\"\u001b[39m\u001b[39mignore_index\u001b[39m\u001b[39m\"\u001b[39m)\n\u001b[0;32m-> <a href='file:///home/felipe/github/grupo-g2-pi-2020/PYSPARK-SPRINT-3/env/lib/python3.10/site-packages/pandas/core/frame.py?line=6115'>6116</a>\u001b[0m duplicated \u001b[39m=\u001b[39m \u001b[39mself\u001b[39;49m\u001b[39m.\u001b[39;49mduplicated(subset, keep\u001b[39m=\u001b[39;49mkeep)\n\u001b[1;32m   <a href='file:///home/felipe/github/grupo-g2-pi-2020/PYSPARK-SPRINT-3/env/lib/python3.10/site-packages/pandas/core/frame.py?line=6117'>6118</a>\u001b[0m result \u001b[39m=\u001b[39m \u001b[39mself\u001b[39m[\u001b[39m-\u001b[39mduplicated]\n\u001b[1;32m   <a href='file:///home/felipe/github/grupo-g2-pi-2020/PYSPARK-SPRINT-3/env/lib/python3.10/site-packages/pandas/core/frame.py?line=6118'>6119</a>\u001b[0m \u001b[39mif\u001b[39;00m ignore_index:\n",
      "File \u001b[0;32m~/github/grupo-g2-pi-2020/PYSPARK-SPRINT-3/env/lib/python3.10/site-packages/pandas/core/frame.py:6250\u001b[0m, in \u001b[0;36mDataFrame.duplicated\u001b[0;34m(self, subset, keep)\u001b[0m\n\u001b[1;32m   <a href='file:///home/felipe/github/grupo-g2-pi-2020/PYSPARK-SPRINT-3/env/lib/python3.10/site-packages/pandas/core/frame.py?line=6247'>6248</a>\u001b[0m diff \u001b[39m=\u001b[39m Index(subset)\u001b[39m.\u001b[39mdifference(\u001b[39mself\u001b[39m\u001b[39m.\u001b[39mcolumns)\n\u001b[1;32m   <a href='file:///home/felipe/github/grupo-g2-pi-2020/PYSPARK-SPRINT-3/env/lib/python3.10/site-packages/pandas/core/frame.py?line=6248'>6249</a>\u001b[0m \u001b[39mif\u001b[39;00m \u001b[39mnot\u001b[39;00m diff\u001b[39m.\u001b[39mempty:\n\u001b[0;32m-> <a href='file:///home/felipe/github/grupo-g2-pi-2020/PYSPARK-SPRINT-3/env/lib/python3.10/site-packages/pandas/core/frame.py?line=6249'>6250</a>\u001b[0m     \u001b[39mraise\u001b[39;00m \u001b[39mKeyError\u001b[39;00m(diff)\n\u001b[1;32m   <a href='file:///home/felipe/github/grupo-g2-pi-2020/PYSPARK-SPRINT-3/env/lib/python3.10/site-packages/pandas/core/frame.py?line=6251'>6252</a>\u001b[0m vals \u001b[39m=\u001b[39m (col\u001b[39m.\u001b[39mvalues \u001b[39mfor\u001b[39;00m name, col \u001b[39min\u001b[39;00m \u001b[39mself\u001b[39m\u001b[39m.\u001b[39mitems() \u001b[39mif\u001b[39;00m name \u001b[39min\u001b[39;00m subset)\n\u001b[1;32m   <a href='file:///home/felipe/github/grupo-g2-pi-2020/PYSPARK-SPRINT-3/env/lib/python3.10/site-packages/pandas/core/frame.py?line=6252'>6253</a>\u001b[0m labels, shape \u001b[39m=\u001b[39m \u001b[39mmap\u001b[39m(\u001b[39mlist\u001b[39m, \u001b[39mzip\u001b[39m(\u001b[39m*\u001b[39m\u001b[39mmap\u001b[39m(f, vals)))\n",
      "\u001b[0;31mKeyError\u001b[0m: Index(['palavra'], dtype='object')"
     ]
    }
   ],
   "source": [
    "s = []\n",
    "tweets = dftweet['frequent'].agg('sum')\n",
    "for tweet in tweets:\n",
    "    count = tweet[1]\n",
    "    for t in tweets:\n",
    "        if t[0] == tweet[0]:\n",
    "            count += t[1]\n",
    "    s.append([tweet[0], count])\n",
    "print(len(s))\n",
    "pd.DataFrame(s, columns=['palavras','frequencia']).drop_duplicates(subset=['palavra']).sort_values(by=1)\n"
   ]
  },
  {
   "cell_type": "code",
   "execution_count": 4,
   "metadata": {},
   "outputs": [
    {
     "data": {
      "text/plain": [
       "estado\n",
       "RR      73\n",
       "AC     141\n",
       "AP     141\n",
       "TO     200\n",
       "AL     216\n",
       "SE     218\n",
       "RN     252\n",
       "PI     274\n",
       "AM     289\n",
       "RO     317\n",
       "PB     401\n",
       "MA     437\n",
       "MS     466\n",
       "ES     513\n",
       "CE     539\n",
       "MT     560\n",
       "PA     722\n",
       "PE     773\n",
       "DF     778\n",
       "GO     809\n",
       "RJ     924\n",
       "SC    1139\n",
       "BA    1676\n",
       "RS    1891\n",
       "PR    2244\n",
       "MG    2586\n",
       "SP    7277\n",
       "dtype: int64"
      ]
     },
     "execution_count": 4,
     "metadata": {},
     "output_type": "execute_result"
    }
   ],
   "source": [
    "dfmaster.groupby(by='estado').size().sort_values()"
   ]
  }
 ],
 "metadata": {
  "interpreter": {
   "hash": "737ded1b7130139c98941fe8735c597799a4df27f381bdac8d9bcef9ffcf7874"
  },
  "kernelspec": {
   "display_name": "Python 3.10.4 ('env': venv)",
   "language": "python",
   "name": "python3"
  },
  "language_info": {
   "codemirror_mode": {
    "name": "ipython",
    "version": 3
   },
   "file_extension": ".py",
   "mimetype": "text/x-python",
   "name": "python",
   "nbconvert_exporter": "python",
   "pygments_lexer": "ipython3",
   "version": "3.10.4"
  },
  "orig_nbformat": 4
 },
 "nbformat": 4,
 "nbformat_minor": 2
}
