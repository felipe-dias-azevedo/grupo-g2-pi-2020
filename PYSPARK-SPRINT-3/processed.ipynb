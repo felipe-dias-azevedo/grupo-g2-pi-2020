{
 "cells": [
  {
   "cell_type": "code",
   "execution_count": 14,
   "metadata": {
    "pycharm": {
     "name": "#%%\n"
    }
   },
   "outputs": [],
   "source": [
    "import pandas as pd\n",
    "from datetime import datetime, date\n",
    "from processing import Process\n",
    "\n",
    "procdata = Process()"
   ]
  },
  {
   "cell_type": "code",
   "execution_count": 15,
   "metadata": {
    "pycharm": {
     "name": "#%%\n"
    }
   },
   "outputs": [],
   "source": [
    "dftweet = pd.read_json('processed_data/twitter-results-2022-05-28_04-30-46.json')\n",
    "\n",
    "dfmaster = pd.read_csv('processed_data/prouni-processado.csv')"
   ]
  },
  {
   "cell_type": "code",
   "execution_count": 16,
   "metadata": {},
   "outputs": [
    {
     "data": {
      "text/html": [
       "<div>\n",
       "<style scoped>\n",
       "    .dataframe tbody tr th:only-of-type {\n",
       "        vertical-align: middle;\n",
       "    }\n",
       "\n",
       "    .dataframe tbody tr th {\n",
       "        vertical-align: top;\n",
       "    }\n",
       "\n",
       "    .dataframe thead th {\n",
       "        text-align: right;\n",
       "    }\n",
       "</style>\n",
       "<table border=\"1\" class=\"dataframe\">\n",
       "  <thead>\n",
       "    <tr style=\"text-align: right;\">\n",
       "      <th></th>\n",
       "      <th>sentiment</th>\n",
       "      <th>positive</th>\n",
       "      <th>frequent</th>\n",
       "      <th>verified</th>\n",
       "      <th>date</th>\n",
       "    </tr>\n",
       "  </thead>\n",
       "  <tbody>\n",
       "    <tr>\n",
       "      <th>0</th>\n",
       "      <td>-0.4215</td>\n",
       "      <td>False</td>\n",
       "      <td>[[passei, 1], [terceira, 1], [chamada, 1], [uf...</td>\n",
       "      <td>False</td>\n",
       "      <td>2022-05-24 00:15:08+00:00</td>\n",
       "    </tr>\n",
       "    <tr>\n",
       "      <th>1</th>\n",
       "      <td>0.0000</td>\n",
       "      <td>False</td>\n",
       "      <td>[[papel, 1], [fies, 1], [prouni, 1], [privatiz...</td>\n",
       "      <td>False</td>\n",
       "      <td>2022-05-23 23:36:59+00:00</td>\n",
       "    </tr>\n",
       "    <tr>\n",
       "      <th>2</th>\n",
       "      <td>0.0000</td>\n",
       "      <td>False</td>\n",
       "      <td>[[políticas, 1], [fiscais, 1], [liberdade, 1],...</td>\n",
       "      <td>False</td>\n",
       "      <td>2022-05-24 00:20:46+00:00</td>\n",
       "    </tr>\n",
       "    <tr>\n",
       "      <th>3</th>\n",
       "      <td>0.0000</td>\n",
       "      <td>False</td>\n",
       "      <td>[[vou, 1], [tentar, 1], [pro, 1], [prouni, 1],...</td>\n",
       "      <td>False</td>\n",
       "      <td>2022-05-23 22:39:58+00:00</td>\n",
       "    </tr>\n",
       "    <tr>\n",
       "      <th>4</th>\n",
       "      <td>0.4767</td>\n",
       "      <td>True</td>\n",
       "      <td>[[esqueceu, 1], [abertura, 1], [contra, 1], [l...</td>\n",
       "      <td>False</td>\n",
       "      <td>2022-05-24 00:48:04+00:00</td>\n",
       "    </tr>\n",
       "    <tr>\n",
       "      <th>5</th>\n",
       "      <td>-0.6369</td>\n",
       "      <td>False</td>\n",
       "      <td>[[3, 1], [chamada, 1], [passeikk, 1], [q, 1], ...</td>\n",
       "      <td>False</td>\n",
       "      <td>2022-05-23 22:34:32+00:00</td>\n",
       "    </tr>\n",
       "    <tr>\n",
       "      <th>6</th>\n",
       "      <td>0.6124</td>\n",
       "      <td>True</td>\n",
       "      <td>[[escapei, 1], [tcc, 1], [porque, 1], [troquei...</td>\n",
       "      <td>False</td>\n",
       "      <td>2022-05-23 22:57:38+00:00</td>\n",
       "    </tr>\n",
       "    <tr>\n",
       "      <th>7</th>\n",
       "      <td>0.0000</td>\n",
       "      <td>False</td>\n",
       "      <td>[[pro, 1], [prouni, 1], [recusaram, 1], [prime...</td>\n",
       "      <td>False</td>\n",
       "      <td>2022-05-23 23:59:09+00:00</td>\n",
       "    </tr>\n",
       "    <tr>\n",
       "      <th>8</th>\n",
       "      <td>0.5423</td>\n",
       "      <td>True</td>\n",
       "      <td>[[ensino, 2], [educação, 1], [pt, 1], [recurso...</td>\n",
       "      <td>False</td>\n",
       "      <td>2022-05-23 23:21:52+00:00</td>\n",
       "    </tr>\n",
       "    <tr>\n",
       "      <th>9</th>\n",
       "      <td>0.0000</td>\n",
       "      <td>False</td>\n",
       "      <td>[[prouni, 1], [mãos, 1]]</td>\n",
       "      <td>False</td>\n",
       "      <td>2022-05-23 19:17:58+00:00</td>\n",
       "    </tr>\n",
       "  </tbody>\n",
       "</table>\n",
       "</div>"
      ],
      "text/plain": [
       "   sentiment  positive                                           frequent  \\\n",
       "0    -0.4215     False  [[passei, 1], [terceira, 1], [chamada, 1], [uf...   \n",
       "1     0.0000     False  [[papel, 1], [fies, 1], [prouni, 1], [privatiz...   \n",
       "2     0.0000     False  [[políticas, 1], [fiscais, 1], [liberdade, 1],...   \n",
       "3     0.0000     False  [[vou, 1], [tentar, 1], [pro, 1], [prouni, 1],...   \n",
       "4     0.4767      True  [[esqueceu, 1], [abertura, 1], [contra, 1], [l...   \n",
       "5    -0.6369     False  [[3, 1], [chamada, 1], [passeikk, 1], [q, 1], ...   \n",
       "6     0.6124      True  [[escapei, 1], [tcc, 1], [porque, 1], [troquei...   \n",
       "7     0.0000     False  [[pro, 1], [prouni, 1], [recusaram, 1], [prime...   \n",
       "8     0.5423      True  [[ensino, 2], [educação, 1], [pt, 1], [recurso...   \n",
       "9     0.0000     False                           [[prouni, 1], [mãos, 1]]   \n",
       "\n",
       "   verified                      date  \n",
       "0     False 2022-05-24 00:15:08+00:00  \n",
       "1     False 2022-05-23 23:36:59+00:00  \n",
       "2     False 2022-05-24 00:20:46+00:00  \n",
       "3     False 2022-05-23 22:39:58+00:00  \n",
       "4     False 2022-05-24 00:48:04+00:00  \n",
       "5     False 2022-05-23 22:34:32+00:00  \n",
       "6     False 2022-05-23 22:57:38+00:00  \n",
       "7     False 2022-05-23 23:59:09+00:00  \n",
       "8     False 2022-05-23 23:21:52+00:00  \n",
       "9     False 2022-05-23 19:17:58+00:00  "
      ]
     },
     "execution_count": 16,
     "metadata": {},
     "output_type": "execute_result"
    }
   ],
   "source": [
    "dftweet.head(10)"
   ]
  },
  {
   "cell_type": "code",
   "execution_count": 17,
   "metadata": {
    "pycharm": {
     "name": "#%%\n"
    }
   },
   "outputs": [
    {
     "name": "stdout",
     "output_type": "stream",
     "text": [
      "Index(['sentiment', 'positive', 'frequent', 'verified', 'date'], dtype='object')\n"
     ]
    },
    {
     "data": {
      "text/plain": [
       "sentiment    157\n",
       "positive     157\n",
       "frequent     157\n",
       "verified     157\n",
       "date         157\n",
       "dtype: int64"
      ]
     },
     "execution_count": 17,
     "metadata": {},
     "output_type": "execute_result"
    }
   ],
   "source": [
    "print(dftweet.columns)\n",
    "dftweet.count()\n",
    "dftweet[dftweet['positive']==True]\n",
    "dftweet[dftweet['verified']==True]\n",
    "dftweet[dftweet['sentiment']!=0.0].count()\n"
   ]
  },
  {
   "cell_type": "code",
   "execution_count": 18,
   "metadata": {
    "pycharm": {
     "name": "#%%\n"
    }
   },
   "outputs": [
    {
     "name": "stdout",
     "output_type": "stream",
     "text": [
      "Sem tratamento 1835\n",
      "Com tratamento 951\n"
     ]
    },
    {
     "data": {
      "text/html": [
       "<div>\n",
       "<style scoped>\n",
       "    .dataframe tbody tr th:only-of-type {\n",
       "        vertical-align: middle;\n",
       "    }\n",
       "\n",
       "    .dataframe tbody tr th {\n",
       "        vertical-align: top;\n",
       "    }\n",
       "\n",
       "    .dataframe thead th {\n",
       "        text-align: right;\n",
       "    }\n",
       "</style>\n",
       "<table border=\"1\" class=\"dataframe\">\n",
       "  <thead>\n",
       "    <tr style=\"text-align: right;\">\n",
       "      <th></th>\n",
       "      <th>palavra</th>\n",
       "      <th>frequencia</th>\n",
       "    </tr>\n",
       "  </thead>\n",
       "  <tbody>\n",
       "    <tr>\n",
       "      <th>8</th>\n",
       "      <td>prouni</td>\n",
       "      <td>150</td>\n",
       "    </tr>\n",
       "    <tr>\n",
       "      <th>50</th>\n",
       "      <td>q</td>\n",
       "      <td>45</td>\n",
       "    </tr>\n",
       "    <tr>\n",
       "      <th>119</th>\n",
       "      <td>pra</td>\n",
       "      <td>39</td>\n",
       "    </tr>\n",
       "    <tr>\n",
       "      <th>35</th>\n",
       "      <td>faculdade</td>\n",
       "      <td>27</td>\n",
       "    </tr>\n",
       "    <tr>\n",
       "      <th>108</th>\n",
       "      <td>ter</td>\n",
       "      <td>23</td>\n",
       "    </tr>\n",
       "    <tr>\n",
       "      <th>6</th>\n",
       "      <td>pq</td>\n",
       "      <td>21</td>\n",
       "    </tr>\n",
       "    <tr>\n",
       "      <th>152</th>\n",
       "      <td>enem</td>\n",
       "      <td>21</td>\n",
       "    </tr>\n",
       "    <tr>\n",
       "      <th>72</th>\n",
       "      <td>bolsa</td>\n",
       "      <td>19</td>\n",
       "    </tr>\n",
       "    <tr>\n",
       "      <th>54</th>\n",
       "      <td>2</td>\n",
       "      <td>19</td>\n",
       "    </tr>\n",
       "    <tr>\n",
       "      <th>211</th>\n",
       "      <td>100</td>\n",
       "      <td>17</td>\n",
       "    </tr>\n",
       "  </tbody>\n",
       "</table>\n",
       "</div>"
      ],
      "text/plain": [
       "       palavra  frequencia\n",
       "8       prouni         150\n",
       "50           q          45\n",
       "119        pra          39\n",
       "35   faculdade          27\n",
       "108        ter          23\n",
       "6           pq          21\n",
       "152       enem          21\n",
       "72       bolsa          19\n",
       "54           2          19\n",
       "211        100          17"
      ]
     },
     "execution_count": 18,
     "metadata": {},
     "output_type": "execute_result"
    }
   ],
   "source": [
    "tweets = dftweet['frequent'].agg('sum')\n",
    "twtts = procdata.freq_tweet(tweets)\n",
    "\n",
    "print(\"Sem tratamento\", len(twtts))\n",
    "\n",
    "tweetsfreq = pd.DataFrame(twtts, columns=['palavra', 'frequencia'])\\\n",
    "    .drop_duplicates(subset=['palavra'])\\\n",
    "    .sort_values(by=['frequencia'], ascending=False)\n",
    "\n",
    "print(\"Com tratamento\", tweetsfreq.__len__())\n",
    "tweetsfreq.head(10)"
   ]
  },
  {
   "cell_type": "code",
   "execution_count": 50,
   "metadata": {
    "collapsed": false,
    "pycharm": {
     "name": "#%%\n"
    }
   },
   "outputs": [
    {
     "data": {
      "text/html": [
       "<div>\n",
       "<style scoped>\n",
       "    .dataframe tbody tr th:only-of-type {\n",
       "        vertical-align: middle;\n",
       "    }\n",
       "\n",
       "    .dataframe tbody tr th {\n",
       "        vertical-align: top;\n",
       "    }\n",
       "\n",
       "    .dataframe thead th {\n",
       "        text-align: right;\n",
       "    }\n",
       "</style>\n",
       "<table border=\"1\" class=\"dataframe\">\n",
       "  <thead>\n",
       "    <tr style=\"text-align: right;\">\n",
       "      <th></th>\n",
       "      <th>palavra</th>\n",
       "      <th>frequencia</th>\n",
       "      <th>sentimento</th>\n",
       "    </tr>\n",
       "  </thead>\n",
       "  <tbody>\n",
       "    <tr>\n",
       "      <th>0</th>\n",
       "      <td>prouni</td>\n",
       "      <td>150</td>\n",
       "      <td>Negativo</td>\n",
       "    </tr>\n",
       "    <tr>\n",
       "      <th>1</th>\n",
       "      <td>q</td>\n",
       "      <td>45</td>\n",
       "      <td>Negativo</td>\n",
       "    </tr>\n",
       "    <tr>\n",
       "      <th>2</th>\n",
       "      <td>pra</td>\n",
       "      <td>39</td>\n",
       "      <td>Negativo</td>\n",
       "    </tr>\n",
       "    <tr>\n",
       "      <th>3</th>\n",
       "      <td>faculdade</td>\n",
       "      <td>27</td>\n",
       "      <td>Negativo</td>\n",
       "    </tr>\n",
       "    <tr>\n",
       "      <th>4</th>\n",
       "      <td>ter</td>\n",
       "      <td>23</td>\n",
       "      <td>Positivo</td>\n",
       "    </tr>\n",
       "    <tr>\n",
       "      <th>5</th>\n",
       "      <td>pq</td>\n",
       "      <td>21</td>\n",
       "      <td>Negativo</td>\n",
       "    </tr>\n",
       "    <tr>\n",
       "      <th>6</th>\n",
       "      <td>enem</td>\n",
       "      <td>21</td>\n",
       "      <td>Positivo</td>\n",
       "    </tr>\n",
       "    <tr>\n",
       "      <th>7</th>\n",
       "      <td>bolsa</td>\n",
       "      <td>19</td>\n",
       "      <td>Negativo</td>\n",
       "    </tr>\n",
       "    <tr>\n",
       "      <th>8</th>\n",
       "      <td>2</td>\n",
       "      <td>19</td>\n",
       "      <td>Negativo</td>\n",
       "    </tr>\n",
       "    <tr>\n",
       "      <th>9</th>\n",
       "      <td>100</td>\n",
       "      <td>17</td>\n",
       "      <td>Negativo</td>\n",
       "    </tr>\n",
       "  </tbody>\n",
       "</table>\n",
       "</div>"
      ],
      "text/plain": [
       "     palavra  frequencia sentimento\n",
       "0     prouni         150   Negativo\n",
       "1          q          45   Negativo\n",
       "2        pra          39   Negativo\n",
       "3  faculdade          27   Negativo\n",
       "4        ter          23   Positivo\n",
       "5         pq          21   Negativo\n",
       "6       enem          21   Positivo\n",
       "7      bolsa          19   Negativo\n",
       "8          2          19   Negativo\n",
       "9        100          17   Negativo"
      ]
     },
     "execution_count": 50,
     "metadata": {},
     "output_type": "execute_result"
    }
   ],
   "source": [
    "tempdftweets = dftweet.copy()\n",
    "tempdftweets['frequent'] = procdata.words_in_tweet(tempdftweets['frequent'])\n",
    "\n",
    "tweetsfreq['sentimento'] = tweetsfreq['palavra'].apply(lambda w: procdata.get_sentiment_of_value(tempdftweets, w))\n",
    "tweetsfreq = tweetsfreq.reset_index(drop=True)\n",
    "tweetsfreq.head(10)"
   ]
  },
  {
   "cell_type": "code",
   "execution_count": 49,
   "metadata": {},
   "outputs": [
    {
     "data": {
      "text/html": [
       "<div>\n",
       "<style scoped>\n",
       "    .dataframe tbody tr th:only-of-type {\n",
       "        vertical-align: middle;\n",
       "    }\n",
       "\n",
       "    .dataframe tbody tr th {\n",
       "        vertical-align: top;\n",
       "    }\n",
       "\n",
       "    .dataframe thead th {\n",
       "        text-align: right;\n",
       "    }\n",
       "</style>\n",
       "<table border=\"1\" class=\"dataframe\">\n",
       "  <thead>\n",
       "    <tr style=\"text-align: right;\">\n",
       "      <th></th>\n",
       "      <th>data</th>\n",
       "      <th>sentimento</th>\n",
       "    </tr>\n",
       "  </thead>\n",
       "  <tbody>\n",
       "    <tr>\n",
       "      <th>0</th>\n",
       "      <td>2022-05-24</td>\n",
       "      <td>0.018400</td>\n",
       "    </tr>\n",
       "    <tr>\n",
       "      <th>1</th>\n",
       "      <td>2022-05-23</td>\n",
       "      <td>-0.105695</td>\n",
       "    </tr>\n",
       "    <tr>\n",
       "      <th>2</th>\n",
       "      <td>2022-05-22</td>\n",
       "      <td>-0.194256</td>\n",
       "    </tr>\n",
       "    <tr>\n",
       "      <th>3</th>\n",
       "      <td>2022-05-21</td>\n",
       "      <td>0.110800</td>\n",
       "    </tr>\n",
       "    <tr>\n",
       "      <th>4</th>\n",
       "      <td>2022-05-20</td>\n",
       "      <td>-0.100331</td>\n",
       "    </tr>\n",
       "    <tr>\n",
       "      <th>5</th>\n",
       "      <td>2022-05-19</td>\n",
       "      <td>-0.158281</td>\n",
       "    </tr>\n",
       "    <tr>\n",
       "      <th>6</th>\n",
       "      <td>2022-05-18</td>\n",
       "      <td>-0.026539</td>\n",
       "    </tr>\n",
       "    <tr>\n",
       "      <th>7</th>\n",
       "      <td>2022-05-17</td>\n",
       "      <td>-0.066903</td>\n",
       "    </tr>\n",
       "  </tbody>\n",
       "</table>\n",
       "</div>"
      ],
      "text/plain": [
       "         data  sentimento\n",
       "0  2022-05-24    0.018400\n",
       "1  2022-05-23   -0.105695\n",
       "2  2022-05-22   -0.194256\n",
       "3  2022-05-21    0.110800\n",
       "4  2022-05-20   -0.100331\n",
       "5  2022-05-19   -0.158281\n",
       "6  2022-05-18   -0.026539\n",
       "7  2022-05-17   -0.066903"
      ]
     },
     "execution_count": 49,
     "metadata": {},
     "output_type": "execute_result"
    }
   ],
   "source": [
    "sdates = dftweet['date'].map(lambda x: x.date()).drop_duplicates().reset_index(drop=True)\n",
    "ssentdate = sdates.apply(lambda sd: dftweet.loc[dftweet['date'].apply(lambda d: d.date() == sd)]['sentiment'].mean())\n",
    "temptweets = pd.DataFrame({\n",
    "    'data': sdates,\n",
    "    'sentimento': ssentdate\n",
    "})\n",
    "temptweets"
   ]
  },
  {
   "cell_type": "code",
   "execution_count": 108,
   "metadata": {},
   "outputs": [
    {
     "data": {
      "text/html": [
       "<div>\n",
       "<style scoped>\n",
       "    .dataframe tbody tr th:only-of-type {\n",
       "        vertical-align: middle;\n",
       "    }\n",
       "\n",
       "    .dataframe tbody tr th {\n",
       "        vertical-align: top;\n",
       "    }\n",
       "\n",
       "    .dataframe thead th {\n",
       "        text-align: right;\n",
       "    }\n",
       "</style>\n",
       "<table border=\"1\" class=\"dataframe\">\n",
       "  <thead>\n",
       "    <tr style=\"text-align: right;\">\n",
       "      <th></th>\n",
       "      <th>estado</th>\n",
       "      <th>mensalidade</th>\n",
       "    </tr>\n",
       "  </thead>\n",
       "  <tbody>\n",
       "    <tr>\n",
       "      <th>4</th>\n",
       "      <td>BA</td>\n",
       "      <td>580.00</td>\n",
       "    </tr>\n",
       "    <tr>\n",
       "      <th>1</th>\n",
       "      <td>MG</td>\n",
       "      <td>536.04</td>\n",
       "    </tr>\n",
       "    <tr>\n",
       "      <th>0</th>\n",
       "      <td>SP</td>\n",
       "      <td>498.00</td>\n",
       "    </tr>\n",
       "    <tr>\n",
       "      <th>3</th>\n",
       "      <td>RS</td>\n",
       "      <td>443.00</td>\n",
       "    </tr>\n",
       "    <tr>\n",
       "      <th>2</th>\n",
       "      <td>PR</td>\n",
       "      <td>393.35</td>\n",
       "    </tr>\n",
       "    <tr>\n",
       "      <th>5</th>\n",
       "      <td>SC</td>\n",
       "      <td>393.35</td>\n",
       "    </tr>\n",
       "  </tbody>\n",
       "</table>\n",
       "</div>"
      ],
      "text/plain": [
       "  estado  mensalidade\n",
       "4     BA       580.00\n",
       "1     MG       536.04\n",
       "0     SP       498.00\n",
       "3     RS       443.00\n",
       "2     PR       393.35\n",
       "5     SC       393.35"
      ]
     },
     "execution_count": 108,
     "metadata": {},
     "output_type": "execute_result"
    }
   ],
   "source": [
    "stateslist = dfmaster.groupby(by='estado').size().sort_values(ascending=False).head(6).index\n",
    "sstates = pd.Series(stateslist).reset_index(drop=True)\n",
    "\n",
    "sstatesmensals = sstates.apply(lambda sd: dfmaster.loc[dfmaster['estado'].apply(lambda e: e == sd )]['mensalidade'].median())\n",
    "bestmensals = pd.DataFrame({\n",
    "    'estado': sstates,\n",
    "    'mensalidade': sstatesmensals\n",
    "})\n",
    "bestmensals.sort_values(by='mensalidade', ascending=False)"
   ]
  },
  {
   "cell_type": "code",
   "execution_count": null,
   "metadata": {},
   "outputs": [],
   "source": [
    "# TODO: Obter mensalidade de cada estado e se os estudantes terem tido acesso a internet durante a escola influencia"
   ]
  },
  {
   "cell_type": "code",
   "execution_count": 112,
   "metadata": {},
   "outputs": [
    {
     "data": {
      "text/html": [
       "<div>\n",
       "<style scoped>\n",
       "    .dataframe tbody tr th:only-of-type {\n",
       "        vertical-align: middle;\n",
       "    }\n",
       "\n",
       "    .dataframe tbody tr th {\n",
       "        vertical-align: top;\n",
       "    }\n",
       "\n",
       "    .dataframe thead th {\n",
       "        text-align: right;\n",
       "    }\n",
       "</style>\n",
       "<table border=\"1\" class=\"dataframe\">\n",
       "  <thead>\n",
       "    <tr style=\"text-align: right;\">\n",
       "      <th></th>\n",
       "      <th>estado</th>\n",
       "      <th>notabolsa</th>\n",
       "    </tr>\n",
       "  </thead>\n",
       "  <tbody>\n",
       "    <tr>\n",
       "      <th>1</th>\n",
       "      <td>MG</td>\n",
       "      <td>583</td>\n",
       "    </tr>\n",
       "    <tr>\n",
       "      <th>4</th>\n",
       "      <td>BA</td>\n",
       "      <td>571</td>\n",
       "    </tr>\n",
       "    <tr>\n",
       "      <th>3</th>\n",
       "      <td>RS</td>\n",
       "      <td>567</td>\n",
       "    </tr>\n",
       "    <tr>\n",
       "      <th>0</th>\n",
       "      <td>SP</td>\n",
       "      <td>551</td>\n",
       "    </tr>\n",
       "    <tr>\n",
       "      <th>5</th>\n",
       "      <td>SC</td>\n",
       "      <td>550</td>\n",
       "    </tr>\n",
       "    <tr>\n",
       "      <th>2</th>\n",
       "      <td>PR</td>\n",
       "      <td>545</td>\n",
       "    </tr>\n",
       "  </tbody>\n",
       "</table>\n",
       "</div>"
      ],
      "text/plain": [
       "  estado  notabolsa\n",
       "1     MG        583\n",
       "4     BA        571\n",
       "3     RS        567\n",
       "0     SP        551\n",
       "5     SC        550\n",
       "2     PR        545"
      ]
     },
     "execution_count": 112,
     "metadata": {},
     "output_type": "execute_result"
    }
   ],
   "source": [
    "stateslist = dfmaster.groupby(by='estado').size().sort_values(ascending=False).head(6).index\n",
    "sstates = pd.Series(stateslist).reset_index(drop=True)\n",
    "sstatesmensals = sstates.apply(lambda state: dfmaster.loc[dfmaster['estado'].apply(lambda estado: estado == state)]['nota_bolsa'].median())\n",
    "bestgrades = pd.DataFrame({\n",
    "    'estado': sstates,\n",
    "    'notabolsa': sstatesmensals.map(lambda x: round(x))\n",
    "})\n",
    "bestgrades.sort_values(by='notabolsa', ascending=False)"
   ]
  },
  {
   "cell_type": "code",
   "execution_count": null,
   "metadata": {},
   "outputs": [],
   "source": [
    "# TODO: Obter nota das bolsas de cada estado e se a qualidade da escola influencia"
   ]
  },
  {
   "cell_type": "code",
   "execution_count": 26,
   "metadata": {
    "pycharm": {
     "name": "#%%\n"
    }
   },
   "outputs": [
    {
     "data": {
      "text/plain": [
       "estado\n",
       "SP    7277\n",
       "MG    2586\n",
       "PR    2244\n",
       "RS    1891\n",
       "BA    1676\n",
       "SC    1139\n",
       "dtype: int64"
      ]
     },
     "execution_count": 26,
     "metadata": {},
     "output_type": "execute_result"
    }
   ],
   "source": [
    "dfmaster.groupby(by='estado').size().sort_values(ascending=False).head(6)"
   ]
  }
 ],
 "metadata": {
  "interpreter": {
   "hash": "737ded1b7130139c98941fe8735c597799a4df27f381bdac8d9bcef9ffcf7874"
  },
  "kernelspec": {
   "display_name": "Python 3.10.4 ('env': venv)",
   "language": "python",
   "name": "python3"
  },
  "language_info": {
   "codemirror_mode": {
    "name": "ipython",
    "version": 3
   },
   "file_extension": ".py",
   "mimetype": "text/x-python",
   "name": "python",
   "nbconvert_exporter": "python",
   "pygments_lexer": "ipython3",
   "version": "3.10.4"
  },
  "orig_nbformat": 4
 },
 "nbformat": 4,
 "nbformat_minor": 2
}
