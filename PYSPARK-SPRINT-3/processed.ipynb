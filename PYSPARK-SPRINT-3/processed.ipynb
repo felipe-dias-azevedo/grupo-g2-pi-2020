{
 "cells": [
  {
   "cell_type": "code",
   "execution_count": 1,
   "metadata": {
    "pycharm": {
     "name": "#%%\n"
    }
   },
   "outputs": [],
   "source": [
    "import pandas as pd\n",
    "from processing import Process\n",
    "\n",
    "procdata = Process()"
   ]
  },
  {
   "cell_type": "code",
   "execution_count": 2,
   "metadata": {
    "pycharm": {
     "name": "#%%\n"
    }
   },
   "outputs": [],
   "source": [
    "dftweet = pd.read_json('processed_data/twitter-results-2022-05-28_04-30-46.json')\n",
    "\n",
    "dfmaster = pd.read_csv('processed_data/prouni-processado.csv')"
   ]
  },
  {
   "cell_type": "code",
   "execution_count": 12,
   "metadata": {
    "pycharm": {
     "name": "#%%\n"
    }
   },
   "outputs": [
    {
     "name": "stdout",
     "output_type": "stream",
     "text": [
      "Index(['sentiment', 'positive', 'frequent', 'verified', 'date'], dtype='object')\n"
     ]
    },
    {
     "data": {
      "text/plain": [
       "sentiment    157\n",
       "positive     157\n",
       "frequent     157\n",
       "verified     157\n",
       "date         157\n",
       "dtype: int64"
      ]
     },
     "execution_count": 12,
     "metadata": {},
     "output_type": "execute_result"
    }
   ],
   "source": [
    "print(dftweet.columns)\n",
    "dftweet.count()\n",
    "dftweet[dftweet['positive']==True]\n",
    "dftweet[dftweet['verified']==True]\n",
    "dftweet[dftweet['sentiment']!=0.0].count()\n"
   ]
  },
  {
   "cell_type": "code",
   "execution_count": 7,
   "metadata": {
    "pycharm": {
     "name": "#%%\n"
    }
   },
   "outputs": [
    {
     "name": "stdout",
     "output_type": "stream",
     "text": [
      "Sem tratamento 1835\n",
      "Com tratamento 951\n"
     ]
    },
    {
     "data": {
      "text/plain": "       palavra  frequencia\n8       prouni         150\n50           q          45\n119        pra          39\n35   faculdade          27\n108        ter          23\n6           pq          21\n152       enem          21\n72       bolsa          19\n54           2          19\n211        100          17",
      "text/html": "<div>\n<style scoped>\n    .dataframe tbody tr th:only-of-type {\n        vertical-align: middle;\n    }\n\n    .dataframe tbody tr th {\n        vertical-align: top;\n    }\n\n    .dataframe thead th {\n        text-align: right;\n    }\n</style>\n<table border=\"1\" class=\"dataframe\">\n  <thead>\n    <tr style=\"text-align: right;\">\n      <th></th>\n      <th>palavra</th>\n      <th>frequencia</th>\n    </tr>\n  </thead>\n  <tbody>\n    <tr>\n      <th>8</th>\n      <td>prouni</td>\n      <td>150</td>\n    </tr>\n    <tr>\n      <th>50</th>\n      <td>q</td>\n      <td>45</td>\n    </tr>\n    <tr>\n      <th>119</th>\n      <td>pra</td>\n      <td>39</td>\n    </tr>\n    <tr>\n      <th>35</th>\n      <td>faculdade</td>\n      <td>27</td>\n    </tr>\n    <tr>\n      <th>108</th>\n      <td>ter</td>\n      <td>23</td>\n    </tr>\n    <tr>\n      <th>6</th>\n      <td>pq</td>\n      <td>21</td>\n    </tr>\n    <tr>\n      <th>152</th>\n      <td>enem</td>\n      <td>21</td>\n    </tr>\n    <tr>\n      <th>72</th>\n      <td>bolsa</td>\n      <td>19</td>\n    </tr>\n    <tr>\n      <th>54</th>\n      <td>2</td>\n      <td>19</td>\n    </tr>\n    <tr>\n      <th>211</th>\n      <td>100</td>\n      <td>17</td>\n    </tr>\n  </tbody>\n</table>\n</div>"
     },
     "execution_count": 7,
     "metadata": {},
     "output_type": "execute_result"
    }
   ],
   "source": [
    "tweets = dftweet['frequent'].agg('sum')\n",
    "twtts = procdata.freq_tweet(tweets)\n",
    "\n",
    "print(\"Sem tratamento\", len(twtts))\n",
    "\n",
    "tweetsfreq = pd.DataFrame(twtts, columns=['palavra', 'frequencia'])\\\n",
    "    .drop_duplicates(subset=['palavra'])\\\n",
    "    .sort_values(by=['frequencia'], ascending=False)\n",
    "\n",
    "print(\"Com tratamento\", tweetsfreq.__len__())\n",
    "tweetsfreq.head(10)"
   ]
  },
  {
   "cell_type": "code",
   "execution_count": 29,
   "outputs": [
    {
     "data": {
      "text/plain": "-0.06356319444444443"
     },
     "execution_count": 29,
     "metadata": {},
     "output_type": "execute_result"
    }
   ],
   "source": [
    "df = dftweet.copy()\n",
    "t = df['frequent']\n",
    "#[item for sublist in t for item in sublist if type(item) == str]\n",
    "\n",
    "df['frequent'] = procdata.words_in_tweet(t)\n",
    "df.head()\n",
    "\n",
    "df['sentiment'].count()\n",
    "# TODO: for each word in tweetsfreq['palavra'] get the value below and join to tweetsfreq's df\n",
    "w = \"prouni\"\n",
    "df.loc[df['frequent'].apply(lambda x: w in x)]['sentiment'].mean()"
   ],
   "metadata": {
    "collapsed": false,
    "pycharm": {
     "name": "#%%\n"
    }
   }
  },
  {
   "cell_type": "code",
   "execution_count": 4,
   "metadata": {
    "pycharm": {
     "name": "#%%\n"
    }
   },
   "outputs": [
    {
     "data": {
      "text/plain": [
       "estado\n",
       "RR      73\n",
       "AC     141\n",
       "AP     141\n",
       "TO     200\n",
       "AL     216\n",
       "SE     218\n",
       "RN     252\n",
       "PI     274\n",
       "AM     289\n",
       "RO     317\n",
       "PB     401\n",
       "MA     437\n",
       "MS     466\n",
       "ES     513\n",
       "CE     539\n",
       "MT     560\n",
       "PA     722\n",
       "PE     773\n",
       "DF     778\n",
       "GO     809\n",
       "RJ     924\n",
       "SC    1139\n",
       "BA    1676\n",
       "RS    1891\n",
       "PR    2244\n",
       "MG    2586\n",
       "SP    7277\n",
       "dtype: int64"
      ]
     },
     "execution_count": 4,
     "metadata": {},
     "output_type": "execute_result"
    }
   ],
   "source": [
    "dfmaster.groupby(by='estado').size().sort_values()"
   ]
  }
 ],
 "metadata": {
  "interpreter": {
   "hash": "737ded1b7130139c98941fe8735c597799a4df27f381bdac8d9bcef9ffcf7874"
  },
  "kernelspec": {
   "display_name": "Python 3.10.4 ('env': venv)",
   "language": "python",
   "name": "python3"
  },
  "language_info": {
   "codemirror_mode": {
    "name": "ipython",
    "version": 3
   },
   "file_extension": ".py",
   "mimetype": "text/x-python",
   "name": "python",
   "nbconvert_exporter": "python",
   "pygments_lexer": "ipython3",
   "version": "3.10.4"
  },
  "orig_nbformat": 4
 },
 "nbformat": 4,
 "nbformat_minor": 2
}