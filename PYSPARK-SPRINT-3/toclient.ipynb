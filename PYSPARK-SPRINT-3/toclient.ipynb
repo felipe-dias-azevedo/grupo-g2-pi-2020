{
 "cells": [
  {
   "cell_type": "code",
   "execution_count": 1,
   "metadata": {
    "collapsed": true,
    "pycharm": {
     "name": "#%%\n"
    }
   },
   "outputs": [],
   "source": [
    "from pyspark import SparkConf\n",
    "from pyspark.sql import SparkSession\n",
    "import ast\n",
    "import pandas as pd\n",
    "import processing as procdata\n",
    "\n",
    "conf = SparkConf()\n",
    "conf.set('spark.jars.packages', 'org.apache.hadoop:hadoop-aws:3.2.0')\n",
    "conf.set('spark.hadoop.fs.s3a.aws.credentials.provider', 'com.amazonaws.auth.InstanceProfileCredentialsProvider')\n",
    "spark = SparkSession.builder.config(conf=conf).getOrCreate()"
   ]
  },
  {
   "cell_type": "code",
   "execution_count": null,
   "metadata": {
    "collapsed": false,
    "pycharm": {
     "name": "#%%\n"
    }
   },
   "outputs": [],
   "source": [
    "# SPARK\n",
    "file_tweetspreproc = spark.read.csv('s3a://pi-g2-processado/spark-g2-tweets-preprocessado.csv', header=True).toPandas()\n",
    "file_prounipreproc = spark.read.csv('s3a://pi-g2-processado/spark-g2-prouni-preprocessado.csv', header=True).toPandas()"
   ]
  },
  {
   "cell_type": "code",
   "execution_count": 2,
   "metadata": {
    "collapsed": false,
    "pycharm": {
     "name": "#%%\n"
    }
   },
   "outputs": [],
   "source": [
    "# PANDAS\n",
    "file_tweetspreproc = pd.read_csv('processed_data/g2-tweets-preprocessado.csv')\n",
    "file_prounipreproc = pd.read_csv('processed_data/g2-prouni-preprocessado.csv')"
   ]
  },
  {
   "cell_type": "code",
   "execution_count": 3,
   "metadata": {
    "collapsed": false,
    "pycharm": {
     "name": "#%%\n"
    }
   },
   "outputs": [
    {
     "name": "stdout",
     "output_type": "stream",
     "text": [
      "25856 rows\n"
     ]
    },
    {
     "data": {
      "text/html": [
       "<div>\n",
       "<style scoped>\n",
       "    .dataframe tbody tr th:only-of-type {\n",
       "        vertical-align: middle;\n",
       "    }\n",
       "\n",
       "    .dataframe tbody tr th {\n",
       "        vertical-align: top;\n",
       "    }\n",
       "\n",
       "    .dataframe thead th {\n",
       "        text-align: right;\n",
       "    }\n",
       "</style>\n",
       "<table border=\"1\" class=\"dataframe\">\n",
       "  <thead>\n",
       "    <tr style=\"text-align: right;\">\n",
       "      <th></th>\n",
       "      <th>curso</th>\n",
       "      <th>estado</th>\n",
       "      <th>mensalidade</th>\n",
       "      <th>quantidade_bolsas</th>\n",
       "      <th>nota_bolsa</th>\n",
       "      <th>sexo</th>\n",
       "      <th>raca</th>\n",
       "      <th>deficiente</th>\n",
       "      <th>idade</th>\n",
       "      <th>esgoto_inexistente</th>\n",
       "      <th>energia_inexistente</th>\n",
       "      <th>agua_inexistente</th>\n",
       "      <th>acesso_internet</th>\n",
       "      <th>faz_exame_selecao</th>\n",
       "      <th>especializada_deficientes</th>\n",
       "      <th>ensino_tecnico</th>\n",
       "    </tr>\n",
       "  </thead>\n",
       "  <tbody>\n",
       "    <tr>\n",
       "      <th>13738</th>\n",
       "      <td>Pedagogia</td>\n",
       "      <td>SP</td>\n",
       "      <td>100</td>\n",
       "      <td>1</td>\n",
       "      <td>580</td>\n",
       "      <td>Feminino</td>\n",
       "      <td>Preta</td>\n",
       "      <td>Não</td>\n",
       "      <td>24</td>\n",
       "      <td>Não</td>\n",
       "      <td>Não</td>\n",
       "      <td>Não</td>\n",
       "      <td>Sim</td>\n",
       "      <td>Não</td>\n",
       "      <td>Sim</td>\n",
       "      <td>Não</td>\n",
       "    </tr>\n",
       "    <tr>\n",
       "      <th>23710</th>\n",
       "      <td>Pedagogia</td>\n",
       "      <td>SP</td>\n",
       "      <td>100</td>\n",
       "      <td>5</td>\n",
       "      <td>540</td>\n",
       "      <td>Feminino</td>\n",
       "      <td>Branca</td>\n",
       "      <td>Não</td>\n",
       "      <td>30</td>\n",
       "      <td>Não</td>\n",
       "      <td>Não</td>\n",
       "      <td>Não</td>\n",
       "      <td>Sim</td>\n",
       "      <td>Não</td>\n",
       "      <td>Não</td>\n",
       "      <td>Não</td>\n",
       "    </tr>\n",
       "    <tr>\n",
       "      <th>7454</th>\n",
       "      <td>Design Gráfico</td>\n",
       "      <td>SP</td>\n",
       "      <td>600</td>\n",
       "      <td>1</td>\n",
       "      <td>580</td>\n",
       "      <td>Feminino</td>\n",
       "      <td>Parda</td>\n",
       "      <td>Não</td>\n",
       "      <td>24</td>\n",
       "      <td>Não</td>\n",
       "      <td>Não</td>\n",
       "      <td>Não</td>\n",
       "      <td>Sim</td>\n",
       "      <td>Não</td>\n",
       "      <td>Sim</td>\n",
       "      <td>Não</td>\n",
       "    </tr>\n",
       "    <tr>\n",
       "      <th>25825</th>\n",
       "      <td>Sociologia</td>\n",
       "      <td>SP</td>\n",
       "      <td>100</td>\n",
       "      <td>1</td>\n",
       "      <td>530</td>\n",
       "      <td>Masculino</td>\n",
       "      <td>Preta</td>\n",
       "      <td>Não</td>\n",
       "      <td>34</td>\n",
       "      <td>Não</td>\n",
       "      <td>Não</td>\n",
       "      <td>Não</td>\n",
       "      <td>Sim</td>\n",
       "      <td>Não</td>\n",
       "      <td>Sim</td>\n",
       "      <td>Não</td>\n",
       "    </tr>\n",
       "    <tr>\n",
       "      <th>5060</th>\n",
       "      <td>Engenharia Mecânica</td>\n",
       "      <td>PB</td>\n",
       "      <td>600</td>\n",
       "      <td>49</td>\n",
       "      <td>450</td>\n",
       "      <td>Masculino</td>\n",
       "      <td>Parda</td>\n",
       "      <td>Não</td>\n",
       "      <td>26</td>\n",
       "      <td>Não</td>\n",
       "      <td>Não</td>\n",
       "      <td>Não</td>\n",
       "      <td>Sim</td>\n",
       "      <td>Não</td>\n",
       "      <td>Não</td>\n",
       "      <td>Não</td>\n",
       "    </tr>\n",
       "  </tbody>\n",
       "</table>\n",
       "</div>"
      ],
      "text/plain": [
       "                     curso estado  mensalidade  quantidade_bolsas  nota_bolsa  \\\n",
       "13738            Pedagogia     SP          100                  1         580   \n",
       "23710            Pedagogia     SP          100                  5         540   \n",
       "7454        Design Gráfico     SP          600                  1         580   \n",
       "25825           Sociologia     SP          100                  1         530   \n",
       "5060   Engenharia Mecânica     PB          600                 49         450   \n",
       "\n",
       "            sexo    raca deficiente  idade esgoto_inexistente  \\\n",
       "13738   Feminino   Preta        Não     24                Não   \n",
       "23710   Feminino  Branca        Não     30                Não   \n",
       "7454    Feminino   Parda        Não     24                Não   \n",
       "25825  Masculino   Preta        Não     34                Não   \n",
       "5060   Masculino   Parda        Não     26                Não   \n",
       "\n",
       "      energia_inexistente agua_inexistente acesso_internet faz_exame_selecao  \\\n",
       "13738                 Não              Não             Sim               Não   \n",
       "23710                 Não              Não             Sim               Não   \n",
       "7454                  Não              Não             Sim               Não   \n",
       "25825                 Não              Não             Sim               Não   \n",
       "5060                  Não              Não             Sim               Não   \n",
       "\n",
       "      especializada_deficientes ensino_tecnico  \n",
       "13738                       Sim            Não  \n",
       "23710                       Não            Não  \n",
       "7454                        Sim            Não  \n",
       "25825                       Sim            Não  \n",
       "5060                        Não            Não  "
      ]
     },
     "execution_count": 3,
     "metadata": {},
     "output_type": "execute_result"
    }
   ],
   "source": [
    "dfprouni = pd.DataFrame({\n",
    "    'curso': file_prounipreproc['curso'],\n",
    "    'estado': file_prounipreproc['estado'],\n",
    "    'mensalidade': file_prounipreproc['mensalidade'].map(lambda val: procdata.round_range(val, start=100, stop=15_000, step=500)),\n",
    "    'quantidade_bolsas': file_prounipreproc['quantidade_bolsas'].map(lambda qtd: procdata.round_range(qtd, start=1, stop=500, step=2)),\n",
    "    'nota_bolsa': file_prounipreproc['nota_bolsa'].map(lambda nota: procdata.round_range(nota, start=10, stop=1_000, step=10)),\n",
    "    'sexo': file_prounipreproc['sexo'].map(lambda sexo: 'Masculino' if sexo == 'M' else 'Feminino'),\n",
    "    'raca': file_prounipreproc['raca'].map(lambda raca: 'Outro' if raca not in ['Parda', 'Branca', 'Preta'] else raca),\n",
    "    'deficiente': file_prounipreproc['deficiente'].map(lambda deficiente: 'Sim' if deficiente == 'S' else 'Não'),\n",
    "    'idade': file_prounipreproc['idade'].map(lambda idade: procdata.round_range(procdata.get_age_from_birthdate(idade), start=16, stop=90, step=2)),\n",
    "    'esgoto_inexistente': file_prounipreproc['esgoto_inexistente'].map(procdata.get_label_from_floatbool),\n",
    "    'energia_inexistente': file_prounipreproc['energia_inexistente'].map(procdata.get_label_from_floatbool),\n",
    "    'agua_inexistente': file_prounipreproc['agua_inexistente'].map(procdata.get_label_from_floatbool),\n",
    "    'acesso_internet': file_prounipreproc['acesso_internet'].map(procdata.get_label_from_floatbool),\n",
    "    'faz_exame_selecao': file_prounipreproc['faz_exame_selecao'].map(procdata.get_label_from_floatbool),\n",
    "    'especializada_deficientes': file_prounipreproc['especializada_deficientes'].map(procdata.get_label_from_floatbool),\n",
    "    'ensino_tecnico': file_prounipreproc['ensino_tecnico'].map(procdata.get_label_from_floatbool)\n",
    "})\n",
    "print(dfprouni.__len__(), \"rows\")\n",
    "dfprouni.sample(n=5)"
   ]
  },
  {
   "cell_type": "code",
   "execution_count": 4,
   "metadata": {
    "collapsed": false,
    "pycharm": {
     "name": "#%%\n"
    }
   },
   "outputs": [],
   "source": [
    "file_tweetspreproc[\"date\"] = file_tweetspreproc[\"date\"].map(procdata.get_date)\n",
    "file_tweetspreproc[\"frequent\"] = file_tweetspreproc[\"frequent\"].map(ast.literal_eval)"
   ]
  },
  {
   "cell_type": "code",
   "execution_count": 5,
   "metadata": {
    "collapsed": false,
    "pycharm": {
     "name": "#%%\n"
    }
   },
   "outputs": [
    {
     "name": "stdout",
     "output_type": "stream",
     "text": [
      "Sem tratamento 1835\n",
      "Com tratamento 951\n"
     ]
    },
    {
     "data": {
      "text/html": [
       "<div>\n",
       "<style scoped>\n",
       "    .dataframe tbody tr th:only-of-type {\n",
       "        vertical-align: middle;\n",
       "    }\n",
       "\n",
       "    .dataframe tbody tr th {\n",
       "        vertical-align: top;\n",
       "    }\n",
       "\n",
       "    .dataframe thead th {\n",
       "        text-align: right;\n",
       "    }\n",
       "</style>\n",
       "<table border=\"1\" class=\"dataframe\">\n",
       "  <thead>\n",
       "    <tr style=\"text-align: right;\">\n",
       "      <th></th>\n",
       "      <th>palavra</th>\n",
       "      <th>frequencia</th>\n",
       "      <th>sentimento</th>\n",
       "    </tr>\n",
       "  </thead>\n",
       "  <tbody>\n",
       "    <tr>\n",
       "      <th>0</th>\n",
       "      <td>prouni</td>\n",
       "      <td>150</td>\n",
       "      <td>Negativo</td>\n",
       "    </tr>\n",
       "    <tr>\n",
       "      <th>1</th>\n",
       "      <td>q</td>\n",
       "      <td>45</td>\n",
       "      <td>Negativo</td>\n",
       "    </tr>\n",
       "    <tr>\n",
       "      <th>2</th>\n",
       "      <td>pra</td>\n",
       "      <td>39</td>\n",
       "      <td>Negativo</td>\n",
       "    </tr>\n",
       "    <tr>\n",
       "      <th>3</th>\n",
       "      <td>faculdade</td>\n",
       "      <td>27</td>\n",
       "      <td>Negativo</td>\n",
       "    </tr>\n",
       "    <tr>\n",
       "      <th>4</th>\n",
       "      <td>ter</td>\n",
       "      <td>23</td>\n",
       "      <td>Positivo</td>\n",
       "    </tr>\n",
       "  </tbody>\n",
       "</table>\n",
       "</div>"
      ],
      "text/plain": [
       "     palavra  frequencia sentimento\n",
       "0     prouni         150   Negativo\n",
       "1          q          45   Negativo\n",
       "2        pra          39   Negativo\n",
       "3  faculdade          27   Negativo\n",
       "4        ter          23   Positivo"
      ]
     },
     "execution_count": 5,
     "metadata": {},
     "output_type": "execute_result"
    }
   ],
   "source": [
    "tweets = file_tweetspreproc['frequent'].agg('sum')\n",
    "twtts = procdata.freq_tweet(tweets)\n",
    "\n",
    "print(\"Sem tratamento\", len(twtts))\n",
    "\n",
    "tweetwordfreq = pd.DataFrame(twtts, columns=['palavra', 'frequencia'])\\\n",
    "    .drop_duplicates(subset=['palavra'])\\\n",
    "    .sort_values(by=['frequencia'], ascending=False)\n",
    "\n",
    "print(\"Com tratamento\", tweetwordfreq.__len__())\n",
    "\n",
    "tempdftweets = file_tweetspreproc.copy()\n",
    "tempdftweets['frequent'] = procdata.words_in_tweet(tempdftweets['frequent'])\n",
    "\n",
    "tweetwordfreq['sentimento'] = tweetwordfreq['palavra'].apply(lambda w: procdata.get_sentiment_of_value(tempdftweets, w))\n",
    "tweetwordfreq = tweetwordfreq.reset_index(drop=True)\n",
    "tweetwordfreq.head()"
   ]
  },
  {
   "cell_type": "code",
   "execution_count": 6,
   "metadata": {
    "collapsed": false,
    "pycharm": {
     "name": "#%%\n"
    }
   },
   "outputs": [
    {
     "data": {
      "text/html": [
       "<div>\n",
       "<style scoped>\n",
       "    .dataframe tbody tr th:only-of-type {\n",
       "        vertical-align: middle;\n",
       "    }\n",
       "\n",
       "    .dataframe tbody tr th {\n",
       "        vertical-align: top;\n",
       "    }\n",
       "\n",
       "    .dataframe thead th {\n",
       "        text-align: right;\n",
       "    }\n",
       "</style>\n",
       "<table border=\"1\" class=\"dataframe\">\n",
       "  <thead>\n",
       "    <tr style=\"text-align: right;\">\n",
       "      <th></th>\n",
       "      <th>data</th>\n",
       "      <th>sentimento</th>\n",
       "      <th>palavra</th>\n",
       "    </tr>\n",
       "  </thead>\n",
       "  <tbody>\n",
       "    <tr>\n",
       "      <th>0</th>\n",
       "      <td>2022-05-24</td>\n",
       "      <td>0.027600</td>\n",
       "      <td>passei, terceira, chamada</td>\n",
       "    </tr>\n",
       "    <tr>\n",
       "      <th>1</th>\n",
       "      <td>2022-05-23</td>\n",
       "      <td>-0.170030</td>\n",
       "      <td>papel, fies, prouni</td>\n",
       "    </tr>\n",
       "    <tr>\n",
       "      <th>2</th>\n",
       "      <td>2022-05-22</td>\n",
       "      <td>-0.249757</td>\n",
       "      <td>23, anos, 4</td>\n",
       "    </tr>\n",
       "    <tr>\n",
       "      <th>3</th>\n",
       "      <td>2022-05-21</td>\n",
       "      <td>0.151621</td>\n",
       "      <td>ensino, médio, pra</td>\n",
       "    </tr>\n",
       "    <tr>\n",
       "      <th>4</th>\n",
       "      <td>2022-05-20</td>\n",
       "      <td>-0.111908</td>\n",
       "      <td>so, qria, saber</td>\n",
       "    </tr>\n",
       "    <tr>\n",
       "      <th>5</th>\n",
       "      <td>2022-05-19</td>\n",
       "      <td>-0.204446</td>\n",
       "      <td>vamo, anuncia, logo</td>\n",
       "    </tr>\n",
       "    <tr>\n",
       "      <th>6</th>\n",
       "      <td>2022-05-18</td>\n",
       "      <td>-0.035032</td>\n",
       "      <td>impressionante, alunos, prouni</td>\n",
       "    </tr>\n",
       "    <tr>\n",
       "      <th>7</th>\n",
       "      <td>2022-05-17</td>\n",
       "      <td>-0.083629</td>\n",
       "      <td>rede, diria, né</td>\n",
       "    </tr>\n",
       "  </tbody>\n",
       "</table>\n",
       "</div>"
      ],
      "text/plain": [
       "         data  sentimento                         palavra\n",
       "0  2022-05-24    0.027600       passei, terceira, chamada\n",
       "1  2022-05-23   -0.170030             papel, fies, prouni\n",
       "2  2022-05-22   -0.249757                     23, anos, 4\n",
       "3  2022-05-21    0.151621              ensino, médio, pra\n",
       "4  2022-05-20   -0.111908                 so, qria, saber\n",
       "5  2022-05-19   -0.204446             vamo, anuncia, logo\n",
       "6  2022-05-18   -0.035032  impressionante, alunos, prouni\n",
       "7  2022-05-17   -0.083629                 rede, diria, né"
      ]
     },
     "execution_count": 6,
     "metadata": {},
     "output_type": "execute_result"
    }
   ],
   "source": [
    "dftweetspreproc = file_tweetspreproc.drop(file_tweetspreproc[file_tweetspreproc[\"sentiment\"] == 0].index)\n",
    "sdates = file_tweetspreproc['date'].map(lambda x: x.date()).drop_duplicates().reset_index(drop=True)\n",
    "ssentdate = sdates.apply(lambda sd: dftweetspreproc.loc[dftweetspreproc['date'].apply(lambda d: d.date() == sd)]['sentiment'].mean())\n",
    "threebest = sdates.apply(lambda sd: file_tweetspreproc.loc[file_tweetspreproc['date'].apply(lambda d: d.date() == sd)]['frequent'].agg('sum'))\n",
    "tweetsdayfreq = pd.DataFrame({\n",
    "    'data': sdates,\n",
    "    'sentimento': ssentdate,\n",
    "    'palavra': threebest.map(procdata.freq_tweet_day)\n",
    "})\n",
    "tweetsdayfreq"
   ]
  },
  {
   "cell_type": "code",
   "execution_count": null,
   "metadata": {
    "collapsed": false,
    "pycharm": {
     "name": "#%%\n"
    }
   },
   "outputs": [],
   "source": [
    "# SPARK\n",
    "spark.createDataFrame(dfprouni).write.csv('s3a://pi-g2-cliente/spark-prouni.csv', header=True)\n",
    "spark.createDataFrame(tweetwordfreq).write.csv('s3a://pi-g2-cliente/spark-tweets-wordfreq.csv', header=True)\n",
    "spark.createDataFrame(tweetsdayfreq).write.csv('s3a://pi-g2-cliente/spark-tweets-worddaysfreq.csv', header=True)"
   ]
  },
  {
   "cell_type": "code",
   "execution_count": 7,
   "metadata": {
    "collapsed": false,
    "pycharm": {
     "name": "#%%\n"
    }
   },
   "outputs": [],
   "source": [
    "# PANDAS\n",
    "dfprouni.to_csv(\"client_data/prouni.csv\")\n",
    "tweetwordfreq.to_csv(\"client_data/tweets-wordfreq.csv\")\n",
    "tweetsdayfreq.to_csv(\"client_data/tweets-worddaysfreq.csv\")"
   ]
  }
 ],
 "metadata": {
  "kernelspec": {
   "display_name": "Python 3",
   "language": "python",
   "name": "python3"
  },
  "language_info": {
   "codemirror_mode": {
    "name": "ipython",
    "version": 2
   },
   "file_extension": ".py",
   "mimetype": "text/x-python",
   "name": "python",
   "nbconvert_exporter": "python",
   "pygments_lexer": "ipython2",
   "version": "2.7.6"
  }
 },
 "nbformat": 4,
 "nbformat_minor": 0
}
