{
 "cells": [
  {
   "cell_type": "code",
   "execution_count": 12,
   "metadata": {
    "collapsed": true,
    "pycharm": {
     "name": "#%%\n"
    }
   },
   "outputs": [],
   "source": [
    "import pandas as pd\n",
    "import processing as procdata\n"
   ]
  },
  {
   "cell_type": "code",
   "execution_count": 13,
   "outputs": [],
   "source": [
    "dftweets = pd.read_json('processed_data/twitter-results-2022-05-28_04-30-46.json')\n",
    "\n",
    "file_prounipreproc = pd.read_csv('processed_data/g2-prouni-preprocessado.csv')"
   ],
   "metadata": {
    "collapsed": false,
    "pycharm": {
     "name": "#%%\n"
    }
   }
  },
  {
   "cell_type": "code",
   "execution_count": 14,
   "outputs": [
    {
     "name": "stdout",
     "output_type": "stream",
     "text": [
      "25856 rows\n"
     ]
    },
    {
     "data": {
      "text/plain": "                    curso estado  mensalidade  quantidade_bolsas  nota_bolsa  \\\n14654           Pedagogia     PR          100                  3         570   \n11471            Nutrição     PE          600                  1         590   \n24156           Geografia     GO          100                  1         540   \n3154   Ciências Contábeis     SP         1100                  1         580   \n25838    Gestão Comercial     SP          100                  1         450   \n\n            sexo    raca deficiente  idade esgoto_inexistente  \\\n14654   Feminino  Branca        Não     22                Não   \n11471   Feminino   Parda        Não     22                Não   \n24156  Masculino   Preta        Não     32                Não   \n3154    Feminino  Branca        Não     22                Não   \n25838  Masculino   Preta        Não     22                Não   \n\n      energia_inexistente agua_inexistente acesso_internet faz_exame_selecao  \\\n14654                 Não              Não             Sim               Não   \n11471                 Não              Não             Sim               Não   \n24156                 Não              Não             Sim               Não   \n3154                  Não              Não             Sim               Sim   \n25838                 Não              Não             Sim               Não   \n\n      especializada_deficientes ensino_tecnico  \n14654                       Sim            Não  \n11471                       Sim            Não  \n24156                       Não            Não  \n3154                        Sim            Não  \n25838                       Sim            Não  ",
      "text/html": "<div>\n<style scoped>\n    .dataframe tbody tr th:only-of-type {\n        vertical-align: middle;\n    }\n\n    .dataframe tbody tr th {\n        vertical-align: top;\n    }\n\n    .dataframe thead th {\n        text-align: right;\n    }\n</style>\n<table border=\"1\" class=\"dataframe\">\n  <thead>\n    <tr style=\"text-align: right;\">\n      <th></th>\n      <th>curso</th>\n      <th>estado</th>\n      <th>mensalidade</th>\n      <th>quantidade_bolsas</th>\n      <th>nota_bolsa</th>\n      <th>sexo</th>\n      <th>raca</th>\n      <th>deficiente</th>\n      <th>idade</th>\n      <th>esgoto_inexistente</th>\n      <th>energia_inexistente</th>\n      <th>agua_inexistente</th>\n      <th>acesso_internet</th>\n      <th>faz_exame_selecao</th>\n      <th>especializada_deficientes</th>\n      <th>ensino_tecnico</th>\n    </tr>\n  </thead>\n  <tbody>\n    <tr>\n      <th>14654</th>\n      <td>Pedagogia</td>\n      <td>PR</td>\n      <td>100</td>\n      <td>3</td>\n      <td>570</td>\n      <td>Feminino</td>\n      <td>Branca</td>\n      <td>Não</td>\n      <td>22</td>\n      <td>Não</td>\n      <td>Não</td>\n      <td>Não</td>\n      <td>Sim</td>\n      <td>Não</td>\n      <td>Sim</td>\n      <td>Não</td>\n    </tr>\n    <tr>\n      <th>11471</th>\n      <td>Nutrição</td>\n      <td>PE</td>\n      <td>600</td>\n      <td>1</td>\n      <td>590</td>\n      <td>Feminino</td>\n      <td>Parda</td>\n      <td>Não</td>\n      <td>22</td>\n      <td>Não</td>\n      <td>Não</td>\n      <td>Não</td>\n      <td>Sim</td>\n      <td>Não</td>\n      <td>Sim</td>\n      <td>Não</td>\n    </tr>\n    <tr>\n      <th>24156</th>\n      <td>Geografia</td>\n      <td>GO</td>\n      <td>100</td>\n      <td>1</td>\n      <td>540</td>\n      <td>Masculino</td>\n      <td>Preta</td>\n      <td>Não</td>\n      <td>32</td>\n      <td>Não</td>\n      <td>Não</td>\n      <td>Não</td>\n      <td>Sim</td>\n      <td>Não</td>\n      <td>Não</td>\n      <td>Não</td>\n    </tr>\n    <tr>\n      <th>3154</th>\n      <td>Ciências Contábeis</td>\n      <td>SP</td>\n      <td>1100</td>\n      <td>1</td>\n      <td>580</td>\n      <td>Feminino</td>\n      <td>Branca</td>\n      <td>Não</td>\n      <td>22</td>\n      <td>Não</td>\n      <td>Não</td>\n      <td>Não</td>\n      <td>Sim</td>\n      <td>Sim</td>\n      <td>Sim</td>\n      <td>Não</td>\n    </tr>\n    <tr>\n      <th>25838</th>\n      <td>Gestão Comercial</td>\n      <td>SP</td>\n      <td>100</td>\n      <td>1</td>\n      <td>450</td>\n      <td>Masculino</td>\n      <td>Preta</td>\n      <td>Não</td>\n      <td>22</td>\n      <td>Não</td>\n      <td>Não</td>\n      <td>Não</td>\n      <td>Sim</td>\n      <td>Não</td>\n      <td>Sim</td>\n      <td>Não</td>\n    </tr>\n  </tbody>\n</table>\n</div>"
     },
     "execution_count": 14,
     "metadata": {},
     "output_type": "execute_result"
    }
   ],
   "source": [
    "dfprouni = pd.DataFrame({\n",
    "    'curso': file_prounipreproc['curso'],\n",
    "    'estado': file_prounipreproc['estado'],\n",
    "    'mensalidade': file_prounipreproc['mensalidade'].map(lambda val: procdata.round_range(val, start=100, stop=15_000, step=500)),\n",
    "    'quantidade_bolsas': file_prounipreproc['quantidade_bolsas'].map(lambda qtd: procdata.round_range(qtd, start=1, stop=500, step=2)),\n",
    "    'nota_bolsa': file_prounipreproc['nota_bolsa'].map(lambda nota: procdata.round_range(nota, start=10, stop=1_000, step=10)),\n",
    "    'sexo': file_prounipreproc['sexo'].map(lambda sexo: 'Masculino' if sexo == 'M' else 'Feminino'),\n",
    "    'raca': file_prounipreproc['raca'].map(lambda raca: 'Outro' if raca not in ['Parda', 'Branca', 'Preta'] else raca),\n",
    "    'deficiente': file_prounipreproc['deficiente'].map(lambda deficiente: 'Sim' if deficiente == 'S' else 'Não'),\n",
    "    'idade': file_prounipreproc['idade'].map(lambda idade: procdata.round_range(procdata.get_age_from_birthdate(idade), start=16, stop=90, step=2)),\n",
    "    'esgoto_inexistente': file_prounipreproc['esgoto_inexistente'].map(procdata.get_label_from_floatbool),\n",
    "    'energia_inexistente': file_prounipreproc['energia_inexistente'].map(procdata.get_label_from_floatbool),\n",
    "    'agua_inexistente': file_prounipreproc['agua_inexistente'].map(procdata.get_label_from_floatbool),\n",
    "    'acesso_internet': file_prounipreproc['acesso_internet'].map(procdata.get_label_from_floatbool),\n",
    "    'faz_exame_selecao': file_prounipreproc['faz_exame_selecao'].map(procdata.get_label_from_floatbool),\n",
    "    'especializada_deficientes': file_prounipreproc['especializada_deficientes'].map(procdata.get_label_from_floatbool),\n",
    "    'ensino_tecnico': file_prounipreproc['ensino_tecnico'].map(procdata.get_label_from_floatbool)\n",
    "})\n",
    "print(dfprouni.__len__(), \"rows\")\n",
    "dfprouni.sample(n=5)"
   ],
   "metadata": {
    "collapsed": false,
    "pycharm": {
     "name": "#%%\n"
    }
   }
  }
 ],
 "metadata": {
  "kernelspec": {
   "display_name": "Python 3",
   "language": "python",
   "name": "python3"
  },
  "language_info": {
   "codemirror_mode": {
    "name": "ipython",
    "version": 2
   },
   "file_extension": ".py",
   "mimetype": "text/x-python",
   "name": "python",
   "nbconvert_exporter": "python",
   "pygments_lexer": "ipython2",
   "version": "2.7.6"
  }
 },
 "nbformat": 4,
 "nbformat_minor": 0
}