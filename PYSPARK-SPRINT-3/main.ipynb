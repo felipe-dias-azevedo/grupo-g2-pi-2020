{
 "cells": [
  {
   "cell_type": "code",
   "execution_count": null,
   "outputs": [
    {
     "name": "stderr",
     "output_type": "stream",
     "text": [
      "/var/folders/90/4r9_jk_s59n2616g7y9snmn00000gn/T/ipykernel_25554/1197519777.py:5: DtypeWarning: Columns (27) have mixed types. Specify dtype option on import or set low_memory=False.\n",
      "  edbasicacsv = pd.read_csv(\"pure_data/microdados_ed_basica_2021.csv\", sep=\";\", encoding='latin-1')\n"
     ]
    }
   ],
   "source": [
    "import pandas as pd\n",
    "\n",
    "\n",
    "addprounicsv = pd.read_csv(\"pure_data/pda-prouni.csv\", sep=';')\n",
    "edbasicacsv = pd.read_csv(\"pure_data/microdados_ed_basica_2021.csv\", sep=\";\", encoding='latin-1')\n",
    "\n",
    "addprounicsv.to_json(\"pure_data/prouni.json\")\n",
    "edbasicacsv.to_xml(\"pure_data/edbasica.xml\")"
   ],
   "metadata": {
    "collapsed": false,
    "pycharm": {
     "name": "#%%\n",
     "is_executing": true
    }
   }
  },
  {
   "cell_type": "code",
   "execution_count": null,
   "outputs": [],
   "source": [
    "geralprouni = pd.read_csv(\"pure_data/GERAL-cursos-prouni.csv\")\n",
    "addprouni = pd.read_json(\"pure_data/prouni.json\")\n",
    "edbasica = pd.read_xml(\"pure_data/edbasica.xml\")"
   ],
   "metadata": {
    "collapsed": false,
    "pycharm": {
     "name": "#%%\n"
    }
   }
  },
  {
   "cell_type": "code",
   "execution_count": 14,
   "outputs": [
    {
     "data": {
      "text/plain": "0.7777777777777778"
     },
     "execution_count": 14,
     "metadata": {},
     "output_type": "execute_result"
    }
   ],
   "source": [
    "from datetime import datetime\n",
    "# dateparsed = datetime.strptime(date[:-5], \"%Y-%m-%dT%H:%M:%S\")\n",
    "\n",
    "from difflib import SequenceMatcher\n",
    "sm = SequenceMatcher(None, \"S@o Pa*lo\", \"São Paulo\")\n",
    "sm.ratio()"
   ],
   "metadata": {
    "collapsed": false,
    "pycharm": {
     "name": "#%%\n"
    }
   }
  },
  {
   "cell_type": "code",
   "execution_count": null,
   "outputs": [],
   "source": [],
   "metadata": {
    "collapsed": false,
    "pycharm": {
     "name": "#%%\n"
    }
   }
  }
 ],
 "metadata": {
  "kernelspec": {
   "display_name": "Python 3",
   "language": "python",
   "name": "python3"
  },
  "language_info": {
   "codemirror_mode": {
    "name": "ipython",
    "version": 2
   },
   "file_extension": ".py",
   "mimetype": "text/x-python",
   "name": "python",
   "nbconvert_exporter": "python",
   "pygments_lexer": "ipython2",
   "version": "2.7.6"
  }
 },
 "nbformat": 4,
 "nbformat_minor": 0
}