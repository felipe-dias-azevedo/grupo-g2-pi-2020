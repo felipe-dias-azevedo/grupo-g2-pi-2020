{
 "cells": [
  {
   "cell_type": "code",
   "execution_count": 7,
   "metadata": {
    "collapsed": true,
    "pycharm": {
     "name": "#%%\n"
    }
   },
   "outputs": [],
   "source": [
    "import pandas as pd\n",
    "from pyspark import SparkConf\n",
    "from pyspark.sql import SparkSession\n",
    "\n",
    "from dotenv import load_dotenv\n",
    "from os import getenv\n",
    "\n",
    "load_dotenv()\n",
    "sql_server = getenv('SQL_SERVER')\n",
    "sql_database = getenv('SQL_DATABASE')\n",
    "sql_user = getenv('SQL_USER')\n",
    "sql_password = getenv('SQL_PASSWD')\n",
    "\n",
    "conf = SparkConf()\n",
    "conf.set('spark.jars.packages', 'org.apache.hadoop:hadoop-aws:3.2.2,com.microsoft.azure:spark-mssql-connector_2.12:1.2.0')\n",
    "conf.set('spark.hadoop.fs.s3a.aws.credentials.provider', 'com.amazonaws.auth.InstanceProfileCredentialsProvider')\n",
    "spark = SparkSession.builder.config(conf=conf).getOrCreate()"
   ]
  },
  {
   "cell_type": "code",
   "execution_count": null,
   "metadata": {},
   "outputs": [],
   "source": [
    "# SPARK\n",
    "dfsprouni = spark.read.csv(\"s3a://pi-g2-cliente/spark-prouni.csv\", header=True)\n",
    "dfstwdayfreq = spark.read.csv(\"s3a://pi-g2-cliente/spark-tweets-wordfreq.csv\", header=True)\n",
    "dfstwfreq = spark.read.csv(\"s3a://pi-g2-cliente/spark-tweets-worddaysfreq.csv\", header=True)"
   ]
  },
  {
   "cell_type": "code",
   "execution_count": 8,
   "metadata": {},
   "outputs": [],
   "source": [
    "# PANDAS\n",
    "dfprouni = pd.read_csv(\"client_data/prouni.csv\")\n",
    "dftwdayfreq = pd.read_csv(\"client_data/tweets-worddaysfreq.csv\")\n",
    "dftwfreq = pd.read_csv(\"client_data/tweets-wordfreq.csv\")\n",
    "dfsprouni = spark.createDataFrame(dfprouni)\n",
    "dfstwdayfreq = spark.createDataFrame(dftwdayfreq)\n",
    "dfstwfreq = spark.createDataFrame(dftwfreq)"
   ]
  },
  {
   "cell_type": "code",
   "execution_count": 9,
   "metadata": {},
   "outputs": [
    {
     "name": "stderr",
     "output_type": "stream",
     "text": [
      "                                                                                \r"
     ]
    }
   ],
   "source": [
    "def write_to_azure(df, table: str):\n",
    "    df.write \\\n",
    "    .format('com.microsoft.sqlserver.jdbc.spark') \\\n",
    "    .mode('overwrite') \\\n",
    "    .option('driver', 'com.microsoft.sqlserver.jdbc.SQLServerDriver') \\\n",
    "    .option('url', f'jdbc:sqlserver://{sql_server};databaseName={sql_database};') \\\n",
    "    .option('dbtable', table) \\\n",
    "    .option('user', sql_user) \\\n",
    "    .option('password', sql_password) \\\n",
    "    .save()\n",
    "\n",
    "write_to_azure(dfsprouni, 'PROUNI')\n",
    "write_to_azure(dfstwdayfreq, 'TWEET_DAYFREQ')\n",
    "write_to_azure(dfstwfreq, 'TWEET_WORDFREQ')"
   ]
  }
 ],
 "metadata": {
  "interpreter": {
   "hash": "737ded1b7130139c98941fe8735c597799a4df27f381bdac8d9bcef9ffcf7874"
  },
  "kernelspec": {
   "display_name": "Python 3.10.4 ('env': venv)",
   "language": "python",
   "name": "python3"
  },
  "language_info": {
   "codemirror_mode": {
    "name": "ipython",
    "version": 3
   },
   "file_extension": ".py",
   "mimetype": "text/x-python",
   "name": "python",
   "nbconvert_exporter": "python",
   "pygments_lexer": "ipython3",
   "version": "3.10.4"
  }
 },
 "nbformat": 4,
 "nbformat_minor": 0
}
