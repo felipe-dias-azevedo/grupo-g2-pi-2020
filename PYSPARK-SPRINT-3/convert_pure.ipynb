{
 "cells": [
  {
   "cell_type": "code",
   "execution_count": null,
   "metadata": {},
   "outputs": [],
   "source": [
    "import pandas as pd"
   ]
  },
  {
   "cell_type": "markdown",
   "metadata": {},
   "source": [
    "# CONVERT FILES FROM CSV TO JSON AND XML"
   ]
  },
  {
   "cell_type": "code",
   "execution_count": null,
   "metadata": {},
   "outputs": [],
   "source": [
    "\n",
    "\n",
    "geralprounicsv = pd.read_csv(\"pure_data/GERAL-cursos-prouni.csv\")\n",
    "addprounicsv = pd.read_csv(\"pure_data/pda-prouni.csv\", sep=';')\n",
    "\n",
    "geralprounicsv.to_xml(\"pure_data/geralprouni.xml\")\n",
    "addprounicsv.to_json(\"pure_data/prouni.json\")"
   ]
  }
 ],
 "metadata": {
  "language_info": {
   "name": "python"
  },
  "orig_nbformat": 4
 },
 "nbformat": 4,
 "nbformat_minor": 2
}
